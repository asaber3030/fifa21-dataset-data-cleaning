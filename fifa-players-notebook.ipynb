{
 "cells": [
  {
   "cell_type": "markdown",
   "id": "9e6ab0a7",
   "metadata": {},
   "source": [
    "### Import Libraries"
   ]
  },
  {
   "cell_type": "code",
   "execution_count": 5,
   "id": "13c9c36d",
   "metadata": {},
   "outputs": [],
   "source": [
    "import pandas as pd\n",
    "import numpy as np\n",
    "import warnings\n",
    "\n",
    "warnings.filterwarnings(\"ignore\")\n",
    "\n",
    "data = pd.read_csv('dataset.csv')"
   ]
  },
  {
   "cell_type": "markdown",
   "id": "01675c48",
   "metadata": {},
   "source": [
    "## Data read"
   ]
  },
  {
   "cell_type": "markdown",
   "id": "e7e49d0d",
   "metadata": {},
   "source": [
    "# Data Cleaning\n",
    "\n",
    "### Create a copy of DataFrame"
   ]
  },
  {
   "cell_type": "code",
   "execution_count": 9,
   "id": "7c070097",
   "metadata": {},
   "outputs": [],
   "source": [
    "fifa = data.copy()"
   ]
  },
  {
   "cell_type": "code",
   "execution_count": 10,
   "id": "d4ed5c4c",
   "metadata": {},
   "outputs": [
    {
     "name": "stdout",
     "output_type": "stream",
     "text": [
      "<class 'pandas.core.frame.DataFrame'>\n",
      "RangeIndex: 18979 entries, 0 to 18978\n",
      "Data columns (total 77 columns):\n",
      " #   Column            Non-Null Count  Dtype \n",
      "---  ------            --------------  ----- \n",
      " 0   ID                18979 non-null  int64 \n",
      " 1   Name              18979 non-null  object\n",
      " 2   LongName          18979 non-null  object\n",
      " 3   photoUrl          18979 non-null  object\n",
      " 4   playerUrl         18979 non-null  object\n",
      " 5   Nationality       18979 non-null  object\n",
      " 6   Age               18979 non-null  int64 \n",
      " 7   ↓OVA              18979 non-null  int64 \n",
      " 8   POT               18979 non-null  int64 \n",
      " 9   Club              18979 non-null  object\n",
      " 10  Contract          18979 non-null  object\n",
      " 11  Positions         18979 non-null  object\n",
      " 12  Height            18979 non-null  object\n",
      " 13  Weight            18979 non-null  object\n",
      " 14  Preferred Foot    18979 non-null  object\n",
      " 15  BOV               18979 non-null  int64 \n",
      " 16  Best Position     18979 non-null  object\n",
      " 17  Joined            18979 non-null  object\n",
      " 18  Loan Date End     1013 non-null   object\n",
      " 19  Value             18979 non-null  object\n",
      " 20  Wage              18979 non-null  object\n",
      " 21  Release Clause    18979 non-null  object\n",
      " 22  Attacking         18979 non-null  int64 \n",
      " 23  Crossing          18979 non-null  int64 \n",
      " 24  Finishing         18979 non-null  int64 \n",
      " 25  Heading Accuracy  18979 non-null  int64 \n",
      " 26  Short Passing     18979 non-null  int64 \n",
      " 27  Volleys           18979 non-null  int64 \n",
      " 28  Skill             18979 non-null  int64 \n",
      " 29  Dribbling         18979 non-null  int64 \n",
      " 30  Curve             18979 non-null  int64 \n",
      " 31  FK Accuracy       18979 non-null  int64 \n",
      " 32  Long Passing      18979 non-null  int64 \n",
      " 33  Ball Control      18979 non-null  int64 \n",
      " 34  Movement          18979 non-null  int64 \n",
      " 35  Acceleration      18979 non-null  int64 \n",
      " 36  Sprint Speed      18979 non-null  int64 \n",
      " 37  Agility           18979 non-null  int64 \n",
      " 38  Reactions         18979 non-null  int64 \n",
      " 39  Balance           18979 non-null  int64 \n",
      " 40  Power             18979 non-null  int64 \n",
      " 41  Shot Power        18979 non-null  int64 \n",
      " 42  Jumping           18979 non-null  int64 \n",
      " 43  Stamina           18979 non-null  int64 \n",
      " 44  Strength          18979 non-null  int64 \n",
      " 45  Long Shots        18979 non-null  int64 \n",
      " 46  Mentality         18979 non-null  int64 \n",
      " 47  Aggression        18979 non-null  int64 \n",
      " 48  Interceptions     18979 non-null  int64 \n",
      " 49  Positioning       18979 non-null  int64 \n",
      " 50  Vision            18979 non-null  int64 \n",
      " 51  Penalties         18979 non-null  int64 \n",
      " 52  Composure         18979 non-null  int64 \n",
      " 53  Defending         18979 non-null  int64 \n",
      " 54  Marking           18979 non-null  int64 \n",
      " 55  Standing Tackle   18979 non-null  int64 \n",
      " 56  Sliding Tackle    18979 non-null  int64 \n",
      " 57  Goalkeeping       18979 non-null  int64 \n",
      " 58  GK Diving         18979 non-null  int64 \n",
      " 59  GK Handling       18979 non-null  int64 \n",
      " 60  GK Kicking        18979 non-null  int64 \n",
      " 61  GK Positioning    18979 non-null  int64 \n",
      " 62  GK Reflexes       18979 non-null  int64 \n",
      " 63  Total Stats       18979 non-null  int64 \n",
      " 64  Base Stats        18979 non-null  int64 \n",
      " 65  W/F               18979 non-null  object\n",
      " 66  SM                18979 non-null  object\n",
      " 67  A/W               18979 non-null  object\n",
      " 68  D/W               18979 non-null  object\n",
      " 69  IR                18979 non-null  object\n",
      " 70  PAC               18979 non-null  int64 \n",
      " 71  SHO               18979 non-null  int64 \n",
      " 72  PAS               18979 non-null  int64 \n",
      " 73  DRI               18979 non-null  int64 \n",
      " 74  DEF               18979 non-null  int64 \n",
      " 75  PHY               18979 non-null  int64 \n",
      " 76  Hits              16384 non-null  object\n",
      "dtypes: int64(54), object(23)\n",
      "memory usage: 11.1+ MB\n"
     ]
    }
   ],
   "source": [
    "fifa.info()"
   ]
  },
  {
   "cell_type": "markdown",
   "id": "ac104434",
   "metadata": {},
   "source": [
    "### 1. ID\n",
    "\n",
    "Unique identifier for each player."
   ]
  },
  {
   "cell_type": "code",
   "execution_count": null,
   "id": "67048c4f",
   "metadata": {},
   "outputs": [],
   "source": []
  },
  {
   "cell_type": "markdown",
   "id": "1e7d6e26",
   "metadata": {},
   "source": [
    "### 2. Name\n",
    "\n",
    "Player's name"
   ]
  },
  {
   "cell_type": "code",
   "execution_count": null,
   "id": "afaa689c",
   "metadata": {},
   "outputs": [],
   "source": []
  },
  {
   "cell_type": "markdown",
   "id": "890bb9f5",
   "metadata": {},
   "source": [
    "### 3. LongName\n",
    "\n",
    "Player's full name"
   ]
  },
  {
   "cell_type": "code",
   "execution_count": null,
   "id": "069a98ce",
   "metadata": {},
   "outputs": [],
   "source": []
  },
  {
   "cell_type": "markdown",
   "id": "5d869f44",
   "metadata": {},
   "source": [
    "### 4. photoURL\n",
    "\n",
    "URL to player's photo"
   ]
  },
  {
   "cell_type": "code",
   "execution_count": null,
   "id": "9a78dcef",
   "metadata": {},
   "outputs": [],
   "source": []
  },
  {
   "cell_type": "markdown",
   "id": "e96eed00",
   "metadata": {},
   "source": [
    "### 5. playerURL\n",
    "\n",
    "URL to player's profile"
   ]
  },
  {
   "cell_type": "code",
   "execution_count": null,
   "id": "69bb0a3d",
   "metadata": {},
   "outputs": [],
   "source": []
  },
  {
   "cell_type": "markdown",
   "id": "1b6939be",
   "metadata": {},
   "source": [
    "### 6. Nationality\n",
    "\n",
    "Player's nationality"
   ]
  },
  {
   "cell_type": "code",
   "execution_count": null,
   "id": "1ebf1954",
   "metadata": {},
   "outputs": [],
   "source": []
  },
  {
   "cell_type": "markdown",
   "id": "f0b749ca",
   "metadata": {},
   "source": [
    "### 7. Age\n",
    "\n",
    "Player's age in years"
   ]
  },
  {
   "cell_type": "code",
   "execution_count": null,
   "id": "051cca83",
   "metadata": {},
   "outputs": [],
   "source": []
  },
  {
   "cell_type": "markdown",
   "id": "ed393791",
   "metadata": {},
   "source": [
    "### 8. OVA - Overall Rating (0-100)\n",
    "\n",
    "It is a rating system used to represent a player's overall abilities and skills in the game."
   ]
  },
  {
   "cell_type": "code",
   "execution_count": null,
   "id": "58723895",
   "metadata": {},
   "outputs": [],
   "source": []
  },
  {
   "cell_type": "markdown",
   "id": "ad4e1d45",
   "metadata": {},
   "source": [
    "### 9. POT - Potential Rating(0-100)\n",
    "\n",
    "Represent a player's potential to develop and improve their abilities and skills over time."
   ]
  },
  {
   "cell_type": "code",
   "execution_count": null,
   "id": "d4512e89",
   "metadata": {},
   "outputs": [],
   "source": []
  },
  {
   "cell_type": "markdown",
   "id": "3f0315e9",
   "metadata": {},
   "source": [
    "### 10. Club\n",
    "\n",
    "Current Club of the player"
   ]
  },
  {
   "cell_type": "code",
   "execution_count": 13,
   "id": "be67edf8",
   "metadata": {},
   "outputs": [
    {
     "data": {
      "text/plain": [
       "dtype('O')"
      ]
     },
     "execution_count": 13,
     "metadata": {},
     "output_type": "execute_result"
    }
   ],
   "source": [
    "fifa['Club'].dtype"
   ]
  },
  {
   "cell_type": "code",
   "execution_count": 15,
   "id": "d967da16",
   "metadata": {},
   "outputs": [
    {
     "data": {
      "text/plain": [
       "array(['\\n\\n\\n\\nFC Barcelona', '\\n\\n\\n\\nJuventus',\n",
       "       '\\n\\n\\n\\nAtlético Madrid', '\\n\\n\\n\\nManchester City',\n",
       "       '\\n\\n\\n\\nParis Saint-Germain', '\\n\\n\\n\\nFC Bayern München',\n",
       "       '\\n\\n\\n\\nLiverpool', '\\n\\n\\n\\nReal Madrid', '\\n\\n\\n\\nChelsea',\n",
       "       '\\n\\n\\n\\nTottenham Hotspur', '\\n\\n\\n\\nInter', '\\n\\n\\n\\nNapoli',\n",
       "       '\\n\\n\\n\\nBorussia Dortmund', '\\n\\n\\n\\nManchester United',\n",
       "       '\\n\\n\\n\\nArsenal', '\\n\\n\\n\\nLazio', '\\n\\n\\n\\nLeicester City',\n",
       "       '\\n\\n\\n\\nBorussia Mönchengladbach', '\\n\\n\\n\\nReal Sociedad',\n",
       "       '\\n\\n\\n\\nAtalanta', '\\n\\n\\n\\nOlympique Lyonnais', '\\n\\n\\n\\nMilan',\n",
       "       '\\n\\n\\n\\nVillarreal CF', '\\n\\n\\n\\nRB Leipzig', '\\n\\n\\n\\nCagliari',\n",
       "       '\\n\\n\\n\\nAjax', '\\n\\n\\n\\nSL Benfica', '\\n\\n\\n\\nAS Monaco',\n",
       "       '\\n\\n\\n\\nWolverhampton Wanderers', '\\n\\n\\n\\nEverton',\n",
       "       '\\n\\n\\n\\nFiorentina', '\\n\\n\\n\\nFC Porto', '\\n\\n\\n\\nRC Celta',\n",
       "       '\\n\\n\\n\\nTorino', '\\n\\n\\n\\nSevilla FC', '\\n\\n\\n\\nGrêmio',\n",
       "       '\\n\\n\\n\\nReal Betis', '\\n\\n\\n\\nRoma', '\\n\\n\\n\\nNewcastle United',\n",
       "       '\\n\\n\\n\\nEintracht Frankfurt', '\\n\\n\\n\\nValencia CF',\n",
       "       '\\n\\n\\n\\nMedipol Başakşehir FK', '\\n\\n\\n\\nInter Miami',\n",
       "       '\\n\\n\\n\\nBayer 04 Leverkusen', '\\n\\n\\n\\nLevante UD',\n",
       "       '\\n\\n\\n\\nCrystal Palace', '\\n\\n\\n\\nAthletic Club de Bilbao',\n",
       "       '\\n\\n\\n\\nShanghai SIPG FC', '\\n\\n\\n\\nVfL Wolfsburg',\n",
       "       '\\n\\n\\n\\nGuangzhou Evergrande Taobao FC', '\\n\\n\\n\\nAl Shabab',\n",
       "       '\\n\\n\\n\\nOlympique de Marseille', '\\n\\n\\n\\nLos Angeles FC',\n",
       "       '\\n\\n\\n\\nBeijing Sinobo Guoan FC', '\\n\\n\\n\\nGetafe CF',\n",
       "       '\\n\\n\\n\\nSV Werder Bremen', '\\n\\n\\n\\nTSG 1899 Hoffenheim',\n",
       "       '\\n\\n\\n\\nLOSC Lille', '\\n\\n\\n\\nDeportivo Alavés',\n",
       "       '\\n\\n\\n\\nBurnley', '\\n\\n\\n\\nLeeds United', '\\n\\n\\n\\nFulham',\n",
       "       '\\n\\n\\n\\nPFC CSKA Moscow', '\\n\\n\\n\\nGenoa',\n",
       "       '\\n\\n\\n\\nGalatasaray SK', '\\n\\n\\n\\nAtlanta United',\n",
       "       '\\n\\n\\n\\nAtlético Mineiro', '\\n\\n\\n\\nFlamengo',\n",
       "       '\\n\\n\\n\\nPalmeiras', 'No Club', '\\n\\n\\n\\nSão Paulo',\n",
       "       '\\n\\n\\n\\nWest Ham United', '\\n\\n\\n\\nSD Eibar',\n",
       "       '\\n\\n\\n\\nRiver Plate', '\\n\\n\\n\\nOGC Nice',\n",
       "       '\\n\\n\\n\\nReal Valladolid CF', '\\n\\n\\n\\nSporting CP', '\\n\\n\\n\\nPSV',\n",
       "       '\\n\\n\\n\\nFeyenoord', '\\n\\n\\n\\nClub Brugge KV',\n",
       "       '\\n\\n\\n\\nShakhtar Donetsk', '\\n\\n\\n\\nVissel Kobe',\n",
       "       '\\n\\n\\n\\nBoca Juniors', '\\n\\n\\n\\n1. FC Union Berlin',\n",
       "       '\\n\\n\\n\\nDalian YiFang FC', '\\n\\n\\n\\nAS Saint-Étienne',\n",
       "       '\\n\\n\\n\\nSassuolo', '\\n\\n\\n\\nTigres U.A.N.L.',\n",
       "       '\\n\\n\\n\\nDinamo Zagreb', '\\n\\n\\n\\nDynamo Kyiv',\n",
       "       '\\n\\n\\n\\nFluminense', '\\n\\n\\n\\nUdinese', '\\n\\n\\n\\nAston Villa',\n",
       "       '\\n\\n\\n\\nStade Rennais FC', '\\n\\n\\n\\nBeşiktaş JK',\n",
       "       '\\n\\n\\n\\nBrighton & Hove Albion', '\\n\\n\\n\\nHebei China Fortune FC',\n",
       "       '\\n\\n\\n\\nSouthampton', '\\n\\n\\n\\nLokomotiv Moscow',\n",
       "       '\\n\\n\\n\\nJiangsu Suning FC', '\\n\\n\\n\\nAl Hilal',\n",
       "       '\\n\\n\\n\\nWest Bromwich Albion', '\\n\\n\\n\\nFenerbahçe SK',\n",
       "       '\\n\\n\\n\\nFC Groningen', '\\n\\n\\n\\nGuangzhou R&F FC',\n",
       "       '\\n\\n\\n\\nOrlando City SC', '\\n\\n\\n\\nSampdoria',\n",
       "       '\\n\\n\\n\\nStade de Reims', '\\n\\n\\n\\nSheffield United',\n",
       "       '\\n\\n\\n\\nSantos', '\\n\\n\\n\\nInternacional', '\\n\\n\\n\\nCoritiba',\n",
       "       '\\n\\n\\n\\nCA Osasuna', '\\n\\n\\n\\nLA Galaxy', '\\n\\n\\n\\nAl Nassr',\n",
       "       '\\n\\n\\n\\nSC Freiburg', '\\n\\n\\n\\nSC Braga',\n",
       "       '\\n\\n\\n\\nOlympiacos CFP', '\\n\\n\\n\\nToronto FC',\n",
       "       '\\n\\n\\n\\nGranada CF', '\\n\\n\\n\\nFC Schalke 04',\n",
       "       '\\n\\n\\n\\nRC Strasbourg Alsace', '\\n\\n\\n\\nHertha BSC',\n",
       "       '\\n\\n\\n\\nAZ Alkmaar', '\\n\\n\\n\\nSeattle Sounders FC',\n",
       "       '\\n\\n\\n\\nMontpellier HSC', '\\n\\n\\n\\nShanghai Greenland Shenhua FC',\n",
       "       '\\n\\n\\n\\nHamburger SV', '\\n\\n\\n\\nGirona FC', '\\n\\n\\n\\nRacing Club',\n",
       "       '\\n\\n\\n\\nPortland Timbers', '\\n\\n\\n\\nFC Girondins de Bordeaux',\n",
       "       '\\n\\n\\n\\nWatford', '\\n\\n\\n\\nEstudiantes de La Plata',\n",
       "       '\\n\\n\\n\\nClub América', '\\n\\n\\n\\nVitória Guimarães',\n",
       "       '\\n\\n\\n\\nSK Slavia Praha', '\\n\\n\\n\\nTrabzonspor',\n",
       "       '\\n\\n\\n\\nRCD Espanyol', '\\n\\n\\n\\nFC Nantes', '\\n\\n\\n\\nAngers SCO',\n",
       "       '\\n\\n\\n\\nCruz Azul', '\\n\\n\\n\\nBSC Young Boys', '\\n\\n\\n\\nClub León',\n",
       "       '\\n\\n\\n\\nSpartak Moscow', '\\n\\n\\n\\nSivasspor', '\\n\\n\\n\\nElche CF',\n",
       "       '\\n\\n\\n\\nFC Augsburg', '\\n\\n\\n\\nWuhan Zall', '\\n\\n\\n\\nParma',\n",
       "       '\\n\\n\\n\\nRoyal Antwerp FC', '\\n\\n\\n\\nMonterrey',\n",
       "       '\\n\\n\\n\\nSan Lorenzo de Almagro', '\\n\\n\\n\\nAC Monza',\n",
       "       '\\n\\n\\n\\nClub Atlético Lanús', '\\n\\n\\n\\nSD Huesca',\n",
       "       '\\n\\n\\n\\nDerby County', '\\n\\n\\n\\nKayserispor',\n",
       "       '\\n\\n\\n\\nRSC Anderlecht', '\\n\\n\\n\\nCD Leganés',\n",
       "       '\\n\\n\\n\\nVélez Sarsfield', '\\n\\n\\n\\nStade Brestois 29',\n",
       "       '\\n\\n\\n\\nTianjin TEDA FC', '\\n\\n\\n\\nBirmingham City',\n",
       "       '\\n\\n\\n\\nHellas Verona', '\\n\\n\\n\\n1. FC Köln', '\\n\\n\\n\\nAl Wehda',\n",
       "       '\\n\\n\\n\\nBournemouth', '\\n\\n\\n\\nAlanyaspor', '\\n\\n\\n\\nBologna',\n",
       "       '\\n\\n\\n\\nAmiens SC', '\\n\\n\\n\\nCeltic',\n",
       "       '\\n\\n\\n\\nShijiazhuang Ever Bright F.C.', '\\n\\n\\n\\nClub Atlas',\n",
       "       '\\n\\n\\n\\nAl Ahli', '\\n\\n\\n\\nNorwich City',\n",
       "       '\\n\\n\\n\\nFatih Karagümrük S.K.', '\\n\\n\\n\\nClub Tijuana',\n",
       "       '\\n\\n\\n\\nUniversidad Católica', '\\n\\n\\n\\nGoiás',\n",
       "       '\\n\\n\\n\\nBenevento', '\\n\\n\\n\\nIndependiente',\n",
       "       '\\n\\n\\n\\nQingdao Huanghai F.C.', '\\n\\n\\n\\nBrentford',\n",
       "       '\\n\\n\\n\\nAEK Athens', '\\n\\n\\n\\nRacing Club de Lens',\n",
       "       '\\n\\n\\n\\nOlimpia Asunción', '\\n\\n\\n\\nShenzhen FC',\n",
       "       '\\n\\n\\n\\nÇaykur Rizespor', '\\n\\n\\n\\nKAA Gent',\n",
       "       '\\n\\n\\n\\nNew England Revolution', '\\n\\n\\n\\nCádiz CF',\n",
       "       '\\n\\n\\n\\n1. FSV Mainz 05', '\\n\\n\\n\\nVasco da Gama',\n",
       "       '\\n\\n\\n\\nFC Midtjylland', '\\n\\n\\n\\nAl Ain FC',\n",
       "       '\\n\\n\\n\\nSantos Laguna', '\\n\\n\\n\\nSPAL', '\\n\\n\\n\\nPerth Glory',\n",
       "       '\\n\\n\\n\\nFC Utrecht', '\\n\\n\\n\\nMontreal Impact',\n",
       "       '\\n\\n\\n\\nUD Almería', '\\n\\n\\n\\nFortaleza', '\\n\\n\\n\\nSpezia',\n",
       "       '\\n\\n\\n\\nFC Basel 1893', '\\n\\n\\n\\nFC København',\n",
       "       '\\n\\n\\n\\nGodoy Cruz', '\\n\\n\\n\\nDeportivo Toluca',\n",
       "       '\\n\\n\\n\\nNacional de Montevideo', '\\n\\n\\n\\nAalborg BK',\n",
       "       '\\n\\n\\n\\nRio Ave FC', '\\n\\n\\n\\nFC Metz',\n",
       "       '\\n\\n\\n\\nChongqing Dangdai Lifan FC SWM Team',\n",
       "       '\\n\\n\\n\\nRosenborg BK', '\\n\\n\\n\\nFC Red Bull Salzburg',\n",
       "       '\\n\\n\\n\\nBotafogo', '\\n\\n\\n\\nDSC Arminia Bielefeld',\n",
       "       '\\n\\n\\n\\nClub Athletico Paranaense', '\\n\\n\\n\\nRCD Mallorca',\n",
       "       '\\n\\n\\n\\nPachuca', '\\n\\n\\n\\nSwansea City', '\\n\\n\\n\\nKRC Genk',\n",
       "       '\\n\\n\\n\\nEn Avant de Guingamp', '\\n\\n\\n\\nLecce',\n",
       "       '\\n\\n\\n\\nNîmes Olympique', '\\n\\n\\n\\nColo-Colo',\n",
       "       '\\n\\n\\n\\nStade Malherbe Caen', '\\n\\n\\n\\nColumbus Crew SC',\n",
       "       '\\n\\n\\n\\nJunior FC', '\\n\\n\\n\\nVfB Stuttgart',\n",
       "       '\\n\\n\\n\\nMoreirense FC', '\\n\\n\\n\\nRangers FC', '\\n\\n\\n\\nMalmö FF',\n",
       "       '\\n\\n\\n\\nShandong Luneng TaiShan FC', '\\n\\n\\n\\nSparta Praha',\n",
       "       '\\n\\n\\n\\nHatayspor', '\\n\\n\\n\\nChicago Fire',\n",
       "       '\\n\\n\\n\\nToulouse Football Club', '\\n\\n\\n\\nFC Seoul',\n",
       "       '\\n\\n\\n\\nAntalyaspor', '\\n\\n\\n\\nDeportivo Cali',\n",
       "       '\\n\\n\\n\\nKaizer Chiefs', '\\n\\n\\n\\nReal Zaragoza',\n",
       "       '\\n\\n\\n\\nAtlético Clube Goianiense', '\\n\\n\\n\\nPuebla FC',\n",
       "       '\\n\\n\\n\\nFortuna Düsseldorf', '\\n\\n\\n\\nWestern United FC',\n",
       "       '\\n\\n\\n\\nAstra Giurgiu', '\\n\\n\\n\\nHenan Jianye FC',\n",
       "       '\\n\\n\\n\\nBahia', '\\n\\n\\n\\nFamalicão', '\\n\\n\\n\\nAtiker Konyaspor',\n",
       "       '\\n\\n\\n\\nPeñarol', '\\n\\n\\n\\nDC United', '\\n\\n\\n\\nNew York City FC',\n",
       "       '\\n\\n\\n\\nArgentinos Juniors', '\\n\\n\\n\\nU.N.A.M.',\n",
       "       '\\n\\n\\n\\nMinnesota United FC', '\\n\\n\\n\\nNottingham Forest',\n",
       "       '\\n\\n\\n\\nIndependiente del Valle', '\\n\\n\\n\\nDefensa y Justicia',\n",
       "       '\\n\\n\\n\\nPhiladelphia Union', \"\\n\\n\\n\\nNewell's Old Boys\",\n",
       "       '\\n\\n\\n\\nRosario Central', '\\n\\n\\n\\nAtlético de San Luis',\n",
       "       '\\n\\n\\n\\nFC Dallas', '\\n\\n\\n\\nDenizlispor',\n",
       "       '\\n\\n\\n\\nYeni Malatyaspor', '\\n\\n\\n\\nClub Atlético Colón',\n",
       "       '\\n\\n\\n\\nHouston Dynamo', '\\n\\n\\n\\nMillwall',\n",
       "       '\\n\\n\\n\\nClube Sport Marítimo', '\\n\\n\\n\\nMKE Ankaragücü',\n",
       "       '\\n\\n\\n\\nGuadalajara', '\\n\\n\\n\\nBoavista FC',\n",
       "       '\\n\\n\\n\\nSporting Kansas City', '\\n\\n\\n\\nAtlético Nacional',\n",
       "       '\\n\\n\\n\\nCD Lugo', '\\n\\n\\n\\nNew York Red Bulls', '\\n\\n\\n\\nPAOK',\n",
       "       '\\n\\n\\n\\nSC Heerenveen', '\\n\\n\\n\\nDaegu FC',\n",
       "       '\\n\\n\\n\\nPreston North End', '\\n\\n\\n\\nDamac FC', '\\n\\n\\n\\nBrescia',\n",
       "       '\\n\\n\\n\\nVfL Bochum 1848', '\\n\\n\\n\\nVancouver Whitecaps FC',\n",
       "       '\\n\\n\\n\\nSV Sandhausen', '\\n\\n\\n\\nRoyal Excel Mouscron',\n",
       "       '\\n\\n\\n\\nDijon FCO', '\\n\\n\\n\\nMolde FK',\n",
       "       '\\n\\n\\n\\nPanathinaikos FC', '\\n\\n\\n\\nLASK Linz',\n",
       "       '\\n\\n\\n\\nUlsan Hyundai FC', '\\n\\n\\n\\nReal Salt Lake',\n",
       "       '\\n\\n\\n\\nFC Luzern', '\\n\\n\\n\\nViktoria Plzeň',\n",
       "       '\\n\\n\\n\\nOrlando Pirates', '\\n\\n\\n\\nAl Ittihad',\n",
       "       '\\n\\n\\n\\n1. FC Nürnberg', '\\n\\n\\n\\nStandard de Liège',\n",
       "       '\\n\\n\\n\\nRayo Vallecano', '\\n\\n\\n\\nClub Libertad',\n",
       "       '\\n\\n\\n\\nJeonbuk Hyundai Motors',\n",
       "       '\\n\\n\\n\\nWestern Sydney Wanderers', '\\n\\n\\n\\nUnión de Santa Fe',\n",
       "       '\\n\\n\\n\\nFC Sion', '\\n\\n\\n\\nSydney FC', '\\n\\n\\n\\nHannover 96',\n",
       "       '\\n\\n\\n\\nReal Sporting de Gijón', '\\n\\n\\n\\nFC Cincinnati',\n",
       "       '\\n\\n\\n\\nESTAC Troyes', '\\n\\n\\n\\nSan Jose Earthquakes',\n",
       "       '\\n\\n\\n\\nClub Guaraní', '\\n\\n\\n\\nFC Lorient',\n",
       "       '\\n\\n\\n\\nGençlerbirliği SK', '\\n\\n\\n\\nSporting de Charleroi',\n",
       "       '\\n\\n\\n\\nWisła Kraków', '\\n\\n\\n\\nAl Taawoun', '\\n\\n\\n\\nReading',\n",
       "       '\\n\\n\\n\\nGazişehir Gaziantep F.K.', '\\n\\n\\n\\nBlackburn Rovers',\n",
       "       '\\n\\n\\n\\nKashiwa Reysol', '\\n\\n\\n\\nFK Bodø/Glimt',\n",
       "       '\\n\\n\\n\\nWillem II', '\\n\\n\\n\\nVitesse', '\\n\\n\\n\\nGil Vicente FC',\n",
       "       '\\n\\n\\n\\nSønderjyskE', '\\n\\n\\n\\nYokohama F. Marinos',\n",
       "       '\\n\\n\\n\\nFC St. Gallen', '\\n\\n\\n\\nClub Atlético Aldosivi',\n",
       "       '\\n\\n\\n\\nGöztepe SK', '\\n\\n\\n\\nHolstein Kiel', '\\n\\n\\n\\nFC Juárez',\n",
       "       '\\n\\n\\n\\nFCSB (Steaua)', '\\n\\n\\n\\nEttifaq FC', '\\n\\n\\n\\nKAS Eupen',\n",
       "       '\\n\\n\\n\\nFC Tokyo', '\\n\\n\\n\\nMelbourne City FC',\n",
       "       '\\n\\n\\n\\nUniversitatea Craiova', '\\n\\n\\n\\nCD Tondela',\n",
       "       '\\n\\n\\n\\nWolfsberger AC', '\\n\\n\\n\\nCeará Sporting Club',\n",
       "       '\\n\\n\\n\\nRiver Plate Asunción', '\\n\\n\\n\\nStoke City',\n",
       "       '\\n\\n\\n\\nParis FC', '\\n\\n\\n\\nIFK Norrköping', '\\n\\n\\n\\nCrotone',\n",
       "       '\\n\\n\\n\\nCardiff City', '\\n\\n\\n\\nAmérica de Cali',\n",
       "       '\\n\\n\\n\\nAl Faisaly', '\\n\\n\\n\\nIndependiente Medellín',\n",
       "       '\\n\\n\\n\\nPortimonense SC', '\\n\\n\\n\\nCD Tenerife',\n",
       "       '\\n\\n\\n\\nHeracles Almelo', '\\n\\n\\n\\nNashville SC',\n",
       "       '\\n\\n\\n\\nSK Rapid Wien', '\\n\\n\\n\\nKawasaki Frontale',\n",
       "       '\\n\\n\\n\\nClub Necaxa', '\\n\\n\\n\\nChievo Verona',\n",
       "       '\\n\\n\\n\\nLech Poznań', '\\n\\n\\n\\nAIK', '\\n\\n\\n\\nFK Austria Wien',\n",
       "       '\\n\\n\\n\\nQuerétaro', '\\n\\n\\n\\n1. FC Heidenheim 1846',\n",
       "       '\\n\\n\\n\\nLegia Warszawa', '\\n\\n\\n\\nClub Atlético Banfield',\n",
       "       '\\n\\n\\n\\nOs Belenenses', '\\n\\n\\n\\nHuddersfield Town',\n",
       "       '\\n\\n\\n\\nKSV Cercle Brugge', '\\n\\n\\n\\nLDU Quito',\n",
       "       '\\n\\n\\n\\nGimnasia y Esgrima La Plata', '\\n\\n\\n\\nGamba Osaka',\n",
       "       '\\n\\n\\n\\nMiddlesbrough', '\\n\\n\\n\\nServette FC', '\\n\\n\\n\\nEmpoli',\n",
       "       '\\n\\n\\n\\nReal Oviedo', '\\n\\n\\n\\nKasimpaşa SK', '\\n\\n\\n\\nCFR Cluj',\n",
       "       '\\n\\n\\n\\nMillonarios FC', '\\n\\n\\n\\nFC Paços de Ferreira',\n",
       "       '\\n\\n\\n\\nSint-Truidense VV', '\\n\\n\\n\\nAD Alcorcón',\n",
       "       '\\n\\n\\n\\nColorado Rapids', '\\n\\n\\n\\nDinamo Bucureşti',\n",
       "       '\\n\\n\\n\\nCerezo Osaka', '\\n\\n\\n\\nFC Emmen',\n",
       "       '\\n\\n\\n\\nSheffield Wednesday', '\\n\\n\\n\\nFC Erzgebirge Aue',\n",
       "       '\\n\\n\\n\\nRaków Częstochowa', '\\n\\n\\n\\nAtlético Tucumán',\n",
       "       '\\n\\n\\n\\nSV Darmstadt 98', '\\n\\n\\n\\nBristol City',\n",
       "       '\\n\\n\\n\\nOud-Heverlee Leuven', '\\n\\n\\n\\nBarnsley',\n",
       "       '\\n\\n\\n\\nQueens Park Rangers', '\\n\\n\\n\\nSangju Sangmu FC',\n",
       "       '\\n\\n\\n\\nHelsingborgs IF', '\\n\\n\\n\\nAC Ajaccio',\n",
       "       '\\n\\n\\n\\nOceânico FC', '\\n\\n\\n\\nClub Atlético Talleres',\n",
       "       '\\n\\n\\n\\nAl Hazem', '\\n\\n\\n\\nSC Paderborn 07',\n",
       "       '\\n\\n\\n\\nClub Atlético Huracán', '\\n\\n\\n\\nKV Kortrijk',\n",
       "       '\\n\\n\\n\\nEl Nacional', '\\n\\n\\n\\nMazatlán FC', '\\n\\n\\n\\nAberdeen',\n",
       "       '\\n\\n\\n\\nCD Mirandés', '\\n\\n\\n\\nSV Zulte-Waregem',\n",
       "       '\\n\\n\\n\\nPiast Gliwice', '\\n\\n\\n\\nDjurgårdens IF',\n",
       "       '\\n\\n\\n\\nCentral Córdoba', '\\n\\n\\n\\nWellington Phoenix',\n",
       "       '\\n\\n\\n\\nDeportivo Binacional', '\\n\\n\\n\\nPatronato',\n",
       "       '\\n\\n\\n\\nSpVgg Greuther Fürth', '\\n\\n\\n\\nIFK Göteborg',\n",
       "       '\\n\\n\\n\\nFC Cartagena', '\\n\\n\\n\\nSanta Clara', '\\n\\n\\n\\nFC Twente',\n",
       "       '\\n\\n\\n\\nFarense', '\\n\\n\\n\\nADO Den Haag', '\\n\\n\\n\\nAJ Auxerre',\n",
       "       '\\n\\n\\n\\nAl Fateh', '\\n\\n\\n\\nValenciennes FC',\n",
       "       '\\n\\n\\n\\nHokkaido Consadole Sapporo', '\\n\\n\\n\\nFC St. Pauli',\n",
       "       '\\n\\n\\n\\nAlbacete BP', '\\n\\n\\n\\n1. FC Kaiserslautern',\n",
       "       '\\n\\n\\n\\nAl Fayha', '\\n\\n\\n\\nIncheon United FC',\n",
       "       '\\n\\n\\n\\nKV Mechelen', '\\n\\n\\n\\nPohang Steelers',\n",
       "       '\\n\\n\\n\\nCD Nacional', '\\n\\n\\n\\nUnión La Calera',\n",
       "       '\\n\\n\\n\\nBB Erzurumspor', '\\n\\n\\n\\nKashima Antlers',\n",
       "       '\\n\\n\\n\\nArsenal de Sarandí', '\\n\\n\\n\\nHJK Helsinki',\n",
       "       '\\n\\n\\n\\nKarlsruher SC', '\\n\\n\\n\\nAarhus GF', '\\n\\n\\n\\nFC Zürich',\n",
       "       '\\n\\n\\n\\nBarcelona Sporting Club', '\\n\\n\\n\\nSG Dynamo Dresden',\n",
       "       '\\n\\n\\n\\nSanfrecce Hiroshima', '\\n\\n\\n\\nAl Raed',\n",
       "       '\\n\\n\\n\\nSD Ponferradina', '\\n\\n\\n\\nBrøndby IF',\n",
       "       '\\n\\n\\n\\nLechia Gdańsk', '\\n\\n\\n\\nFC Viitorul',\n",
       "       '\\n\\n\\n\\nSK Sturm Graz', '\\n\\n\\n\\nIF Elfsborg',\n",
       "       '\\n\\n\\n\\nGangwon FC', '\\n\\n\\n\\nMelgar FBC',\n",
       "       '\\n\\n\\n\\nClub Atlético Grau', '\\n\\n\\n\\nJagiellonia Białystok',\n",
       "       '\\n\\n\\n\\nWaasland-Beveren', '\\n\\n\\n\\nVfL Osnabrück',\n",
       "       '\\n\\n\\n\\nNagoya Grampus', '\\n\\n\\n\\nCF Fuenlabrada',\n",
       "       '\\n\\n\\n\\nShamrock Rovers', '\\n\\n\\n\\nShimizu S-Pulse',\n",
       "       '\\n\\n\\n\\nRKC Waalwijk', '\\n\\n\\n\\nVålerenga Fotball',\n",
       "       '\\n\\n\\n\\nClermont Foot 63', '\\n\\n\\n\\nFC Ingolstadt 04',\n",
       "       '\\n\\n\\n\\nFC Würzburger Kickers', '\\n\\n\\n\\nGórnik Zabrze',\n",
       "       '\\n\\n\\n\\nCharlton Athletic', '\\n\\n\\n\\nBeerschot AC',\n",
       "       '\\n\\n\\n\\nCoquimbo Unido', '\\n\\n\\n\\nViktoria Köln',\n",
       "       '\\n\\n\\n\\nHull City', '\\n\\n\\n\\nMálaga CF',\n",
       "       '\\n\\n\\n\\nFC Nordsjælland', '\\n\\n\\n\\nUD Las Palmas',\n",
       "       '\\n\\n\\n\\nVVV-Venlo', '\\n\\n\\n\\nGwangJu FC',\n",
       "       '\\n\\n\\n\\nChamois Niortais Football Club', '\\n\\n\\n\\nFC Lugano',\n",
       "       '\\n\\n\\n\\nCusco FC', '\\n\\n\\n\\nSparta Rotterdam',\n",
       "       '\\n\\n\\n\\nSol de América', '\\n\\n\\n\\nPEC Zwolle',\n",
       "       '\\n\\n\\n\\nPogoń Szczecin', '\\n\\n\\n\\nDoncaster Rovers',\n",
       "       '\\n\\n\\n\\nKristiansund BK', '\\n\\n\\n\\nLiverpool Fútbol Club',\n",
       "       '\\n\\n\\n\\nClub Bolívar', '\\n\\n\\n\\nUrawa Red Diamonds',\n",
       "       '\\n\\n\\n\\nSK Brann', '\\n\\n\\n\\nEintracht Braunschweig',\n",
       "       '\\n\\n\\n\\nNacional Asunción', '\\n\\n\\n\\nMelbourne Victory',\n",
       "       '\\n\\n\\n\\nKilmarnock', '\\n\\n\\n\\nDundalk',\n",
       "       '\\n\\n\\n\\nSSV Jahn Regensburg', '\\n\\n\\n\\nAbha Club',\n",
       "       '\\n\\n\\n\\nClub Atlético Tigre', '\\n\\n\\n\\nSuwon Samsung Bluewings',\n",
       "       '\\n\\n\\n\\nShonan Bellmare', '\\n\\n\\n\\nSD Aucas', '\\n\\n\\n\\nEmelec',\n",
       "       '\\n\\n\\n\\nFortuna Sittard', '\\n\\n\\n\\nLa Berrichonne de Châteauroux',\n",
       "       '\\n\\n\\n\\nŚląsk Wrocław', '\\n\\n\\n\\nCoventry City',\n",
       "       '\\n\\n\\n\\nSunderland', '\\n\\n\\n\\nAlianza Lima',\n",
       "       '\\n\\n\\n\\nHammarby IF', '\\n\\n\\n\\nCracovia',\n",
       "       '\\n\\n\\n\\nCE Sabadell FC', '\\n\\n\\n\\nOita Trinita',\n",
       "       '\\n\\n\\n\\nBK Häcken', '\\n\\n\\n\\nLuton Town', '\\n\\n\\n\\nLe Havre AC',\n",
       "       '\\n\\n\\n\\nIK Sirius', '\\n\\n\\n\\nZagłębie Lubin',\n",
       "       '\\n\\n\\n\\nGrenoble Foot 38', '\\n\\n\\n\\nMacarthur FC',\n",
       "       '\\n\\n\\n\\nRodez Aveyron Football', '\\n\\n\\n\\nVegalta Sendai',\n",
       "       '\\n\\n\\n\\nMotherwell', '\\n\\n\\n\\nSV Wehen Wiesbaden',\n",
       "       '\\n\\n\\n\\nAudax Italiano', '\\n\\n\\n\\nGaz Metan Mediaş',\n",
       "       '\\n\\n\\n\\nPortsmouth', '\\n\\n\\n\\nHibernian', '\\n\\n\\n\\nAlways Ready',\n",
       "       '\\n\\n\\n\\nUD Logroñés', '\\n\\n\\n\\nFC Voluntari',\n",
       "       '\\n\\n\\n\\nFC Hermannstadt', '\\n\\n\\n\\nAS Nancy Lorraine',\n",
       "       '\\n\\n\\n\\nRotherham United', '\\n\\n\\n\\nFleetwood Town',\n",
       "       '\\n\\n\\n\\nJorge Wilstermann', '\\n\\n\\n\\nOdense Boldklub',\n",
       "       '\\n\\n\\n\\nMSV Duisburg', '\\n\\n\\n\\nFC Sochaux-Montbéliard',\n",
       "       '\\n\\n\\n\\nMilton Keynes Dons', '\\n\\n\\n\\nRiver Plate Montevideo',\n",
       "       '\\n\\n\\n\\nDelfín SC', '\\n\\n\\n\\nUniversidad Católica del Ecuador',\n",
       "       '\\n\\n\\n\\nDeportivo Pasto', '\\n\\n\\n\\nKV Oostende',\n",
       "       '\\n\\n\\n\\nClub Plaza Colonia', '\\n\\n\\n\\nWigan Athletic',\n",
       "       '\\n\\n\\n\\nFC Botoşani', '\\n\\n\\n\\nC.D. Castellón',\n",
       "       '\\n\\n\\n\\nSCR Altach', '\\n\\n\\n\\nÖrebro SK', '\\n\\n\\n\\nTSV Hartberg',\n",
       "       '\\n\\n\\n\\nStabæk Fotball', '\\n\\n\\n\\nWycombe Wanderers',\n",
       "       '\\n\\n\\n\\nSt. Johnstone FC', '\\n\\n\\n\\nOxford United',\n",
       "       '\\n\\n\\n\\nLincoln City', '\\n\\n\\n\\nRanders FC', '\\n\\n\\n\\nViking FK',\n",
       "       '\\n\\n\\n\\nFC Chambly Oise', '\\n\\n\\n\\nDundee United',\n",
       "       '\\n\\n\\n\\nOriente Petrolero', '\\n\\n\\n\\nOdds BK',\n",
       "       '\\n\\n\\n\\nNacional Potosí', '\\n\\n\\n\\nSepsi OSK',\n",
       "       '\\n\\n\\n\\nFC Hansa Rostock', '\\n\\n\\n\\nLyngby BK',\n",
       "       '\\n\\n\\n\\nSpVgg Unterhaching', '\\n\\n\\n\\nBrisbane Roar',\n",
       "       '\\n\\n\\n\\nSeongnam FC', '\\n\\n\\n\\nSV Ried', '\\n\\n\\n\\nCD Huachipato',\n",
       "       '\\n\\n\\n\\nWSG Tirol', '\\n\\n\\n\\nPodbeskidzie Bielsko-Biała',\n",
       "       '\\n\\n\\n\\nPeterborough United', '\\n\\n\\n\\nClub Blooming',\n",
       "       '\\n\\n\\n\\nWisła Płock', '\\n\\n\\n\\nBusan IPark',\n",
       "       '\\n\\n\\n\\nFSV Zwickau', '\\n\\n\\n\\nMjøndalen IF',\n",
       "       '\\n\\n\\n\\nVejle Boldklub', '\\n\\n\\n\\nPau FC',\n",
       "       '\\n\\n\\n\\nFC Lausanne-Sport', '\\n\\n\\n\\nEstudiantes de Mérida',\n",
       "       '\\n\\n\\n\\nSagan Tosu', '\\n\\n\\n\\nSV Waldhof Mannheim',\n",
       "       '\\n\\n\\n\\nSport Huancayo', '\\n\\n\\n\\nHallescher FC',\n",
       "       '\\n\\n\\n\\nKalmar FF', '\\n\\n\\n\\nSt. Mirren',\n",
       "       '\\n\\n\\n\\nSKN St. Pölten', '\\n\\n\\n\\nSarpsborg 08 FF',\n",
       "       '\\n\\n\\n\\nShrewsbury', '\\n\\n\\n\\nTSV 1860 München',\n",
       "       '\\n\\n\\n\\nSV Meppen', '\\n\\n\\n\\nIpswich Town', '\\n\\n\\n\\nIK Start',\n",
       "       '\\n\\n\\n\\nAdelaide United', '\\n\\n\\n\\nStal Mielec',\n",
       "       '\\n\\n\\n\\nCentro Atlético Fénix', '\\n\\n\\n\\nNewcastle Jets',\n",
       "       '\\n\\n\\n\\nLivingston FC', '\\n\\n\\n\\nAC Mineros de Guayana',\n",
       "       '\\n\\n\\n\\nAFC Wimbledon', '\\n\\n\\n\\nBurton Albion',\n",
       "       '\\n\\n\\n\\nAl Adalah', '\\n\\n\\n\\nWarta Poznań',\n",
       "       '\\n\\n\\n\\nUSL Dunkerque', '\\n\\n\\n\\nBristol Rovers',\n",
       "       '\\n\\n\\n\\nUTA Arad', '\\n\\n\\n\\nÖstersunds FK',\n",
       "       '\\n\\n\\n\\nSportivo Luqueño', '\\n\\n\\n\\nPolitehnica Iaşi',\n",
       "       '\\n\\n\\n\\nSalford City', '\\n\\n\\n\\nCentral Coast Mariners',\n",
       "       '\\n\\n\\n\\nCaracas FC', '\\n\\n\\n\\nAC Horsens',\n",
       "       '\\n\\n\\n\\nPlymouth Argyle', '\\n\\n\\n\\nAalesunds FK',\n",
       "       '\\n\\n\\n\\nCrewe Alexandra', '\\n\\n\\n\\nChindia Târgovişte',\n",
       "       '\\n\\n\\n\\nOldham Athletic', '\\n\\n\\n\\nYokohama FC',\n",
       "       '\\n\\n\\n\\nBlackpool', '\\n\\n\\n\\nNorthampton Town',\n",
       "       '\\n\\n\\n\\nBayern München II', '\\n\\n\\n\\nFK Haugesund',\n",
       "       '\\n\\n\\n\\nKFC Uerdingen 05', '\\n\\n\\n\\nForest Green Rovers',\n",
       "       '\\n\\n\\n\\nCheltenham Town', '\\n\\n\\n\\nStrømsgodset IF',\n",
       "       '\\n\\n\\n\\nMjällby AIF', '\\n\\n\\n\\nExeter City',\n",
       "       '\\n\\n\\n\\nCambridge United', '\\n\\n\\n\\nGrimsby Town',\n",
       "       '\\n\\n\\n\\nFC Vaduz', '\\n\\n\\n\\nTürkgücü München',\n",
       "       '\\n\\n\\n\\nVfB Lübeck', '\\n\\n\\n\\nBolton Wanderers',\n",
       "       '\\n\\n\\n\\nBradford City', '\\n\\n\\n\\n1. FC Magdeburg',\n",
       "       '\\n\\n\\n\\nFC Admira Wacker Mödling',\n",
       "       '\\n\\n\\n\\nHamilton Academical FC', '\\n\\n\\n\\nAragua FC',\n",
       "       '\\n\\n\\n\\nAccrington Stanley', '\\n\\n\\n\\nSwindon Town',\n",
       "       '\\n\\n\\n\\nCarlisle United', '\\n\\n\\n\\nFC Argeș', '\\n\\n\\n\\nPort Vale',\n",
       "       '\\n\\n\\n\\nAcademica Clinceni', '\\n\\n\\n\\nRochdale',\n",
       "       '\\n\\n\\n\\nGillingham', '\\n\\n\\n\\nTranmere Rovers',\n",
       "       '\\n\\n\\n\\nSouthend United', '\\n\\n\\n\\n1. FC Saarbrücken',\n",
       "       '\\n\\n\\n\\nColchester United', '\\n\\n\\n\\nMansfield Town',\n",
       "       '\\n\\n\\n\\nFalkenbergs FF', '\\n\\n\\n\\nSC Verl',\n",
       "       '\\n\\n\\n\\nVarbergs BoIS', '\\n\\n\\n\\nCrawley Town',\n",
       "       '\\n\\n\\n\\nSandefjord Fotball', '\\n\\n\\n\\nNewport County',\n",
       "       '\\n\\n\\n\\nBohemian FC', '\\n\\n\\n\\nRoss County FC',\n",
       "       '\\n\\n\\n\\nScunthorpe United', '\\n\\n\\n\\nMorecambe',\n",
       "       '\\n\\n\\n\\nWalsall', '\\n\\n\\n\\nLeyton Orient', '\\n\\n\\n\\nStevenage',\n",
       "       '\\n\\n\\n\\nBarrow', '\\n\\n\\n\\nDerry City',\n",
       "       '\\n\\n\\n\\nLlaneros de Guanare', '\\n\\n\\n\\nSligo Rovers',\n",
       "       '\\n\\n\\n\\nZamora FC', \"\\n\\n\\n\\nSt. Patrick's Athletic\",\n",
       "       '\\n\\n\\n\\nCork City', '\\n\\n\\n\\nShelbourne FC',\n",
       "       '\\n\\n\\n\\nHarrogate Town', '\\n\\n\\n\\nWaterford FC',\n",
       "       '\\n\\n\\n\\nFinn Harps'], dtype=object)"
      ]
     },
     "execution_count": 15,
     "metadata": {},
     "output_type": "execute_result"
    }
   ],
   "source": [
    "fifa['Club'].unique()"
   ]
  },
  {
   "cell_type": "code",
   "execution_count": 17,
   "id": "42a2ede3",
   "metadata": {},
   "outputs": [],
   "source": [
    "fifa['Club'] = fifa['Club'].str.strip()"
   ]
  },
  {
   "cell_type": "code",
   "execution_count": 22,
   "id": "5ca90223",
   "metadata": {},
   "outputs": [
    {
     "data": {
      "text/plain": [
       "array(['FC Barcelona', 'Juventus', 'Atlético Madrid', 'Manchester City',\n",
       "       'Paris Saint-Germain', 'FC Bayern München', 'Liverpool',\n",
       "       'Real Madrid', 'Chelsea', 'Tottenham Hotspur', 'Inter', 'Napoli',\n",
       "       'Borussia Dortmund', 'Manchester United', 'Arsenal', 'Lazio',\n",
       "       'Leicester City', 'Borussia Mönchengladbach', 'Real Sociedad',\n",
       "       'Atalanta', 'Olympique Lyonnais', 'Milan', 'Villarreal CF',\n",
       "       'RB Leipzig', 'Cagliari', 'Ajax', 'SL Benfica', 'AS Monaco',\n",
       "       'Wolverhampton Wanderers', 'Everton', 'Fiorentina', 'FC Porto',\n",
       "       'RC Celta', 'Torino', 'Sevilla FC', 'Grêmio', 'Real Betis', 'Roma',\n",
       "       'Newcastle United', 'Eintracht Frankfurt', 'Valencia CF',\n",
       "       'Medipol Başakşehir FK', 'Inter Miami', 'Bayer 04 Leverkusen',\n",
       "       'Levante UD', 'Crystal Palace', 'Athletic Club de Bilbao',\n",
       "       'Shanghai SIPG FC', 'VfL Wolfsburg',\n",
       "       'Guangzhou Evergrande Taobao FC', 'Al Shabab',\n",
       "       'Olympique de Marseille', 'Los Angeles FC',\n",
       "       'Beijing Sinobo Guoan FC', 'Getafe CF', 'SV Werder Bremen',\n",
       "       'TSG 1899 Hoffenheim', 'LOSC Lille', 'Deportivo Alavés', 'Burnley',\n",
       "       'Leeds United', 'Fulham', 'PFC CSKA Moscow', 'Genoa',\n",
       "       'Galatasaray SK', 'Atlanta United', 'Atlético Mineiro', 'Flamengo',\n",
       "       'Palmeiras', 'No Club', 'São Paulo', 'West Ham United', 'SD Eibar',\n",
       "       'River Plate', 'OGC Nice', 'Real Valladolid CF', 'Sporting CP',\n",
       "       'PSV', 'Feyenoord', 'Club Brugge KV', 'Shakhtar Donetsk',\n",
       "       'Vissel Kobe', 'Boca Juniors', '1. FC Union Berlin',\n",
       "       'Dalian YiFang FC', 'AS Saint-Étienne', 'Sassuolo',\n",
       "       'Tigres U.A.N.L.', 'Dinamo Zagreb', 'Dynamo Kyiv', 'Fluminense',\n",
       "       'Udinese', 'Aston Villa', 'Stade Rennais FC', 'Beşiktaş JK',\n",
       "       'Brighton & Hove Albion', 'Hebei China Fortune FC', 'Southampton',\n",
       "       'Lokomotiv Moscow', 'Jiangsu Suning FC', 'Al Hilal',\n",
       "       'West Bromwich Albion', 'Fenerbahçe SK', 'FC Groningen',\n",
       "       'Guangzhou R&F FC', 'Orlando City SC', 'Sampdoria',\n",
       "       'Stade de Reims', 'Sheffield United', 'Santos', 'Internacional',\n",
       "       'Coritiba', 'CA Osasuna', 'LA Galaxy', 'Al Nassr', 'SC Freiburg',\n",
       "       'SC Braga', 'Olympiacos CFP', 'Toronto FC', 'Granada CF',\n",
       "       'FC Schalke 04', 'RC Strasbourg Alsace', 'Hertha BSC',\n",
       "       'AZ Alkmaar', 'Seattle Sounders FC', 'Montpellier HSC',\n",
       "       'Shanghai Greenland Shenhua FC', 'Hamburger SV', 'Girona FC',\n",
       "       'Racing Club', 'Portland Timbers', 'FC Girondins de Bordeaux',\n",
       "       'Watford', 'Estudiantes de La Plata', 'Club América',\n",
       "       'Vitória Guimarães', 'SK Slavia Praha', 'Trabzonspor',\n",
       "       'RCD Espanyol', 'FC Nantes', 'Angers SCO', 'Cruz Azul',\n",
       "       'BSC Young Boys', 'Club León', 'Spartak Moscow', 'Sivasspor',\n",
       "       'Elche CF', 'FC Augsburg', 'Wuhan Zall', 'Parma',\n",
       "       'Royal Antwerp FC', 'Monterrey', 'San Lorenzo de Almagro',\n",
       "       'AC Monza', 'Club Atlético Lanús', 'SD Huesca', 'Derby County',\n",
       "       'Kayserispor', 'RSC Anderlecht', 'CD Leganés', 'Vélez Sarsfield',\n",
       "       'Stade Brestois 29', 'Tianjin TEDA FC', 'Birmingham City',\n",
       "       'Hellas Verona', '1. FC Köln', 'Al Wehda', 'Bournemouth',\n",
       "       'Alanyaspor', 'Bologna', 'Amiens SC', 'Celtic',\n",
       "       'Shijiazhuang Ever Bright F.C.', 'Club Atlas', 'Al Ahli',\n",
       "       'Norwich City', 'Fatih Karagümrük S.K.', 'Club Tijuana',\n",
       "       'Universidad Católica', 'Goiás', 'Benevento', 'Independiente',\n",
       "       'Qingdao Huanghai F.C.', 'Brentford', 'AEK Athens',\n",
       "       'Racing Club de Lens', 'Olimpia Asunción', 'Shenzhen FC',\n",
       "       'Çaykur Rizespor', 'KAA Gent', 'New England Revolution',\n",
       "       'Cádiz CF', '1. FSV Mainz 05', 'Vasco da Gama', 'FC Midtjylland',\n",
       "       'Al Ain FC', 'Santos Laguna', 'SPAL', 'Perth Glory', 'FC Utrecht',\n",
       "       'Montreal Impact', 'UD Almería', 'Fortaleza', 'Spezia',\n",
       "       'FC Basel 1893', 'FC København', 'Godoy Cruz', 'Deportivo Toluca',\n",
       "       'Nacional de Montevideo', 'Aalborg BK', 'Rio Ave FC', 'FC Metz',\n",
       "       'Chongqing Dangdai Lifan FC SWM Team', 'Rosenborg BK',\n",
       "       'FC Red Bull Salzburg', 'Botafogo', 'DSC Arminia Bielefeld',\n",
       "       'Club Athletico Paranaense', 'RCD Mallorca', 'Pachuca',\n",
       "       'Swansea City', 'KRC Genk', 'En Avant de Guingamp', 'Lecce',\n",
       "       'Nîmes Olympique', 'Colo-Colo', 'Stade Malherbe Caen',\n",
       "       'Columbus Crew SC', 'Junior FC', 'VfB Stuttgart', 'Moreirense FC',\n",
       "       'Rangers FC', 'Malmö FF', 'Shandong Luneng TaiShan FC',\n",
       "       'Sparta Praha', 'Hatayspor', 'Chicago Fire',\n",
       "       'Toulouse Football Club', 'FC Seoul', 'Antalyaspor',\n",
       "       'Deportivo Cali', 'Kaizer Chiefs', 'Real Zaragoza',\n",
       "       'Atlético Clube Goianiense', 'Puebla FC', 'Fortuna Düsseldorf',\n",
       "       'Western United FC', 'Astra Giurgiu', 'Henan Jianye FC', 'Bahia',\n",
       "       'Famalicão', 'Atiker Konyaspor', 'Peñarol', 'DC United',\n",
       "       'New York City FC', 'Argentinos Juniors', 'U.N.A.M.',\n",
       "       'Minnesota United FC', 'Nottingham Forest',\n",
       "       'Independiente del Valle', 'Defensa y Justicia',\n",
       "       'Philadelphia Union', \"Newell's Old Boys\", 'Rosario Central',\n",
       "       'Atlético de San Luis', 'FC Dallas', 'Denizlispor',\n",
       "       'Yeni Malatyaspor', 'Club Atlético Colón', 'Houston Dynamo',\n",
       "       'Millwall', 'Clube Sport Marítimo', 'MKE Ankaragücü',\n",
       "       'Guadalajara', 'Boavista FC', 'Sporting Kansas City',\n",
       "       'Atlético Nacional', 'CD Lugo', 'New York Red Bulls', 'PAOK',\n",
       "       'SC Heerenveen', 'Daegu FC', 'Preston North End', 'Damac FC',\n",
       "       'Brescia', 'VfL Bochum 1848', 'Vancouver Whitecaps FC',\n",
       "       'SV Sandhausen', 'Royal Excel Mouscron', 'Dijon FCO', 'Molde FK',\n",
       "       'Panathinaikos FC', 'LASK Linz', 'Ulsan Hyundai FC',\n",
       "       'Real Salt Lake', 'FC Luzern', 'Viktoria Plzeň', 'Orlando Pirates',\n",
       "       'Al Ittihad', '1. FC Nürnberg', 'Standard de Liège',\n",
       "       'Rayo Vallecano', 'Club Libertad', 'Jeonbuk Hyundai Motors',\n",
       "       'Western Sydney Wanderers', 'Unión de Santa Fe', 'FC Sion',\n",
       "       'Sydney FC', 'Hannover 96', 'Real Sporting de Gijón',\n",
       "       'FC Cincinnati', 'ESTAC Troyes', 'San Jose Earthquakes',\n",
       "       'Club Guaraní', 'FC Lorient', 'Gençlerbirliği SK',\n",
       "       'Sporting de Charleroi', 'Wisła Kraków', 'Al Taawoun', 'Reading',\n",
       "       'Gazişehir Gaziantep F.K.', 'Blackburn Rovers', 'Kashiwa Reysol',\n",
       "       'FK Bodø/Glimt', 'Willem II', 'Vitesse', 'Gil Vicente FC',\n",
       "       'SønderjyskE', 'Yokohama F. Marinos', 'FC St. Gallen',\n",
       "       'Club Atlético Aldosivi', 'Göztepe SK', 'Holstein Kiel',\n",
       "       'FC Juárez', 'FCSB (Steaua)', 'Ettifaq FC', 'KAS Eupen',\n",
       "       'FC Tokyo', 'Melbourne City FC', 'Universitatea Craiova',\n",
       "       'CD Tondela', 'Wolfsberger AC', 'Ceará Sporting Club',\n",
       "       'River Plate Asunción', 'Stoke City', 'Paris FC', 'IFK Norrköping',\n",
       "       'Crotone', 'Cardiff City', 'América de Cali', 'Al Faisaly',\n",
       "       'Independiente Medellín', 'Portimonense SC', 'CD Tenerife',\n",
       "       'Heracles Almelo', 'Nashville SC', 'SK Rapid Wien',\n",
       "       'Kawasaki Frontale', 'Club Necaxa', 'Chievo Verona', 'Lech Poznań',\n",
       "       'AIK', 'FK Austria Wien', 'Querétaro', '1. FC Heidenheim 1846',\n",
       "       'Legia Warszawa', 'Club Atlético Banfield', 'Os Belenenses',\n",
       "       'Huddersfield Town', 'KSV Cercle Brugge', 'LDU Quito',\n",
       "       'Gimnasia y Esgrima La Plata', 'Gamba Osaka', 'Middlesbrough',\n",
       "       'Servette FC', 'Empoli', 'Real Oviedo', 'Kasimpaşa SK', 'CFR Cluj',\n",
       "       'Millonarios FC', 'FC Paços de Ferreira', 'Sint-Truidense VV',\n",
       "       'AD Alcorcón', 'Colorado Rapids', 'Dinamo Bucureşti',\n",
       "       'Cerezo Osaka', 'FC Emmen', 'Sheffield Wednesday',\n",
       "       'FC Erzgebirge Aue', 'Raków Częstochowa', 'Atlético Tucumán',\n",
       "       'SV Darmstadt 98', 'Bristol City', 'Oud-Heverlee Leuven',\n",
       "       'Barnsley', 'Queens Park Rangers', 'Sangju Sangmu FC',\n",
       "       'Helsingborgs IF', 'AC Ajaccio', 'Oceânico FC',\n",
       "       'Club Atlético Talleres', 'Al Hazem', 'SC Paderborn 07',\n",
       "       'Club Atlético Huracán', 'KV Kortrijk', 'El Nacional',\n",
       "       'Mazatlán FC', 'Aberdeen', 'CD Mirandés', 'SV Zulte-Waregem',\n",
       "       'Piast Gliwice', 'Djurgårdens IF', 'Central Córdoba',\n",
       "       'Wellington Phoenix', 'Deportivo Binacional', 'Patronato',\n",
       "       'SpVgg Greuther Fürth', 'IFK Göteborg', 'FC Cartagena',\n",
       "       'Santa Clara', 'FC Twente', 'Farense', 'ADO Den Haag',\n",
       "       'AJ Auxerre', 'Al Fateh', 'Valenciennes FC',\n",
       "       'Hokkaido Consadole Sapporo', 'FC St. Pauli', 'Albacete BP',\n",
       "       '1. FC Kaiserslautern', 'Al Fayha', 'Incheon United FC',\n",
       "       'KV Mechelen', 'Pohang Steelers', 'CD Nacional', 'Unión La Calera',\n",
       "       'BB Erzurumspor', 'Kashima Antlers', 'Arsenal de Sarandí',\n",
       "       'HJK Helsinki', 'Karlsruher SC', 'Aarhus GF', 'FC Zürich',\n",
       "       'Barcelona Sporting Club', 'SG Dynamo Dresden',\n",
       "       'Sanfrecce Hiroshima', 'Al Raed', 'SD Ponferradina', 'Brøndby IF',\n",
       "       'Lechia Gdańsk', 'FC Viitorul', 'SK Sturm Graz', 'IF Elfsborg',\n",
       "       'Gangwon FC', 'Melgar FBC', 'Club Atlético Grau',\n",
       "       'Jagiellonia Białystok', 'Waasland-Beveren', 'VfL Osnabrück',\n",
       "       'Nagoya Grampus', 'CF Fuenlabrada', 'Shamrock Rovers',\n",
       "       'Shimizu S-Pulse', 'RKC Waalwijk', 'Vålerenga Fotball',\n",
       "       'Clermont Foot 63', 'FC Ingolstadt 04', 'FC Würzburger Kickers',\n",
       "       'Górnik Zabrze', 'Charlton Athletic', 'Beerschot AC',\n",
       "       'Coquimbo Unido', 'Viktoria Köln', 'Hull City', 'Málaga CF',\n",
       "       'FC Nordsjælland', 'UD Las Palmas', 'VVV-Venlo', 'GwangJu FC',\n",
       "       'Chamois Niortais Football Club', 'FC Lugano', 'Cusco FC',\n",
       "       'Sparta Rotterdam', 'Sol de América', 'PEC Zwolle',\n",
       "       'Pogoń Szczecin', 'Doncaster Rovers', 'Kristiansund BK',\n",
       "       'Liverpool Fútbol Club', 'Club Bolívar', 'Urawa Red Diamonds',\n",
       "       'SK Brann', 'Eintracht Braunschweig', 'Nacional Asunción',\n",
       "       'Melbourne Victory', 'Kilmarnock', 'Dundalk',\n",
       "       'SSV Jahn Regensburg', 'Abha Club', 'Club Atlético Tigre',\n",
       "       'Suwon Samsung Bluewings', 'Shonan Bellmare', 'SD Aucas', 'Emelec',\n",
       "       'Fortuna Sittard', 'La Berrichonne de Châteauroux',\n",
       "       'Śląsk Wrocław', 'Coventry City', 'Sunderland', 'Alianza Lima',\n",
       "       'Hammarby IF', 'Cracovia', 'CE Sabadell FC', 'Oita Trinita',\n",
       "       'BK Häcken', 'Luton Town', 'Le Havre AC', 'IK Sirius',\n",
       "       'Zagłębie Lubin', 'Grenoble Foot 38', 'Macarthur FC',\n",
       "       'Rodez Aveyron Football', 'Vegalta Sendai', 'Motherwell',\n",
       "       'SV Wehen Wiesbaden', 'Audax Italiano', 'Gaz Metan Mediaş',\n",
       "       'Portsmouth', 'Hibernian', 'Always Ready', 'UD Logroñés',\n",
       "       'FC Voluntari', 'FC Hermannstadt', 'AS Nancy Lorraine',\n",
       "       'Rotherham United', 'Fleetwood Town', 'Jorge Wilstermann',\n",
       "       'Odense Boldklub', 'MSV Duisburg', 'FC Sochaux-Montbéliard',\n",
       "       'Milton Keynes Dons', 'River Plate Montevideo', 'Delfín SC',\n",
       "       'Universidad Católica del Ecuador', 'Deportivo Pasto',\n",
       "       'KV Oostende', 'Club Plaza Colonia', 'Wigan Athletic',\n",
       "       'FC Botoşani', 'C.D. Castellón', 'SCR Altach', 'Örebro SK',\n",
       "       'TSV Hartberg', 'Stabæk Fotball', 'Wycombe Wanderers',\n",
       "       'St. Johnstone FC', 'Oxford United', 'Lincoln City', 'Randers FC',\n",
       "       'Viking FK', 'FC Chambly Oise', 'Dundee United',\n",
       "       'Oriente Petrolero', 'Odds BK', 'Nacional Potosí', 'Sepsi OSK',\n",
       "       'FC Hansa Rostock', 'Lyngby BK', 'SpVgg Unterhaching',\n",
       "       'Brisbane Roar', 'Seongnam FC', 'SV Ried', 'CD Huachipato',\n",
       "       'WSG Tirol', 'Podbeskidzie Bielsko-Biała', 'Peterborough United',\n",
       "       'Club Blooming', 'Wisła Płock', 'Busan IPark', 'FSV Zwickau',\n",
       "       'Mjøndalen IF', 'Vejle Boldklub', 'Pau FC', 'FC Lausanne-Sport',\n",
       "       'Estudiantes de Mérida', 'Sagan Tosu', 'SV Waldhof Mannheim',\n",
       "       'Sport Huancayo', 'Hallescher FC', 'Kalmar FF', 'St. Mirren',\n",
       "       'SKN St. Pölten', 'Sarpsborg 08 FF', 'Shrewsbury',\n",
       "       'TSV 1860 München', 'SV Meppen', 'Ipswich Town', 'IK Start',\n",
       "       'Adelaide United', 'Stal Mielec', 'Centro Atlético Fénix',\n",
       "       'Newcastle Jets', 'Livingston FC', 'AC Mineros de Guayana',\n",
       "       'AFC Wimbledon', 'Burton Albion', 'Al Adalah', 'Warta Poznań',\n",
       "       'USL Dunkerque', 'Bristol Rovers', 'UTA Arad', 'Östersunds FK',\n",
       "       'Sportivo Luqueño', 'Politehnica Iaşi', 'Salford City',\n",
       "       'Central Coast Mariners', 'Caracas FC', 'AC Horsens',\n",
       "       'Plymouth Argyle', 'Aalesunds FK', 'Crewe Alexandra',\n",
       "       'Chindia Târgovişte', 'Oldham Athletic', 'Yokohama FC',\n",
       "       'Blackpool', 'Northampton Town', 'Bayern München II',\n",
       "       'FK Haugesund', 'KFC Uerdingen 05', 'Forest Green Rovers',\n",
       "       'Cheltenham Town', 'Strømsgodset IF', 'Mjällby AIF', 'Exeter City',\n",
       "       'Cambridge United', 'Grimsby Town', 'FC Vaduz', 'Türkgücü München',\n",
       "       'VfB Lübeck', 'Bolton Wanderers', 'Bradford City',\n",
       "       '1. FC Magdeburg', 'FC Admira Wacker Mödling',\n",
       "       'Hamilton Academical FC', 'Aragua FC', 'Accrington Stanley',\n",
       "       'Swindon Town', 'Carlisle United', 'FC Argeș', 'Port Vale',\n",
       "       'Academica Clinceni', 'Rochdale', 'Gillingham', 'Tranmere Rovers',\n",
       "       'Southend United', '1. FC Saarbrücken', 'Colchester United',\n",
       "       'Mansfield Town', 'Falkenbergs FF', 'SC Verl', 'Varbergs BoIS',\n",
       "       'Crawley Town', 'Sandefjord Fotball', 'Newport County',\n",
       "       'Bohemian FC', 'Ross County FC', 'Scunthorpe United', 'Morecambe',\n",
       "       'Walsall', 'Leyton Orient', 'Stevenage', 'Barrow', 'Derry City',\n",
       "       'Llaneros de Guanare', 'Sligo Rovers', 'Zamora FC',\n",
       "       \"St. Patrick's Athletic\", 'Cork City', 'Shelbourne FC',\n",
       "       'Harrogate Town', 'Waterford FC', 'Finn Harps'], dtype=object)"
      ]
     },
     "execution_count": 22,
     "metadata": {},
     "output_type": "execute_result"
    }
   ],
   "source": [
    "fifa['Club'].unique()"
   ]
  },
  {
   "cell_type": "markdown",
   "id": "a1aecb84",
   "metadata": {},
   "source": [
    "### 11. Contract column"
   ]
  },
  {
   "cell_type": "code",
   "execution_count": 25,
   "id": "78b05ceb",
   "metadata": {},
   "outputs": [
    {
     "data": {
      "text/plain": [
       "dtype('O')"
      ]
     },
     "execution_count": 25,
     "metadata": {},
     "output_type": "execute_result"
    }
   ],
   "source": [
    "fifa['Contract'].dtype"
   ]
  },
  {
   "cell_type": "code",
   "execution_count": 28,
   "id": "b0dac9ad",
   "metadata": {},
   "outputs": [
    {
     "data": {
      "text/plain": [
       "array(['2004 ~ 2021', '2018 ~ 2022', '2014 ~ 2023', '2015 ~ 2023',\n",
       "       '2017 ~ 2022', '2017 ~ 2023', '2018 ~ 2024', '2014 ~ 2022',\n",
       "       '2018 ~ 2023', '2016 ~ 2023', '2013 ~ 2023', '2011 ~ 2023',\n",
       "       '2009 ~ 2022', '2005 ~ 2021', '2011 ~ 2021', '2015 ~ 2022',\n",
       "       '2017 ~ 2024', '2010 ~ 2024', '2012 ~ 2021', '2019 ~ 2024',\n",
       "       '2015 ~ 2024', '2017 ~ 2025', '2020 ~ 2025', '2019 ~ 2023',\n",
       "       '2008 ~ 2023', '2015 ~ 2021', '2020 ~ 2022', '2012 ~ 2022',\n",
       "       '2016 ~ 2025', '2013 ~ 2022', '2011 ~ 2022', '2012 ~ 2024',\n",
       "       '2016 ~ 2021', '2012 ~ 2023', '2008 ~ 2022', '2019 ~ 2022',\n",
       "       '2017 ~ 2021', '2013 ~ 2024', '2020 ~ 2024', '2010 ~ 2022',\n",
       "       '2020 ~ 2021', '2011 ~ 2024', '2020 ~ 2023', '2014 ~ 2024',\n",
       "       '2013 ~ 2026', '2016 ~ 2022', '2010 ~ 2021', '2013 ~ 2021',\n",
       "       '2019 ~ 2025', '2018 ~ 2025', '2016 ~ 2024', '2018 ~ 2021',\n",
       "       '2009 ~ 2024', '2007 ~ 2022', 'Jun 30, 2021 On Loan',\n",
       "       '2009 ~ 2021', '2019 ~ 2021', '2019 ~ 2026', 'Free', '2012 ~ 2028',\n",
       "       '2010 ~ 2023', '2014 ~ 2021', '2015 ~ 2025', '2014 ~ 2026',\n",
       "       '2012 ~ 2025', '2017 ~ 2020', '2002 ~ 2022', '2020 ~ 2027',\n",
       "       '2013 ~ 2025', 'Dec 31, 2020 On Loan', '2019 ~ 2020',\n",
       "       '2011 ~ 2025', '2016 ~ 2020', '2007 ~ 2021', '2020 ~ 2026',\n",
       "       '2010 ~ 2025', '2009 ~ 2023', '2008 ~ 2021', '2020 ~ 2020',\n",
       "       '2016 ~ 2026', 'Jan 30, 2021 On Loan', '2012 ~ 2020',\n",
       "       '2014 ~ 2025', 'Jun 30, 2022 On Loan', '2015 ~ 2020',\n",
       "       'May 31, 2021 On Loan', '2018 ~ 2020', '2014 ~ 2020',\n",
       "       '2013 ~ 2020', '2006 ~ 2024', 'Jul 5, 2021 On Loan',\n",
       "       'Dec 31, 2021 On Loan', '2004 ~ 2025', '2011 ~ 2020',\n",
       "       'Jul 1, 2021 On Loan', 'Jan 1, 2021 On Loan', '2006 ~ 2023',\n",
       "       'Aug 31, 2021 On Loan', '2006 ~ 2021', '2005 ~ 2023',\n",
       "       '2003 ~ 2020', '2009 ~ 2020', '2002 ~ 2020', '2005 ~ 2020',\n",
       "       '2005 ~ 2022', 'Jan 31, 2021 On Loan', '2010 ~ 2020',\n",
       "       'Dec 30, 2021 On Loan', '2008 ~ 2020', '2007 ~ 2020',\n",
       "       '2003 ~ 2021', 'Jun 23, 2021 On Loan', 'Jan 3, 2021 On Loan',\n",
       "       'Nov 27, 2021 On Loan', '2002 ~ 2021', 'Jan 17, 2021 On Loan',\n",
       "       'Jun 30, 2023 On Loan', '1998 ~ 2021', '2003 ~ 2022',\n",
       "       '2007 ~ 2023', 'Jul 31, 2021 On Loan', 'Nov 22, 2020 On Loan',\n",
       "       'May 31, 2022 On Loan', '2006 ~ 2020', 'Dec 30, 2020 On Loan',\n",
       "       '2007 ~ 2025', 'Jan 4, 2021 On Loan', 'Nov 30, 2020 On Loan',\n",
       "       '2004 ~ 2020', '2009 ~ 2025', 'Aug 1, 2021 On Loan'], dtype=object)"
      ]
     },
     "execution_count": 28,
     "metadata": {},
     "output_type": "execute_result"
    }
   ],
   "source": [
    "fifa['Contract'].unique()"
   ]
  },
  {
   "cell_type": "code",
   "execution_count": 32,
   "id": "8beecb35",
   "metadata": {},
   "outputs": [
    {
     "name": "stdout",
     "output_type": "stream",
     "text": [
      "Jun 30, 2021 On Loan\n",
      "Jun 30, 2021 On Loan\n",
      "Jun 30, 2021 On Loan\n",
      "Free\n",
      "Free\n",
      "Jun 30, 2021 On Loan\n",
      "Jun 30, 2021 On Loan\n",
      "Jun 30, 2021 On Loan\n",
      "Jun 30, 2021 On Loan\n",
      "Free\n",
      "Free\n",
      "Free\n",
      "Free\n",
      "Free\n",
      "Free\n",
      "Free\n",
      "Free\n",
      "Free\n",
      "Jun 30, 2021 On Loan\n",
      "Jun 30, 2021 On Loan\n",
      "Jun 30, 2021 On Loan\n",
      "Jun 30, 2021 On Loan\n",
      "Jun 30, 2021 On Loan\n",
      "Free\n",
      "Free\n",
      "Free\n",
      "Free\n",
      "Jun 30, 2021 On Loan\n",
      "Dec 31, 2020 On Loan\n",
      "Jun 30, 2021 On Loan\n",
      "Free\n",
      "Jun 30, 2021 On Loan\n",
      "Free\n",
      "Free\n",
      "Free\n",
      "Free\n",
      "Jun 30, 2021 On Loan\n",
      "Jun 30, 2021 On Loan\n",
      "Jun 30, 2021 On Loan\n",
      "Jun 30, 2021 On Loan\n",
      "Jun 30, 2021 On Loan\n",
      "Jun 30, 2021 On Loan\n",
      "Jun 30, 2021 On Loan\n",
      "Jun 30, 2021 On Loan\n",
      "Jun 30, 2021 On Loan\n",
      "Jun 30, 2021 On Loan\n",
      "Jun 30, 2021 On Loan\n",
      "Jun 30, 2021 On Loan\n",
      "Jun 30, 2021 On Loan\n",
      "Free\n",
      "Jun 30, 2021 On Loan\n",
      "Free\n",
      "Jun 30, 2021 On Loan\n",
      "Jan 30, 2021 On Loan\n",
      "Jun 30, 2021 On Loan\n",
      "Jun 30, 2021 On Loan\n",
      "Free\n",
      "Dec 31, 2020 On Loan\n",
      "Jun 30, 2021 On Loan\n",
      "Jun 30, 2021 On Loan\n",
      "Free\n",
      "Jun 30, 2021 On Loan\n",
      "Jun 30, 2021 On Loan\n",
      "Jun 30, 2021 On Loan\n",
      "Free\n",
      "Jun 30, 2021 On Loan\n",
      "Free\n",
      "Free\n",
      "Free\n",
      "Free\n",
      "Jun 30, 2021 On Loan\n",
      "Jun 30, 2022 On Loan\n",
      "Free\n",
      "Jun 30, 2021 On Loan\n",
      "Jun 30, 2021 On Loan\n",
      "Jun 30, 2021 On Loan\n",
      "Jun 30, 2021 On Loan\n",
      "Jun 30, 2021 On Loan\n",
      "Free\n",
      "Jun 30, 2021 On Loan\n",
      "Jun 30, 2021 On Loan\n",
      "Free\n",
      "Jun 30, 2021 On Loan\n",
      "Free\n",
      "Free\n",
      "Jun 30, 2021 On Loan\n",
      "Jun 30, 2021 On Loan\n",
      "Jun 30, 2021 On Loan\n",
      "Jun 30, 2021 On Loan\n",
      "Jun 30, 2021 On Loan\n",
      "Free\n",
      "Jun 30, 2021 On Loan\n",
      "Free\n",
      "Jun 30, 2022 On Loan\n",
      "Jun 30, 2021 On Loan\n",
      "Jun 30, 2021 On Loan\n",
      "Free\n",
      "Free\n",
      "Free\n",
      "Jun 30, 2021 On Loan\n",
      "Jun 30, 2021 On Loan\n",
      "May 31, 2021 On Loan\n",
      "Jun 30, 2021 On Loan\n",
      "Jun 30, 2021 On Loan\n",
      "Jun 30, 2021 On Loan\n",
      "Jun 30, 2021 On Loan\n",
      "Free\n",
      "Dec 31, 2020 On Loan\n",
      "Jun 30, 2021 On Loan\n",
      "Free\n",
      "Free\n",
      "Jun 30, 2021 On Loan\n",
      "Free\n",
      "Jun 30, 2021 On Loan\n",
      "Free\n",
      "Free\n",
      "Jun 30, 2021 On Loan\n",
      "May 31, 2021 On Loan\n",
      "Jun 30, 2021 On Loan\n",
      "Jun 30, 2021 On Loan\n",
      "Jun 30, 2021 On Loan\n",
      "Jun 30, 2021 On Loan\n",
      "Jun 30, 2021 On Loan\n",
      "Jun 30, 2021 On Loan\n",
      "Jun 30, 2022 On Loan\n",
      "Jun 30, 2021 On Loan\n",
      "Free\n",
      "Jun 30, 2021 On Loan\n",
      "Jun 30, 2021 On Loan\n",
      "Dec 31, 2020 On Loan\n",
      "Jun 30, 2021 On Loan\n",
      "Jun 30, 2021 On Loan\n",
      "Jun 30, 2021 On Loan\n",
      "Jun 30, 2021 On Loan\n",
      "Jun 30, 2021 On Loan\n",
      "Jun 30, 2021 On Loan\n",
      "Jun 30, 2021 On Loan\n",
      "Jun 30, 2021 On Loan\n",
      "Free\n",
      "Jun 30, 2021 On Loan\n",
      "May 31, 2021 On Loan\n",
      "Jun 30, 2021 On Loan\n",
      "Jun 30, 2021 On Loan\n",
      "Jun 30, 2021 On Loan\n",
      "Jun 30, 2021 On Loan\n",
      "May 31, 2021 On Loan\n",
      "Jun 30, 2021 On Loan\n",
      "May 31, 2021 On Loan\n",
      "Jun 30, 2021 On Loan\n",
      "Jun 30, 2021 On Loan\n",
      "Jun 30, 2021 On Loan\n",
      "Jun 30, 2021 On Loan\n",
      "Jun 30, 2021 On Loan\n",
      "Free\n",
      "Jun 30, 2021 On Loan\n",
      "Free\n",
      "Jun 30, 2021 On Loan\n",
      "Dec 31, 2020 On Loan\n",
      "Jul 5, 2021 On Loan\n",
      "Jun 30, 2021 On Loan\n",
      "Free\n",
      "Jun 30, 2021 On Loan\n",
      "Jun 30, 2021 On Loan\n",
      "Jun 30, 2021 On Loan\n",
      "Jun 30, 2022 On Loan\n",
      "Free\n",
      "Jun 30, 2021 On Loan\n",
      "Jun 30, 2021 On Loan\n",
      "Jun 30, 2021 On Loan\n",
      "Jun 30, 2021 On Loan\n",
      "Jun 30, 2021 On Loan\n",
      "Jun 30, 2021 On Loan\n",
      "Jun 30, 2021 On Loan\n",
      "Dec 31, 2020 On Loan\n",
      "Jun 30, 2021 On Loan\n",
      "Jun 30, 2021 On Loan\n",
      "Free\n",
      "Jun 30, 2021 On Loan\n",
      "Jun 30, 2021 On Loan\n",
      "Jun 30, 2021 On Loan\n",
      "Dec 31, 2020 On Loan\n",
      "Jun 30, 2021 On Loan\n",
      "Jun 30, 2021 On Loan\n",
      "Jun 30, 2021 On Loan\n",
      "Jun 30, 2021 On Loan\n",
      "Jun 30, 2021 On Loan\n",
      "Jun 30, 2021 On Loan\n",
      "Jun 30, 2021 On Loan\n",
      "Free\n",
      "Jun 30, 2021 On Loan\n",
      "Jun 30, 2021 On Loan\n",
      "Jun 30, 2021 On Loan\n",
      "Jun 30, 2021 On Loan\n",
      "Jun 30, 2021 On Loan\n",
      "Dec 31, 2021 On Loan\n",
      "Free\n",
      "Jun 30, 2021 On Loan\n",
      "Jun 30, 2021 On Loan\n",
      "Free\n",
      "Jun 30, 2021 On Loan\n",
      "Dec 31, 2020 On Loan\n",
      "Jun 30, 2021 On Loan\n",
      "Jun 30, 2021 On Loan\n",
      "Jun 30, 2021 On Loan\n",
      "Free\n",
      "Jun 30, 2021 On Loan\n",
      "Dec 31, 2021 On Loan\n",
      "Free\n",
      "Dec 31, 2020 On Loan\n",
      "Dec 31, 2020 On Loan\n",
      "May 31, 2021 On Loan\n",
      "Free\n",
      "Jun 30, 2021 On Loan\n",
      "Free\n",
      "Jun 30, 2021 On Loan\n",
      "Free\n",
      "Dec 31, 2020 On Loan\n",
      "Free\n",
      "Jun 30, 2021 On Loan\n",
      "Free\n",
      "Free\n",
      "Jun 30, 2021 On Loan\n",
      "May 31, 2021 On Loan\n",
      "Free\n",
      "Free\n",
      "Jun 30, 2021 On Loan\n",
      "Jun 30, 2021 On Loan\n",
      "Free\n",
      "Dec 31, 2020 On Loan\n",
      "Jun 30, 2021 On Loan\n",
      "Jun 30, 2021 On Loan\n",
      "Jun 30, 2021 On Loan\n",
      "Jun 30, 2021 On Loan\n",
      "Free\n",
      "Jun 30, 2021 On Loan\n",
      "May 31, 2021 On Loan\n",
      "Dec 31, 2020 On Loan\n",
      "Jun 30, 2021 On Loan\n",
      "Jun 30, 2021 On Loan\n",
      "Jul 1, 2021 On Loan\n",
      "Free\n",
      "Jun 30, 2021 On Loan\n",
      "Jun 30, 2021 On Loan\n",
      "Jun 30, 2021 On Loan\n",
      "Free\n",
      "Dec 31, 2021 On Loan\n",
      "Free\n",
      "May 31, 2021 On Loan\n",
      "Jun 30, 2021 On Loan\n",
      "Jun 30, 2021 On Loan\n",
      "Dec 31, 2021 On Loan\n",
      "Jun 30, 2021 On Loan\n",
      "Free\n",
      "Jun 30, 2021 On Loan\n",
      "Jun 30, 2021 On Loan\n",
      "Jun 30, 2021 On Loan\n",
      "May 31, 2021 On Loan\n",
      "Jun 30, 2021 On Loan\n",
      "Jan 1, 2021 On Loan\n",
      "Jun 30, 2021 On Loan\n",
      "Jun 30, 2021 On Loan\n",
      "Free\n",
      "Free\n",
      "Jun 30, 2021 On Loan\n",
      "Free\n",
      "Jun 30, 2021 On Loan\n",
      "Jun 30, 2021 On Loan\n",
      "Aug 31, 2021 On Loan\n",
      "Jun 30, 2021 On Loan\n",
      "Jun 30, 2021 On Loan\n",
      "May 31, 2021 On Loan\n",
      "Free\n",
      "Dec 31, 2020 On Loan\n",
      "Jun 30, 2021 On Loan\n",
      "Jun 30, 2021 On Loan\n",
      "Jun 30, 2021 On Loan\n",
      "Jun 30, 2021 On Loan\n",
      "Dec 31, 2020 On Loan\n",
      "Free\n",
      "Free\n",
      "Jun 30, 2021 On Loan\n",
      "Jun 30, 2021 On Loan\n",
      "Dec 31, 2020 On Loan\n",
      "Jun 30, 2021 On Loan\n",
      "Jun 30, 2021 On Loan\n",
      "Free\n",
      "Jun 30, 2021 On Loan\n",
      "Jun 30, 2021 On Loan\n",
      "Free\n",
      "May 31, 2021 On Loan\n",
      "Jun 30, 2021 On Loan\n",
      "Free\n",
      "Free\n",
      "Dec 31, 2021 On Loan\n",
      "Jun 30, 2021 On Loan\n",
      "Dec 31, 2020 On Loan\n",
      "Jun 30, 2021 On Loan\n",
      "Jun 30, 2021 On Loan\n",
      "May 31, 2021 On Loan\n",
      "Jun 30, 2021 On Loan\n",
      "Dec 31, 2020 On Loan\n",
      "Jun 30, 2021 On Loan\n",
      "Jun 30, 2021 On Loan\n",
      "Jun 30, 2021 On Loan\n",
      "Jun 30, 2021 On Loan\n",
      "May 31, 2021 On Loan\n",
      "Jun 30, 2021 On Loan\n",
      "Dec 31, 2020 On Loan\n",
      "Dec 31, 2020 On Loan\n",
      "Jun 30, 2021 On Loan\n",
      "Free\n",
      "Jun 30, 2021 On Loan\n",
      "Jun 30, 2021 On Loan\n",
      "Free\n",
      "Jun 30, 2022 On Loan\n",
      "Jun 30, 2021 On Loan\n",
      "Jun 30, 2021 On Loan\n",
      "Free\n",
      "Jun 30, 2021 On Loan\n",
      "Jun 30, 2021 On Loan\n",
      "Jun 30, 2021 On Loan\n",
      "Jun 30, 2021 On Loan\n",
      "Free\n",
      "Jun 30, 2021 On Loan\n",
      "Jun 30, 2021 On Loan\n",
      "Dec 31, 2020 On Loan\n",
      "Jun 30, 2021 On Loan\n",
      "Jun 30, 2021 On Loan\n",
      "Free\n",
      "Jun 30, 2021 On Loan\n",
      "Jun 30, 2021 On Loan\n",
      "Free\n",
      "Jun 30, 2021 On Loan\n",
      "Jun 30, 2021 On Loan\n",
      "Jun 30, 2021 On Loan\n",
      "Jun 30, 2021 On Loan\n",
      "Jun 30, 2021 On Loan\n",
      "Jun 30, 2021 On Loan\n",
      "May 31, 2021 On Loan\n",
      "Jun 30, 2021 On Loan\n",
      "Jun 30, 2021 On Loan\n",
      "Free\n",
      "Jun 30, 2021 On Loan\n",
      "Jun 30, 2021 On Loan\n",
      "Jun 30, 2021 On Loan\n",
      "Jun 30, 2021 On Loan\n",
      "Free\n",
      "Free\n",
      "Free\n",
      "Jun 30, 2021 On Loan\n",
      "Jun 30, 2021 On Loan\n",
      "Jun 30, 2021 On Loan\n",
      "Jun 30, 2021 On Loan\n",
      "Dec 31, 2020 On Loan\n",
      "Jun 30, 2021 On Loan\n",
      "Jun 30, 2021 On Loan\n",
      "Jun 30, 2021 On Loan\n",
      "Jun 30, 2021 On Loan\n",
      "Jun 30, 2021 On Loan\n",
      "Free\n",
      "Jun 30, 2021 On Loan\n",
      "Jun 30, 2021 On Loan\n",
      "Jun 30, 2021 On Loan\n",
      "Jun 30, 2021 On Loan\n",
      "Free\n",
      "Free\n",
      "Jun 30, 2021 On Loan\n",
      "Jun 30, 2021 On Loan\n",
      "Jun 30, 2021 On Loan\n",
      "Jun 30, 2021 On Loan\n",
      "Jun 30, 2021 On Loan\n",
      "May 31, 2021 On Loan\n",
      "Jun 30, 2021 On Loan\n",
      "May 31, 2021 On Loan\n",
      "Free\n",
      "Jun 30, 2021 On Loan\n",
      "Dec 31, 2020 On Loan\n",
      "Free\n",
      "Free\n",
      "Jun 30, 2021 On Loan\n",
      "Free\n",
      "Jun 30, 2021 On Loan\n",
      "Jun 30, 2021 On Loan\n",
      "Jun 30, 2022 On Loan\n",
      "Jun 30, 2021 On Loan\n",
      "Jun 30, 2021 On Loan\n",
      "Dec 31, 2020 On Loan\n",
      "Free\n",
      "Free\n",
      "Free\n",
      "Jun 30, 2021 On Loan\n",
      "Jun 30, 2021 On Loan\n",
      "Jun 30, 2021 On Loan\n",
      "Jun 30, 2021 On Loan\n",
      "Free\n",
      "Jun 30, 2021 On Loan\n",
      "Dec 31, 2020 On Loan\n",
      "Jun 30, 2021 On Loan\n",
      "Free\n",
      "May 31, 2021 On Loan\n",
      "Jun 30, 2021 On Loan\n",
      "Jun 30, 2021 On Loan\n",
      "Jun 30, 2021 On Loan\n",
      "Jun 30, 2021 On Loan\n",
      "May 31, 2021 On Loan\n",
      "Dec 31, 2020 On Loan\n",
      "Jun 30, 2021 On Loan\n",
      "Jun 30, 2021 On Loan\n",
      "Jun 30, 2021 On Loan\n",
      "Jun 30, 2021 On Loan\n",
      "Free\n",
      "Free\n",
      "Jun 30, 2021 On Loan\n",
      "Jan 31, 2021 On Loan\n",
      "Jun 30, 2021 On Loan\n",
      "Jun 30, 2021 On Loan\n",
      "Jun 30, 2021 On Loan\n",
      "Jun 30, 2021 On Loan\n",
      "Jun 30, 2021 On Loan\n",
      "May 31, 2021 On Loan\n",
      "Jun 30, 2021 On Loan\n",
      "Jun 30, 2021 On Loan\n",
      "Jun 30, 2021 On Loan\n",
      "Jun 30, 2021 On Loan\n",
      "Jun 30, 2021 On Loan\n",
      "Free\n",
      "Free\n",
      "Jun 30, 2021 On Loan\n",
      "Jun 30, 2021 On Loan\n",
      "Jun 30, 2021 On Loan\n",
      "Jun 30, 2021 On Loan\n",
      "Free\n",
      "Free\n",
      "Free\n",
      "Jun 30, 2021 On Loan\n",
      "May 31, 2021 On Loan\n",
      "Jun 30, 2021 On Loan\n",
      "Jun 30, 2021 On Loan\n",
      "Dec 30, 2021 On Loan\n",
      "Free\n",
      "Jun 30, 2021 On Loan\n",
      "Dec 31, 2020 On Loan\n",
      "Free\n",
      "Jun 30, 2021 On Loan\n",
      "Free\n",
      "Dec 31, 2021 On Loan\n",
      "Free\n",
      "Jun 30, 2021 On Loan\n",
      "Free\n",
      "Dec 31, 2020 On Loan\n",
      "Jun 30, 2021 On Loan\n",
      "Jun 30, 2021 On Loan\n",
      "Jun 30, 2021 On Loan\n",
      "Dec 31, 2020 On Loan\n",
      "Free\n",
      "Jun 30, 2021 On Loan\n",
      "Jun 30, 2021 On Loan\n",
      "Jun 30, 2021 On Loan\n",
      "Jan 31, 2021 On Loan\n",
      "Free\n",
      "Free\n",
      "Jun 30, 2021 On Loan\n",
      "Free\n",
      "Free\n",
      "Jun 30, 2021 On Loan\n",
      "Jun 30, 2021 On Loan\n",
      "Jun 30, 2021 On Loan\n",
      "Free\n",
      "Dec 31, 2021 On Loan\n",
      "Jun 30, 2021 On Loan\n",
      "Free\n",
      "Jun 30, 2022 On Loan\n",
      "Dec 31, 2021 On Loan\n",
      "Free\n",
      "Jun 30, 2021 On Loan\n",
      "Jun 30, 2021 On Loan\n",
      "Jun 30, 2021 On Loan\n",
      "Jun 30, 2021 On Loan\n",
      "Jun 30, 2021 On Loan\n",
      "Free\n",
      "Free\n",
      "Jun 30, 2021 On Loan\n",
      "Jun 30, 2021 On Loan\n",
      "Jun 30, 2021 On Loan\n",
      "Jun 30, 2021 On Loan\n",
      "May 31, 2021 On Loan\n",
      "Dec 31, 2021 On Loan\n",
      "Jun 30, 2021 On Loan\n",
      "Jun 30, 2021 On Loan\n",
      "Jun 30, 2021 On Loan\n",
      "Jun 30, 2021 On Loan\n",
      "Jun 30, 2021 On Loan\n",
      "Jun 30, 2021 On Loan\n",
      "Jan 1, 2021 On Loan\n",
      "Dec 31, 2021 On Loan\n",
      "Jun 30, 2021 On Loan\n",
      "Jun 30, 2021 On Loan\n",
      "Dec 31, 2020 On Loan\n",
      "Free\n",
      "Jun 30, 2021 On Loan\n",
      "Free\n",
      "Jun 30, 2021 On Loan\n",
      "Jun 30, 2021 On Loan\n",
      "Free\n",
      "Dec 31, 2020 On Loan\n",
      "Free\n",
      "Free\n",
      "Jun 30, 2021 On Loan\n",
      "Jun 30, 2021 On Loan\n",
      "Jun 30, 2021 On Loan\n",
      "Jun 30, 2021 On Loan\n",
      "Free\n",
      "Dec 31, 2020 On Loan\n",
      "Free\n",
      "Dec 31, 2020 On Loan\n",
      "Jun 30, 2021 On Loan\n",
      "Jun 30, 2021 On Loan\n",
      "Jun 30, 2021 On Loan\n",
      "Free\n",
      "Jun 30, 2021 On Loan\n",
      "Free\n",
      "Jun 30, 2021 On Loan\n",
      "Jun 30, 2021 On Loan\n",
      "Jun 30, 2021 On Loan\n",
      "Jun 30, 2021 On Loan\n",
      "Free\n",
      "Jan 1, 2021 On Loan\n",
      "Jun 30, 2021 On Loan\n",
      "Jan 31, 2021 On Loan\n",
      "Jun 30, 2021 On Loan\n",
      "Jun 30, 2021 On Loan\n",
      "Jun 23, 2021 On Loan\n",
      "Jun 30, 2021 On Loan\n",
      "Jun 30, 2021 On Loan\n",
      "Jun 30, 2021 On Loan\n",
      "Free\n",
      "Jun 30, 2021 On Loan\n",
      "Jan 31, 2021 On Loan\n",
      "Jun 30, 2021 On Loan\n",
      "Dec 31, 2020 On Loan\n",
      "Jun 30, 2021 On Loan\n",
      "Jun 30, 2021 On Loan\n",
      "Jun 30, 2021 On Loan\n",
      "Jun 30, 2021 On Loan\n",
      "Jun 30, 2021 On Loan\n",
      "Jun 30, 2021 On Loan\n",
      "Jun 30, 2021 On Loan\n",
      "Free\n",
      "Jun 30, 2021 On Loan\n",
      "May 31, 2021 On Loan\n",
      "Dec 31, 2020 On Loan\n",
      "Dec 31, 2020 On Loan\n",
      "Jun 30, 2021 On Loan\n",
      "Jun 30, 2021 On Loan\n",
      "Jan 1, 2021 On Loan\n",
      "Free\n",
      "Jun 30, 2021 On Loan\n",
      "Free\n",
      "Jun 30, 2021 On Loan\n",
      "Jun 30, 2021 On Loan\n",
      "Jun 30, 2021 On Loan\n",
      "Jun 30, 2021 On Loan\n",
      "Dec 31, 2020 On Loan\n",
      "Jun 30, 2021 On Loan\n",
      "Free\n",
      "Free\n",
      "Jun 30, 2021 On Loan\n",
      "Dec 31, 2020 On Loan\n",
      "Jun 30, 2021 On Loan\n",
      "Jun 30, 2021 On Loan\n",
      "Jun 30, 2021 On Loan\n",
      "Free\n",
      "Jun 30, 2021 On Loan\n",
      "Jun 30, 2021 On Loan\n",
      "Jun 30, 2021 On Loan\n",
      "Dec 31, 2021 On Loan\n",
      "Jun 30, 2021 On Loan\n",
      "Jun 30, 2021 On Loan\n",
      "Jun 30, 2021 On Loan\n",
      "Jun 30, 2021 On Loan\n",
      "Jun 30, 2021 On Loan\n",
      "Jun 30, 2021 On Loan\n",
      "Dec 31, 2020 On Loan\n",
      "Free\n",
      "Free\n",
      "Jun 30, 2021 On Loan\n",
      "Jun 30, 2021 On Loan\n",
      "Jun 30, 2021 On Loan\n",
      "Jun 30, 2021 On Loan\n",
      "Jun 30, 2022 On Loan\n",
      "Free\n",
      "Dec 31, 2020 On Loan\n",
      "Jun 30, 2021 On Loan\n",
      "Free\n",
      "Dec 31, 2020 On Loan\n",
      "Jun 30, 2021 On Loan\n",
      "Free\n",
      "Jun 30, 2021 On Loan\n",
      "Free\n",
      "Dec 31, 2021 On Loan\n",
      "Dec 31, 2020 On Loan\n",
      "Free\n",
      "Free\n",
      "Free\n",
      "Jun 30, 2021 On Loan\n",
      "Jun 30, 2021 On Loan\n",
      "Jun 30, 2021 On Loan\n",
      "Jun 30, 2021 On Loan\n",
      "Jun 30, 2021 On Loan\n",
      "Jun 30, 2021 On Loan\n",
      "Dec 31, 2020 On Loan\n",
      "Free\n",
      "Jun 30, 2021 On Loan\n",
      "Jun 30, 2021 On Loan\n",
      "Jun 30, 2021 On Loan\n",
      "Dec 31, 2020 On Loan\n",
      "Jun 30, 2021 On Loan\n",
      "Jun 30, 2021 On Loan\n",
      "Jun 30, 2021 On Loan\n",
      "Jun 30, 2021 On Loan\n",
      "Jun 30, 2021 On Loan\n",
      "Jan 31, 2021 On Loan\n",
      "Jun 30, 2021 On Loan\n",
      "Free\n",
      "Jan 31, 2021 On Loan\n",
      "Jun 30, 2021 On Loan\n",
      "Free\n",
      "Free\n",
      "Jun 30, 2021 On Loan\n",
      "Jun 30, 2021 On Loan\n",
      "Jun 30, 2021 On Loan\n",
      "Jun 30, 2021 On Loan\n",
      "Jun 30, 2021 On Loan\n",
      "Jun 30, 2021 On Loan\n",
      "Jun 30, 2021 On Loan\n",
      "Jun 30, 2021 On Loan\n",
      "Jun 30, 2021 On Loan\n",
      "Free\n",
      "Dec 31, 2020 On Loan\n",
      "Jun 30, 2021 On Loan\n",
      "Jun 30, 2021 On Loan\n",
      "Dec 31, 2020 On Loan\n",
      "Jun 30, 2021 On Loan\n",
      "Jun 30, 2021 On Loan\n",
      "Jun 30, 2021 On Loan\n",
      "Free\n",
      "Jun 30, 2021 On Loan\n",
      "Free\n",
      "Jun 30, 2021 On Loan\n",
      "Jun 30, 2021 On Loan\n",
      "Jun 30, 2021 On Loan\n",
      "Jun 30, 2021 On Loan\n",
      "Jun 30, 2021 On Loan\n",
      "Jun 30, 2021 On Loan\n",
      "Jun 30, 2021 On Loan\n",
      "May 31, 2021 On Loan\n",
      "Jun 30, 2021 On Loan\n",
      "Jun 30, 2021 On Loan\n",
      "Dec 31, 2020 On Loan\n",
      "Jun 30, 2021 On Loan\n",
      "Jun 30, 2021 On Loan\n",
      "Jun 30, 2021 On Loan\n",
      "Jun 30, 2021 On Loan\n",
      "Jun 30, 2021 On Loan\n",
      "Jan 3, 2021 On Loan\n",
      "Jun 30, 2021 On Loan\n",
      "Jun 30, 2021 On Loan\n",
      "Free\n",
      "Jun 30, 2021 On Loan\n",
      "Dec 31, 2020 On Loan\n",
      "Jun 30, 2021 On Loan\n",
      "Jun 30, 2021 On Loan\n",
      "Dec 31, 2020 On Loan\n",
      "Jun 30, 2021 On Loan\n",
      "Jun 30, 2021 On Loan\n",
      "Free\n",
      "Jun 30, 2021 On Loan\n",
      "Jun 30, 2021 On Loan\n",
      "Jun 30, 2021 On Loan\n",
      "Jun 30, 2021 On Loan\n",
      "Jun 30, 2021 On Loan\n",
      "Jun 30, 2021 On Loan\n",
      "Jun 30, 2021 On Loan\n",
      "Jun 30, 2021 On Loan\n",
      "Jun 30, 2021 On Loan\n",
      "Jun 30, 2021 On Loan\n",
      "Dec 31, 2020 On Loan\n",
      "Dec 31, 2020 On Loan\n",
      "May 31, 2021 On Loan\n",
      "Jun 30, 2021 On Loan\n",
      "Nov 27, 2021 On Loan\n",
      "Free\n",
      "Jun 30, 2021 On Loan\n",
      "Free\n",
      "Jun 30, 2021 On Loan\n",
      "Jun 30, 2021 On Loan\n",
      "Jun 30, 2021 On Loan\n",
      "Jun 30, 2021 On Loan\n",
      "Dec 31, 2020 On Loan\n",
      "Dec 31, 2020 On Loan\n",
      "May 31, 2021 On Loan\n",
      "Jun 30, 2021 On Loan\n",
      "Jun 30, 2021 On Loan\n",
      "Free\n",
      "Jun 30, 2021 On Loan\n",
      "Jun 30, 2021 On Loan\n",
      "Jun 30, 2021 On Loan\n",
      "Jun 30, 2021 On Loan\n",
      "Jun 30, 2021 On Loan\n",
      "Jun 30, 2021 On Loan\n",
      "Jun 30, 2021 On Loan\n",
      "Jun 30, 2021 On Loan\n",
      "Free\n",
      "Jun 30, 2021 On Loan\n",
      "Jun 30, 2021 On Loan\n",
      "Jun 30, 2022 On Loan\n",
      "Jun 30, 2021 On Loan\n",
      "Free\n",
      "Jun 30, 2021 On Loan\n",
      "Jun 30, 2021 On Loan\n",
      "Jun 30, 2021 On Loan\n",
      "Jun 30, 2021 On Loan\n",
      "Dec 31, 2021 On Loan\n",
      "Free\n",
      "Free\n",
      "Jun 30, 2021 On Loan\n",
      "Free\n",
      "Jun 30, 2021 On Loan\n",
      "Jun 30, 2021 On Loan\n",
      "Dec 31, 2020 On Loan\n",
      "Jun 30, 2021 On Loan\n",
      "Free\n",
      "Jun 30, 2021 On Loan\n",
      "Jun 30, 2021 On Loan\n",
      "Dec 31, 2020 On Loan\n",
      "Jun 30, 2021 On Loan\n",
      "Jun 30, 2021 On Loan\n",
      "Jun 30, 2021 On Loan\n",
      "Nov 27, 2021 On Loan\n",
      "Free\n",
      "Jan 31, 2021 On Loan\n",
      "Jun 30, 2021 On Loan\n",
      "Jun 30, 2021 On Loan\n",
      "Jun 30, 2021 On Loan\n",
      "Jun 30, 2021 On Loan\n",
      "Jun 30, 2021 On Loan\n",
      "Jun 30, 2021 On Loan\n",
      "Jun 30, 2021 On Loan\n",
      "Free\n",
      "Jun 30, 2021 On Loan\n",
      "Dec 31, 2021 On Loan\n",
      "Jun 30, 2021 On Loan\n",
      "Dec 31, 2021 On Loan\n",
      "Free\n",
      "Jun 30, 2021 On Loan\n",
      "Jun 30, 2021 On Loan\n",
      "Jun 30, 2021 On Loan\n",
      "Jun 30, 2021 On Loan\n",
      "Free\n",
      "Jun 30, 2021 On Loan\n",
      "Jun 30, 2021 On Loan\n",
      "Free\n",
      "Jun 30, 2021 On Loan\n",
      "Jun 30, 2021 On Loan\n",
      "Jun 23, 2021 On Loan\n",
      "Dec 31, 2020 On Loan\n",
      "Jun 30, 2021 On Loan\n",
      "Jun 30, 2021 On Loan\n",
      "Jun 30, 2021 On Loan\n",
      "Jan 17, 2021 On Loan\n",
      "Free\n",
      "Jun 30, 2021 On Loan\n",
      "Jan 31, 2021 On Loan\n",
      "Free\n",
      "Jun 30, 2021 On Loan\n",
      "Free\n",
      "Jun 30, 2023 On Loan\n",
      "Jun 30, 2021 On Loan\n",
      "Jun 30, 2021 On Loan\n",
      "Jun 30, 2021 On Loan\n",
      "Free\n",
      "Jun 30, 2021 On Loan\n",
      "Dec 31, 2020 On Loan\n",
      "Jun 30, 2021 On Loan\n",
      "Jun 30, 2021 On Loan\n",
      "Jun 30, 2021 On Loan\n",
      "Jun 30, 2021 On Loan\n",
      "Free\n",
      "Jun 30, 2021 On Loan\n",
      "Jun 30, 2021 On Loan\n",
      "Jun 30, 2021 On Loan\n",
      "Jun 30, 2021 On Loan\n",
      "Jun 30, 2021 On Loan\n",
      "Jun 30, 2021 On Loan\n",
      "Jun 30, 2021 On Loan\n",
      "Jun 30, 2021 On Loan\n",
      "Jun 30, 2021 On Loan\n",
      "Free\n",
      "Jun 30, 2021 On Loan\n",
      "Jun 30, 2021 On Loan\n",
      "Dec 31, 2020 On Loan\n",
      "Jun 30, 2021 On Loan\n",
      "Jun 30, 2021 On Loan\n",
      "Jun 30, 2021 On Loan\n",
      "Jan 31, 2021 On Loan\n",
      "Jun 30, 2021 On Loan\n",
      "Jun 30, 2021 On Loan\n",
      "Dec 31, 2021 On Loan\n",
      "Free\n",
      "Jun 30, 2021 On Loan\n",
      "Jun 30, 2021 On Loan\n",
      "Jun 30, 2021 On Loan\n",
      "Jun 30, 2021 On Loan\n",
      "Jan 1, 2021 On Loan\n",
      "Jun 30, 2021 On Loan\n",
      "Jun 30, 2021 On Loan\n"
     ]
    },
    {
     "name": "stdout",
     "output_type": "stream",
     "text": [
      "Jun 30, 2021 On Loan\n",
      "May 31, 2021 On Loan\n",
      "Dec 31, 2021 On Loan\n",
      "Free\n",
      "Jun 30, 2021 On Loan\n",
      "May 31, 2021 On Loan\n",
      "Free\n",
      "Jun 23, 2021 On Loan\n",
      "Jun 30, 2021 On Loan\n",
      "Jun 30, 2021 On Loan\n",
      "Jun 23, 2021 On Loan\n",
      "Jun 30, 2021 On Loan\n",
      "Jun 30, 2021 On Loan\n",
      "Jun 30, 2021 On Loan\n",
      "Jun 30, 2021 On Loan\n",
      "Jun 30, 2022 On Loan\n",
      "Jun 30, 2021 On Loan\n",
      "Jun 30, 2021 On Loan\n",
      "Jun 23, 2021 On Loan\n",
      "Jun 30, 2021 On Loan\n",
      "Free\n",
      "Dec 31, 2020 On Loan\n",
      "Jun 30, 2021 On Loan\n",
      "Free\n",
      "Jun 30, 2021 On Loan\n",
      "Dec 31, 2020 On Loan\n",
      "Jun 30, 2021 On Loan\n",
      "Jun 30, 2021 On Loan\n",
      "Jun 30, 2021 On Loan\n",
      "Jun 30, 2021 On Loan\n",
      "Jun 30, 2021 On Loan\n",
      "Free\n",
      "Jun 30, 2021 On Loan\n",
      "Jun 30, 2021 On Loan\n",
      "Jun 30, 2021 On Loan\n",
      "Jun 30, 2021 On Loan\n",
      "Jan 3, 2021 On Loan\n",
      "Jan 31, 2021 On Loan\n",
      "Jun 30, 2021 On Loan\n",
      "Jun 30, 2021 On Loan\n",
      "Jun 30, 2021 On Loan\n",
      "Jun 30, 2021 On Loan\n",
      "Jun 30, 2021 On Loan\n",
      "Free\n",
      "Jun 30, 2021 On Loan\n",
      "Dec 31, 2020 On Loan\n",
      "Jun 30, 2021 On Loan\n",
      "Jun 30, 2021 On Loan\n",
      "Jun 30, 2021 On Loan\n",
      "Jun 30, 2021 On Loan\n",
      "Jun 30, 2021 On Loan\n",
      "Free\n",
      "Jun 30, 2021 On Loan\n",
      "Free\n",
      "Free\n",
      "Jun 30, 2021 On Loan\n",
      "Jun 30, 2021 On Loan\n",
      "Free\n",
      "Free\n",
      "Jun 30, 2021 On Loan\n",
      "Jun 30, 2021 On Loan\n",
      "Jun 30, 2021 On Loan\n",
      "Jul 31, 2021 On Loan\n",
      "Dec 31, 2020 On Loan\n",
      "Nov 27, 2021 On Loan\n",
      "Jun 30, 2021 On Loan\n",
      "Jun 30, 2021 On Loan\n",
      "Jun 30, 2021 On Loan\n",
      "Jun 30, 2021 On Loan\n",
      "Jun 30, 2021 On Loan\n",
      "Jun 30, 2021 On Loan\n",
      "Dec 31, 2021 On Loan\n",
      "Jun 30, 2021 On Loan\n",
      "Jun 30, 2021 On Loan\n",
      "Free\n",
      "Jun 30, 2021 On Loan\n",
      "Jun 30, 2021 On Loan\n",
      "Dec 31, 2020 On Loan\n",
      "Jun 30, 2021 On Loan\n",
      "Nov 22, 2020 On Loan\n",
      "May 31, 2021 On Loan\n",
      "Jun 30, 2021 On Loan\n",
      "May 31, 2022 On Loan\n",
      "Jun 30, 2021 On Loan\n",
      "Dec 31, 2020 On Loan\n",
      "Jun 30, 2021 On Loan\n",
      "Jun 30, 2021 On Loan\n",
      "Jun 30, 2021 On Loan\n",
      "Jun 30, 2021 On Loan\n",
      "Jun 30, 2021 On Loan\n",
      "Jun 30, 2021 On Loan\n",
      "Free\n",
      "Dec 31, 2020 On Loan\n",
      "Free\n",
      "Jun 30, 2021 On Loan\n",
      "Jun 30, 2021 On Loan\n",
      "Nov 27, 2021 On Loan\n",
      "Jun 30, 2021 On Loan\n",
      "Jun 30, 2021 On Loan\n",
      "Nov 22, 2020 On Loan\n",
      "Jun 30, 2021 On Loan\n",
      "Free\n",
      "Nov 22, 2020 On Loan\n",
      "Jun 30, 2021 On Loan\n",
      "Jun 30, 2021 On Loan\n",
      "Free\n",
      "Jun 30, 2021 On Loan\n",
      "Jun 30, 2021 On Loan\n",
      "Jun 30, 2021 On Loan\n",
      "Jan 3, 2021 On Loan\n",
      "Jun 30, 2021 On Loan\n",
      "Jun 30, 2021 On Loan\n",
      "Jun 30, 2021 On Loan\n",
      "Jun 30, 2021 On Loan\n",
      "Jun 30, 2021 On Loan\n",
      "Jun 30, 2021 On Loan\n",
      "Jun 30, 2021 On Loan\n",
      "Jun 30, 2021 On Loan\n",
      "Nov 22, 2020 On Loan\n",
      "Jun 30, 2021 On Loan\n",
      "Jun 30, 2021 On Loan\n",
      "Jun 30, 2021 On Loan\n",
      "Jun 30, 2021 On Loan\n",
      "Jun 30, 2021 On Loan\n",
      "Jun 23, 2021 On Loan\n",
      "Jun 30, 2021 On Loan\n",
      "Jan 31, 2021 On Loan\n",
      "Jun 30, 2021 On Loan\n",
      "Jun 30, 2021 On Loan\n",
      "Dec 31, 2020 On Loan\n",
      "Jun 30, 2021 On Loan\n",
      "Jun 30, 2021 On Loan\n",
      "Dec 31, 2020 On Loan\n",
      "Jun 30, 2021 On Loan\n",
      "Jan 31, 2021 On Loan\n",
      "Free\n",
      "Jun 30, 2021 On Loan\n",
      "Jun 30, 2021 On Loan\n",
      "Dec 31, 2020 On Loan\n",
      "Free\n",
      "Free\n",
      "Jun 30, 2021 On Loan\n",
      "Dec 30, 2020 On Loan\n",
      "Jun 30, 2021 On Loan\n",
      "Dec 31, 2020 On Loan\n",
      "Free\n",
      "Dec 31, 2020 On Loan\n",
      "Dec 31, 2020 On Loan\n",
      "Jun 30, 2021 On Loan\n",
      "Jun 30, 2021 On Loan\n",
      "Dec 31, 2020 On Loan\n",
      "Dec 31, 2021 On Loan\n",
      "Dec 31, 2020 On Loan\n",
      "Jun 30, 2021 On Loan\n",
      "Jun 30, 2021 On Loan\n",
      "Jun 30, 2021 On Loan\n",
      "Jun 30, 2021 On Loan\n",
      "Jun 30, 2021 On Loan\n",
      "Jun 30, 2021 On Loan\n",
      "Jun 30, 2021 On Loan\n",
      "Jun 30, 2021 On Loan\n",
      "Jun 30, 2021 On Loan\n",
      "Jun 30, 2021 On Loan\n",
      "Jun 30, 2021 On Loan\n",
      "Nov 27, 2021 On Loan\n",
      "Jun 30, 2021 On Loan\n",
      "Jun 30, 2021 On Loan\n",
      "Jun 30, 2021 On Loan\n",
      "Jun 30, 2021 On Loan\n",
      "Jun 30, 2021 On Loan\n",
      "Jun 30, 2021 On Loan\n",
      "Free\n",
      "Jun 30, 2021 On Loan\n",
      "Jun 30, 2021 On Loan\n",
      "Jun 30, 2021 On Loan\n",
      "Jun 30, 2021 On Loan\n",
      "Jun 30, 2021 On Loan\n",
      "Jun 30, 2021 On Loan\n",
      "Jun 30, 2021 On Loan\n",
      "Free\n",
      "Free\n",
      "Jun 30, 2021 On Loan\n",
      "Jun 30, 2021 On Loan\n",
      "Jun 30, 2021 On Loan\n",
      "Dec 31, 2020 On Loan\n",
      "Dec 31, 2020 On Loan\n",
      "Jun 30, 2021 On Loan\n",
      "Jan 1, 2021 On Loan\n",
      "Jun 30, 2021 On Loan\n",
      "Jun 30, 2021 On Loan\n",
      "Jun 30, 2021 On Loan\n",
      "Jun 30, 2021 On Loan\n",
      "Jan 31, 2021 On Loan\n",
      "Jun 30, 2021 On Loan\n",
      "Jun 30, 2021 On Loan\n",
      "Jun 30, 2021 On Loan\n",
      "Jun 30, 2021 On Loan\n",
      "Jan 4, 2021 On Loan\n",
      "Jun 30, 2021 On Loan\n",
      "Jun 30, 2022 On Loan\n",
      "Free\n",
      "Jun 30, 2021 On Loan\n",
      "Jun 30, 2021 On Loan\n",
      "Jun 30, 2021 On Loan\n",
      "Jun 30, 2021 On Loan\n",
      "Jun 30, 2021 On Loan\n",
      "Dec 31, 2020 On Loan\n",
      "Jun 30, 2021 On Loan\n",
      "Jun 30, 2021 On Loan\n",
      "Jan 1, 2021 On Loan\n",
      "Jun 30, 2021 On Loan\n",
      "Jun 30, 2021 On Loan\n",
      "Jun 30, 2021 On Loan\n",
      "Jun 30, 2021 On Loan\n",
      "Free\n",
      "Free\n",
      "Free\n",
      "Free\n",
      "Jun 30, 2021 On Loan\n",
      "Jan 1, 2021 On Loan\n",
      "Jun 30, 2021 On Loan\n",
      "Jun 30, 2021 On Loan\n",
      "Nov 30, 2020 On Loan\n",
      "May 31, 2022 On Loan\n",
      "Jun 30, 2021 On Loan\n",
      "Jun 30, 2021 On Loan\n",
      "Jan 1, 2021 On Loan\n",
      "Jun 30, 2021 On Loan\n",
      "Jun 30, 2022 On Loan\n",
      "Jun 30, 2021 On Loan\n",
      "Jun 30, 2021 On Loan\n",
      "Dec 31, 2020 On Loan\n",
      "Dec 31, 2020 On Loan\n",
      "Dec 31, 2020 On Loan\n",
      "Jun 30, 2021 On Loan\n",
      "Dec 31, 2020 On Loan\n",
      "Jun 30, 2021 On Loan\n",
      "Free\n",
      "May 31, 2021 On Loan\n",
      "Jun 30, 2021 On Loan\n",
      "Jun 30, 2021 On Loan\n",
      "Jun 30, 2021 On Loan\n",
      "Dec 31, 2020 On Loan\n",
      "Jun 30, 2021 On Loan\n",
      "Jun 30, 2021 On Loan\n",
      "Jun 30, 2021 On Loan\n",
      "Jun 30, 2021 On Loan\n",
      "Jun 30, 2021 On Loan\n",
      "Jun 30, 2021 On Loan\n",
      "Jun 30, 2022 On Loan\n",
      "Dec 31, 2021 On Loan\n",
      "Jan 31, 2021 On Loan\n",
      "Dec 31, 2020 On Loan\n",
      "Jun 30, 2021 On Loan\n",
      "Jan 31, 2021 On Loan\n",
      "Jun 30, 2021 On Loan\n",
      "Jun 30, 2021 On Loan\n",
      "Jun 30, 2021 On Loan\n",
      "Jan 1, 2021 On Loan\n",
      "Jun 30, 2021 On Loan\n",
      "Jun 30, 2021 On Loan\n",
      "Free\n",
      "Jun 30, 2021 On Loan\n",
      "Jun 30, 2021 On Loan\n",
      "Jun 30, 2021 On Loan\n",
      "Jun 30, 2021 On Loan\n",
      "Jun 30, 2021 On Loan\n",
      "Free\n",
      "Dec 31, 2020 On Loan\n",
      "Jan 31, 2021 On Loan\n",
      "Jun 30, 2021 On Loan\n",
      "Jun 30, 2021 On Loan\n",
      "Jun 30, 2021 On Loan\n",
      "Free\n",
      "Jun 30, 2021 On Loan\n",
      "Jun 30, 2021 On Loan\n",
      "Jun 30, 2021 On Loan\n",
      "Jun 30, 2021 On Loan\n",
      "Jan 1, 2021 On Loan\n",
      "Jun 30, 2021 On Loan\n",
      "Free\n",
      "Jun 30, 2021 On Loan\n",
      "Jun 30, 2021 On Loan\n",
      "Jun 30, 2021 On Loan\n",
      "Jun 30, 2021 On Loan\n",
      "Nov 22, 2020 On Loan\n",
      "Jun 30, 2021 On Loan\n",
      "Dec 31, 2020 On Loan\n",
      "Jan 31, 2021 On Loan\n",
      "Jun 30, 2021 On Loan\n",
      "Jun 30, 2021 On Loan\n",
      "Jun 30, 2021 On Loan\n",
      "Free\n",
      "Jun 30, 2022 On Loan\n",
      "Jun 30, 2021 On Loan\n",
      "Jun 30, 2022 On Loan\n",
      "Jun 30, 2021 On Loan\n",
      "Jun 30, 2021 On Loan\n",
      "Jun 30, 2021 On Loan\n",
      "Jun 30, 2021 On Loan\n",
      "Jun 30, 2021 On Loan\n",
      "Jun 30, 2021 On Loan\n",
      "Free\n",
      "Free\n",
      "Jun 30, 2021 On Loan\n",
      "Jun 30, 2021 On Loan\n",
      "Free\n",
      "Free\n",
      "Jun 30, 2021 On Loan\n",
      "Jun 30, 2021 On Loan\n",
      "Jun 30, 2021 On Loan\n",
      "Free\n",
      "Free\n",
      "Dec 31, 2020 On Loan\n",
      "Jun 30, 2021 On Loan\n",
      "Dec 31, 2020 On Loan\n",
      "Jun 30, 2021 On Loan\n",
      "Jun 30, 2021 On Loan\n",
      "Jun 30, 2021 On Loan\n",
      "Jun 30, 2021 On Loan\n",
      "Jun 30, 2021 On Loan\n",
      "Jun 30, 2021 On Loan\n",
      "Jun 30, 2021 On Loan\n",
      "Jun 30, 2021 On Loan\n",
      "Jun 30, 2021 On Loan\n",
      "Jun 30, 2021 On Loan\n",
      "Jun 30, 2021 On Loan\n",
      "Jun 30, 2021 On Loan\n",
      "Free\n",
      "Jun 30, 2021 On Loan\n",
      "Jun 30, 2021 On Loan\n",
      "Jun 30, 2021 On Loan\n",
      "Jun 30, 2021 On Loan\n",
      "Jun 30, 2021 On Loan\n",
      "Free\n",
      "Free\n",
      "Jun 23, 2021 On Loan\n",
      "Jun 30, 2021 On Loan\n",
      "Free\n",
      "Jun 30, 2021 On Loan\n",
      "Free\n",
      "Jun 30, 2021 On Loan\n",
      "Jan 31, 2021 On Loan\n",
      "Jun 30, 2021 On Loan\n",
      "Nov 27, 2021 On Loan\n",
      "Free\n",
      "Jun 30, 2021 On Loan\n",
      "Jun 30, 2021 On Loan\n",
      "Jun 30, 2021 On Loan\n",
      "Dec 31, 2020 On Loan\n",
      "Jun 30, 2021 On Loan\n",
      "Jun 30, 2021 On Loan\n",
      "Jun 30, 2021 On Loan\n",
      "Jun 30, 2021 On Loan\n",
      "Jun 30, 2021 On Loan\n",
      "Dec 31, 2020 On Loan\n",
      "Jun 30, 2021 On Loan\n",
      "Jun 30, 2021 On Loan\n",
      "Dec 31, 2020 On Loan\n",
      "Free\n",
      "Dec 31, 2020 On Loan\n",
      "Dec 31, 2020 On Loan\n",
      "Jun 30, 2021 On Loan\n",
      "Jan 1, 2021 On Loan\n",
      "Nov 30, 2020 On Loan\n",
      "Jun 30, 2021 On Loan\n",
      "Jun 30, 2021 On Loan\n",
      "Jun 30, 2021 On Loan\n",
      "Jan 1, 2021 On Loan\n",
      "Jun 30, 2021 On Loan\n",
      "Dec 31, 2020 On Loan\n",
      "Jun 30, 2021 On Loan\n",
      "Jun 30, 2021 On Loan\n",
      "Nov 30, 2020 On Loan\n",
      "Dec 31, 2020 On Loan\n",
      "Jun 30, 2021 On Loan\n",
      "Jun 30, 2021 On Loan\n",
      "Free\n",
      "Free\n",
      "Jun 30, 2021 On Loan\n",
      "Free\n",
      "Free\n",
      "Jun 30, 2021 On Loan\n",
      "Jun 30, 2021 On Loan\n",
      "Jun 30, 2021 On Loan\n",
      "Jun 30, 2021 On Loan\n",
      "Jun 30, 2021 On Loan\n",
      "Jun 30, 2021 On Loan\n",
      "Nov 30, 2020 On Loan\n",
      "Jun 30, 2021 On Loan\n",
      "Aug 1, 2021 On Loan\n",
      "Jun 30, 2021 On Loan\n",
      "Free\n",
      "Jun 30, 2021 On Loan\n",
      "Nov 30, 2020 On Loan\n",
      "Jun 30, 2021 On Loan\n",
      "Jun 30, 2021 On Loan\n",
      "Free\n",
      "Dec 31, 2021 On Loan\n",
      "Jun 30, 2021 On Loan\n",
      "Jun 30, 2021 On Loan\n",
      "Jun 30, 2021 On Loan\n",
      "Jun 30, 2021 On Loan\n",
      "Dec 31, 2020 On Loan\n",
      "Jan 1, 2021 On Loan\n",
      "Jun 30, 2021 On Loan\n",
      "Free\n",
      "Free\n",
      "Jun 30, 2021 On Loan\n",
      "Jun 30, 2021 On Loan\n",
      "Jun 30, 2021 On Loan\n",
      "Nov 30, 2020 On Loan\n",
      "Dec 31, 2020 On Loan\n",
      "Jun 30, 2021 On Loan\n",
      "Jan 4, 2021 On Loan\n",
      "Jun 30, 2021 On Loan\n",
      "Nov 30, 2020 On Loan\n",
      "Jun 30, 2021 On Loan\n",
      "Jun 30, 2021 On Loan\n",
      "Jun 30, 2021 On Loan\n",
      "Dec 31, 2021 On Loan\n",
      "Free\n",
      "Jun 30, 2021 On Loan\n",
      "Dec 31, 2020 On Loan\n",
      "Jun 30, 2021 On Loan\n",
      "Jan 1, 2021 On Loan\n",
      "Dec 31, 2020 On Loan\n",
      "Jun 30, 2021 On Loan\n",
      "Jun 30, 2021 On Loan\n",
      "Aug 31, 2021 On Loan\n",
      "Jun 30, 2021 On Loan\n",
      "Dec 31, 2020 On Loan\n",
      "Dec 31, 2020 On Loan\n",
      "Dec 31, 2020 On Loan\n"
     ]
    }
   ],
   "source": [
    "for index, row in fifa.iterrows():\n",
    "    if 'On Loan' in row['Contract'] or 'Free' in row['Contract']:\n",
    "        print(row['Contract'])"
   ]
  },
  {
   "cell_type": "code",
   "execution_count": 38,
   "id": "005474d6",
   "metadata": {},
   "outputs": [],
   "source": [
    "def extract_contract_info(contract):\n",
    "    if contract == 'Free' or 'On Loan' in contract:\n",
    "        start_date = np.nan\n",
    "        end_date = np.nan\n",
    "        contract_length = 0\n",
    "    else: \n",
    "        start_date, end_date = contract.split(' ~ ')\n",
    "        start_year = int(start_date[:4])\n",
    "        end_year = int(end_date[:4])\n",
    "        contract_length = end_year - start_year\n",
    "    return start_date, end_date, contract_length"
   ]
  },
  {
   "cell_type": "code",
   "execution_count": 45,
   "id": "f457dff3",
   "metadata": {
    "scrolled": true
   },
   "outputs": [
    {
     "ename": "ValueError",
     "evalue": "cannot insert ContractStart, already exists",
     "output_type": "error",
     "traceback": [
      "\u001b[1;31m---------------------------------------------------------------------------\u001b[0m",
      "\u001b[1;31mValueError\u001b[0m                                Traceback (most recent call last)",
      "Cell \u001b[1;32mIn[45], line 6\u001b[0m\n\u001b[0;32m      3\u001b[0m new_contract_data \u001b[38;5;241m=\u001b[39m fifa[\u001b[38;5;124m'\u001b[39m\u001b[38;5;124mContract\u001b[39m\u001b[38;5;124m'\u001b[39m]\u001b[38;5;241m.\u001b[39mapply(\u001b[38;5;28;01mlambda\u001b[39;00m x: pd\u001b[38;5;241m.\u001b[39mSeries(extract_contract_info(x)))\n\u001b[0;32m      5\u001b[0m \u001b[38;5;28;01mfor\u001b[39;00m i \u001b[38;5;129;01min\u001b[39;00m \u001b[38;5;28mrange\u001b[39m(\u001b[38;5;28mlen\u001b[39m(new_cols)):\n\u001b[1;32m----> 6\u001b[0m     \u001b[43mfifa\u001b[49m\u001b[38;5;241;43m.\u001b[39;49m\u001b[43minsert\u001b[49m\u001b[43m(\u001b[49m\u001b[43mloc\u001b[49m\u001b[38;5;241;43m=\u001b[39;49m\u001b[43mfifa\u001b[49m\u001b[38;5;241;43m.\u001b[39;49m\u001b[43mcolumns\u001b[49m\u001b[38;5;241;43m.\u001b[39;49m\u001b[43mget_loc\u001b[49m\u001b[43m(\u001b[49m\u001b[38;5;124;43m'\u001b[39;49m\u001b[38;5;124;43mContract\u001b[39;49m\u001b[38;5;124;43m'\u001b[39;49m\u001b[43m)\u001b[49m\u001b[43m \u001b[49m\u001b[38;5;241;43m+\u001b[39;49m\u001b[43m \u001b[49m\u001b[38;5;241;43m1\u001b[39;49m\u001b[43m \u001b[49m\u001b[38;5;241;43m+\u001b[39;49m\u001b[43m \u001b[49m\u001b[43mi\u001b[49m\u001b[43m,\u001b[49m\u001b[43m \u001b[49m\u001b[43mcolumn\u001b[49m\u001b[38;5;241;43m=\u001b[39;49m\u001b[43mnew_cols\u001b[49m\u001b[43m[\u001b[49m\u001b[43mi\u001b[49m\u001b[43m]\u001b[49m\u001b[43m,\u001b[49m\u001b[43m \u001b[49m\u001b[43mvalue\u001b[49m\u001b[38;5;241;43m=\u001b[39;49m\u001b[43mnew_contract_data\u001b[49m\u001b[43m[\u001b[49m\u001b[43mi\u001b[49m\u001b[43m]\u001b[49m\u001b[43m)\u001b[49m\n",
      "File \u001b[1;32mC:\\Program Files\\Python\\lib\\site-packages\\pandas\\core\\frame.py:4806\u001b[0m, in \u001b[0;36mDataFrame.insert\u001b[1;34m(self, loc, column, value, allow_duplicates)\u001b[0m\n\u001b[0;32m   4800\u001b[0m     \u001b[38;5;28;01mraise\u001b[39;00m \u001b[38;5;167;01mValueError\u001b[39;00m(\n\u001b[0;32m   4801\u001b[0m         \u001b[38;5;124m\"\u001b[39m\u001b[38;5;124mCannot specify \u001b[39m\u001b[38;5;124m'\u001b[39m\u001b[38;5;124mallow_duplicates=True\u001b[39m\u001b[38;5;124m'\u001b[39m\u001b[38;5;124m when \u001b[39m\u001b[38;5;124m\"\u001b[39m\n\u001b[0;32m   4802\u001b[0m         \u001b[38;5;124m\"\u001b[39m\u001b[38;5;124m'\u001b[39m\u001b[38;5;124mself.flags.allows_duplicate_labels\u001b[39m\u001b[38;5;124m'\u001b[39m\u001b[38;5;124m is False.\u001b[39m\u001b[38;5;124m\"\u001b[39m\n\u001b[0;32m   4803\u001b[0m     )\n\u001b[0;32m   4804\u001b[0m \u001b[38;5;28;01mif\u001b[39;00m \u001b[38;5;129;01mnot\u001b[39;00m allow_duplicates \u001b[38;5;129;01mand\u001b[39;00m column \u001b[38;5;129;01min\u001b[39;00m \u001b[38;5;28mself\u001b[39m\u001b[38;5;241m.\u001b[39mcolumns:\n\u001b[0;32m   4805\u001b[0m     \u001b[38;5;66;03m# Should this be a different kind of error??\u001b[39;00m\n\u001b[1;32m-> 4806\u001b[0m     \u001b[38;5;28;01mraise\u001b[39;00m \u001b[38;5;167;01mValueError\u001b[39;00m(\u001b[38;5;124mf\u001b[39m\u001b[38;5;124m\"\u001b[39m\u001b[38;5;124mcannot insert \u001b[39m\u001b[38;5;132;01m{\u001b[39;00mcolumn\u001b[38;5;132;01m}\u001b[39;00m\u001b[38;5;124m, already exists\u001b[39m\u001b[38;5;124m\"\u001b[39m)\n\u001b[0;32m   4807\u001b[0m \u001b[38;5;28;01mif\u001b[39;00m \u001b[38;5;129;01mnot\u001b[39;00m \u001b[38;5;28misinstance\u001b[39m(loc, \u001b[38;5;28mint\u001b[39m):\n\u001b[0;32m   4808\u001b[0m     \u001b[38;5;28;01mraise\u001b[39;00m \u001b[38;5;167;01mTypeError\u001b[39;00m(\u001b[38;5;124m\"\u001b[39m\u001b[38;5;124mloc must be int\u001b[39m\u001b[38;5;124m\"\u001b[39m)\n",
      "\u001b[1;31mValueError\u001b[0m: cannot insert ContractStart, already exists"
     ]
    }
   ],
   "source": [
    "# Apply fn to contract\n",
    "new_cols = ['ContractStart', 'ContractEnd', 'ContractLength']\n",
    "new_contract_data = fifa['Contract'].apply(lambda x: pd.Series(extract_contract_info(x)))\n",
    "\n",
    "for i in range(len(new_cols)):\n",
    "    fifa.insert(loc=fifa.columns.get_loc('Contract') + 1 + i, column=new_cols[i], value=new_contract_data[i])"
   ]
  },
  {
   "cell_type": "code",
   "execution_count": 50,
   "id": "d2e33db0",
   "metadata": {},
   "outputs": [
    {
     "data": {
      "text/plain": [
       "False    17729\n",
       "True      1250\n",
       "Name: ContractStart, dtype: int64"
      ]
     },
     "execution_count": 50,
     "metadata": {},
     "output_type": "execute_result"
    }
   ],
   "source": [
    "fifa.ContractStart.isna().value_counts()"
   ]
  },
  {
   "cell_type": "code",
   "execution_count": 52,
   "id": "37b91583",
   "metadata": {},
   "outputs": [
    {
     "data": {
      "text/html": [
       "<div>\n",
       "<style scoped>\n",
       "    .dataframe tbody tr th:only-of-type {\n",
       "        vertical-align: middle;\n",
       "    }\n",
       "\n",
       "    .dataframe tbody tr th {\n",
       "        vertical-align: top;\n",
       "    }\n",
       "\n",
       "    .dataframe thead th {\n",
       "        text-align: right;\n",
       "    }\n",
       "</style>\n",
       "<table border=\"1\" class=\"dataframe\">\n",
       "  <thead>\n",
       "    <tr style=\"text-align: right;\">\n",
       "      <th></th>\n",
       "      <th>Contract</th>\n",
       "      <th>ContractStart</th>\n",
       "      <th>ContractEnd</th>\n",
       "      <th>ContractLength</th>\n",
       "    </tr>\n",
       "  </thead>\n",
       "  <tbody>\n",
       "    <tr>\n",
       "      <th>0</th>\n",
       "      <td>2004 ~ 2021</td>\n",
       "      <td>2004</td>\n",
       "      <td>2021</td>\n",
       "      <td>17.0</td>\n",
       "    </tr>\n",
       "    <tr>\n",
       "      <th>1</th>\n",
       "      <td>2018 ~ 2022</td>\n",
       "      <td>2018</td>\n",
       "      <td>2022</td>\n",
       "      <td>4.0</td>\n",
       "    </tr>\n",
       "    <tr>\n",
       "      <th>2</th>\n",
       "      <td>2014 ~ 2023</td>\n",
       "      <td>2014</td>\n",
       "      <td>2023</td>\n",
       "      <td>9.0</td>\n",
       "    </tr>\n",
       "    <tr>\n",
       "      <th>3</th>\n",
       "      <td>2015 ~ 2023</td>\n",
       "      <td>2015</td>\n",
       "      <td>2023</td>\n",
       "      <td>8.0</td>\n",
       "    </tr>\n",
       "  </tbody>\n",
       "</table>\n",
       "</div>"
      ],
      "text/plain": [
       "      Contract ContractStart ContractEnd  ContractLength\n",
       "0  2004 ~ 2021          2004        2021            17.0\n",
       "1  2018 ~ 2022          2018        2022             4.0\n",
       "2  2014 ~ 2023          2014        2023             9.0\n",
       "3  2015 ~ 2023          2015        2023             8.0"
      ]
     },
     "execution_count": 52,
     "metadata": {},
     "output_type": "execute_result"
    }
   ],
   "source": [
    "fifa.loc[:3, 'Contract':'ContractLength']"
   ]
  },
  {
   "cell_type": "code",
   "execution_count": 102,
   "id": "5282e47e",
   "metadata": {},
   "outputs": [],
   "source": [
    "# Contract categories\n",
    "def categorize_contract_status(contract):\n",
    "    if contract == 'Free':\n",
    "        return 'Free'\n",
    "    elif contract == 'Loan':\n",
    "        return 'On Loan'\n",
    "    else:\n",
    "        return 'Contract'\n",
    "# Add this column\n",
    "fifa.insert(loc=fifa.columns.get_loc('ContractLength') + 1, column='ContractStatus', value=fifa['Contract'].apply(categorize_contract_status))"
   ]
  },
  {
   "cell_type": "code",
   "execution_count": 103,
   "id": "2ed361ae",
   "metadata": {},
   "outputs": [
    {
     "data": {
      "text/plain": [
       "array(['Contract', 'Free'], dtype=object)"
      ]
     },
     "execution_count": 103,
     "metadata": {},
     "output_type": "execute_result"
    }
   ],
   "source": [
    "fifa['ContractStatus'].unique()"
   ]
  },
  {
   "cell_type": "markdown",
   "id": "5edde554",
   "metadata": {},
   "source": [
    "### 12. Positions\n",
    "\n",
    "Player's preferred position on the field"
   ]
  },
  {
   "cell_type": "code",
   "execution_count": 189,
   "id": "2bf59887",
   "metadata": {},
   "outputs": [
    {
     "data": {
      "text/plain": [
       "9403         CM, CDM\n",
       "15676             CB\n",
       "10997             ST\n",
       "10415        RWB, RB\n",
       "9159          LM, LW\n",
       "10556         ST, RM\n",
       "10326             CB\n",
       "4062              GK\n",
       "12896             CB\n",
       "6745              GK\n",
       "890      ST, CAM, CF\n",
       "8128     RWB, RB, CB\n",
       "11821             ST\n",
       "2288              RW\n",
       "18651             GK\n",
       "10678         ST, LM\n",
       "5831              CB\n",
       "15716             ST\n",
       "16969             CM\n",
       "6080     RW, CAM, LW\n",
       "16147             CB\n",
       "4968      LW, RW, ST\n",
       "7540              ST\n",
       "14156             CB\n",
       "5928              LB\n",
       "8770         CAM, CF\n",
       "11713         RM, RW\n",
       "17470        CAM, CM\n",
       "17895             ST\n",
       "11857         LB, CB\n",
       "297               ST\n",
       "14717         RW, LW\n",
       "16032             GK\n",
       "11059        CM, CAM\n",
       "9965          RM, LM\n",
       "5482              ST\n",
       "2500              CB\n",
       "16932             CM\n",
       "14416             CB\n",
       "12189         RB, LB\n",
       "10408         CM, CB\n",
       "14094         RM, RW\n",
       "4021              ST\n",
       "12799         RM, RW\n",
       "15978             GK\n",
       "1161     LB, LWB, CB\n",
       "3255          LM, RM\n",
       "17275             CM\n",
       "15560         RW, ST\n",
       "3856              RM\n",
       "Name: Positions, dtype: object"
      ]
     },
     "execution_count": 189,
     "metadata": {},
     "output_type": "execute_result"
    }
   ],
   "source": [
    "fifa['Positions'].sample(50)"
   ]
  },
  {
   "cell_type": "markdown",
   "id": "459e0c1e",
   "metadata": {},
   "source": [
    "### 13. Height"
   ]
  },
  {
   "cell_type": "code",
   "execution_count": 68,
   "id": "bb500535",
   "metadata": {},
   "outputs": [
    {
     "data": {
      "text/plain": [
       "dtype('O')"
      ]
     },
     "execution_count": 68,
     "metadata": {},
     "output_type": "execute_result"
    }
   ],
   "source": [
    "fifa['Height'].dtype"
   ]
  },
  {
   "cell_type": "code",
   "execution_count": 69,
   "id": "59c908d3",
   "metadata": {},
   "outputs": [
    {
     "data": {
      "text/plain": [
       "array(['170cm', '187cm', '188cm', '181cm', '175cm', '184cm', '191cm',\n",
       "       '178cm', '193cm', '185cm', '199cm', '173cm', '168cm', '176cm',\n",
       "       '177cm', '183cm', '180cm', '189cm', '179cm', '195cm', '172cm',\n",
       "       '182cm', '186cm', '192cm', '165cm', '194cm', '167cm', '196cm',\n",
       "       '163cm', '190cm', '174cm', '169cm', '171cm', '197cm', '200cm',\n",
       "       '166cm', '6\\'2\"', '164cm', '198cm', '6\\'3\"', '6\\'5\"', '5\\'11\"',\n",
       "       '6\\'4\"', '6\\'1\"', '6\\'0\"', '5\\'10\"', '5\\'9\"', '5\\'6\"', '5\\'7\"',\n",
       "       '5\\'4\"', '201cm', '158cm', '162cm', '161cm', '160cm', '203cm',\n",
       "       '157cm', '156cm', '202cm', '159cm', '206cm', '155cm'], dtype=object)"
      ]
     },
     "execution_count": 69,
     "metadata": {},
     "output_type": "execute_result"
    }
   ],
   "source": [
    "fifa['Height'].unique()"
   ]
  },
  {
   "cell_type": "code",
   "execution_count": 74,
   "id": "ec54f739",
   "metadata": {},
   "outputs": [],
   "source": [
    "# Convert heights\n",
    "def convert_heights(height):\n",
    "    if \"cm\" in height:\n",
    "        return int(height.strip('cm'))\n",
    "    else:\n",
    "        feet, inches = height.split(\"'\")\n",
    "        total_inches = int(feet) * 12 + int(inches.strip('\"'))\n",
    "        return round(total_inches * 2.54)"
   ]
  },
  {
   "cell_type": "code",
   "execution_count": 76,
   "id": "a3062618",
   "metadata": {},
   "outputs": [
    {
     "data": {
      "text/plain": [
       "array([170, 187, 188, 181, 175, 184, 191, 178, 193, 185, 199, 173, 168,\n",
       "       176, 177, 183, 180, 189, 179, 195, 172, 182, 186, 192, 165, 194,\n",
       "       167, 196, 163, 190, 174, 169, 171, 197, 200, 166, 164, 198, 201,\n",
       "       158, 162, 161, 160, 203, 157, 156, 202, 159, 206, 155], dtype=int64)"
      ]
     },
     "execution_count": 76,
     "metadata": {},
     "output_type": "execute_result"
    }
   ],
   "source": [
    "# Apply the fn to height col\n",
    "fifa['Height'] = fifa['Height'].apply(convert_heights)\n",
    "fifa['Height'].unique()"
   ]
  },
  {
   "cell_type": "markdown",
   "id": "36f4c226",
   "metadata": {},
   "source": [
    "### 14. Weight"
   ]
  },
  {
   "cell_type": "code",
   "execution_count": 78,
   "id": "99baf819",
   "metadata": {},
   "outputs": [
    {
     "data": {
      "text/plain": [
       "dtype('O')"
      ]
     },
     "execution_count": 78,
     "metadata": {},
     "output_type": "execute_result"
    }
   ],
   "source": [
    "fifa['Weight'].dtype"
   ]
  },
  {
   "cell_type": "code",
   "execution_count": 80,
   "id": "9f00e63b",
   "metadata": {},
   "outputs": [
    {
     "data": {
      "text/plain": [
       "array(['72kg', '83kg', '87kg', '70kg', '68kg', '80kg', '71kg', '91kg',\n",
       "       '73kg', '85kg', '92kg', '69kg', '84kg', '96kg', '81kg', '82kg',\n",
       "       '75kg', '86kg', '89kg', '74kg', '76kg', '64kg', '78kg', '90kg',\n",
       "       '66kg', '60kg', '94kg', '79kg', '67kg', '65kg', '59kg', '61kg',\n",
       "       '93kg', '88kg', '97kg', '77kg', '62kg', '63kg', '95kg', '100kg',\n",
       "       '58kg', '183lbs', '179lbs', '172lbs', '196lbs', '176lbs', '185lbs',\n",
       "       '170lbs', '203lbs', '168lbs', '161lbs', '146lbs', '130lbs',\n",
       "       '190lbs', '174lbs', '148lbs', '165lbs', '159lbs', '192lbs',\n",
       "       '181lbs', '139lbs', '154lbs', '157lbs', '163lbs', '98kg', '103kg',\n",
       "       '99kg', '102kg', '56kg', '101kg', '57kg', '55kg', '104kg', '107kg',\n",
       "       '110kg', '53kg', '50kg', '54kg', '52kg'], dtype=object)"
      ]
     },
     "execution_count": 80,
     "metadata": {},
     "output_type": "execute_result"
    }
   ],
   "source": [
    "fifa['Weight'].unique()"
   ]
  },
  {
   "cell_type": "code",
   "execution_count": 85,
   "id": "47ee1c21",
   "metadata": {},
   "outputs": [],
   "source": [
    "def convert_weights(weight):\n",
    "    if 'kg' in weight:\n",
    "        return int(weight.strip('kg'))\n",
    "    else: \n",
    "        pounds = int(weight.strip('lbs'))\n",
    "        return round(pounds / 2.205)"
   ]
  },
  {
   "cell_type": "code",
   "execution_count": 86,
   "id": "223f4b25",
   "metadata": {},
   "outputs": [
    {
     "data": {
      "text/plain": [
       "array([ 72,  83,  87,  70,  68,  80,  71,  91,  73,  85,  92,  69,  84,\n",
       "        96,  81,  82,  75,  86,  89,  74,  76,  64,  78,  90,  66,  60,\n",
       "        94,  79,  67,  65,  59,  61,  93,  88,  97,  77,  62,  63,  95,\n",
       "       100,  58,  98, 103,  99, 102,  56, 101,  57,  55, 104, 107, 110,\n",
       "        53,  50,  54,  52], dtype=int64)"
      ]
     },
     "execution_count": 86,
     "metadata": {},
     "output_type": "execute_result"
    }
   ],
   "source": [
    "fifa['Weight'] = fifa['Weight'].apply(convert_weights)\n",
    "fifa['Weight'].unique()"
   ]
  },
  {
   "cell_type": "markdown",
   "id": "fbeb8b25",
   "metadata": {},
   "source": [
    "### 15. Preferred Foot\n",
    "\n",
    "Player's preferred foot - Left or Right"
   ]
  },
  {
   "cell_type": "code",
   "execution_count": null,
   "id": "5ec9d3ca",
   "metadata": {},
   "outputs": [],
   "source": []
  },
  {
   "cell_type": "markdown",
   "id": "eee564fe",
   "metadata": {},
   "source": [
    "### 16. BOV\n",
    "\n",
    "Best Overall Rating of the Player in a specific position"
   ]
  },
  {
   "cell_type": "code",
   "execution_count": 188,
   "id": "3fb40461",
   "metadata": {},
   "outputs": [
    {
     "data": {
      "text/plain": [
       "10967    64\n",
       "5521     69\n",
       "11649    64\n",
       "11758    64\n",
       "3045     73\n",
       "11249    65\n",
       "8186     67\n",
       "17992    56\n",
       "5326     70\n",
       "9207     66\n",
       "Name: BOV, dtype: int64"
      ]
     },
     "execution_count": 188,
     "metadata": {},
     "output_type": "execute_result"
    }
   ],
   "source": [
    "fifa['BOV'].sample(10)"
   ]
  },
  {
   "cell_type": "markdown",
   "id": "d3e367a6",
   "metadata": {},
   "source": [
    "### 17. Best Position\n",
    "\n",
    "Player's best position on the field"
   ]
  },
  {
   "cell_type": "code",
   "execution_count": 186,
   "id": "5a430bc9",
   "metadata": {},
   "outputs": [
    {
     "data": {
      "text/plain": [
       "16989     LB\n",
       "1512     CDM\n",
       "8946      CB\n",
       "2160      GK\n",
       "16455    CAM\n",
       "7861      LW\n",
       "17663     ST\n",
       "11280     LB\n",
       "1706      RM\n",
       "9032      ST\n",
       "Name: Best Position, dtype: object"
      ]
     },
     "execution_count": 186,
     "metadata": {},
     "output_type": "execute_result"
    }
   ],
   "source": [
    "fifa['Best Position'].sample(10)"
   ]
  },
  {
   "cell_type": "markdown",
   "id": "90639131",
   "metadata": {},
   "source": [
    "### 18. Joined\n",
    "\n",
    "Date when the player joined the current club"
   ]
  },
  {
   "cell_type": "code",
   "execution_count": 185,
   "id": "be5d2afe",
   "metadata": {},
   "outputs": [
    {
     "data": {
      "text/plain": [
       "16966    27-Sep-20\n",
       "7701     04-Jul-17\n",
       "10884    19-Aug-20\n",
       "5106     29-Oct-19\n",
       "13947    24-Sep-20\n",
       "13716    13-Aug-19\n",
       "12343    11-Jul-19\n",
       "11431    25-Sep-20\n",
       "16371    01-Jul-20\n",
       "5076     27-Aug-19\n",
       "Name: Joined, dtype: object"
      ]
     },
     "execution_count": 185,
     "metadata": {},
     "output_type": "execute_result"
    }
   ],
   "source": [
    "fifa['Joined'].sample(10)"
   ]
  },
  {
   "cell_type": "markdown",
   "id": "291e8c57",
   "metadata": {},
   "source": [
    "### 19. Loan Date End\n",
    "\n",
    "Date when the player's loan ends (if On Loan)"
   ]
  },
  {
   "cell_type": "code",
   "execution_count": 89,
   "id": "8a5fb28c",
   "metadata": {},
   "outputs": [
    {
     "data": {
      "text/plain": [
       "dtype('O')"
      ]
     },
     "execution_count": 89,
     "metadata": {},
     "output_type": "execute_result"
    }
   ],
   "source": [
    "fifa['Loan Date End'].dtype"
   ]
  },
  {
   "cell_type": "code",
   "execution_count": 91,
   "id": "3babbaa9",
   "metadata": {},
   "outputs": [
    {
     "data": {
      "text/plain": [
       "array([nan, '30-Jun-21', '31-Dec-20', '30-Jan-21', '30-Jun-22',\n",
       "       '31-May-21', '05-Jul-21', '31-Dec-21', '01-Jul-21', '01-Jan-21',\n",
       "       '31-Aug-21', '31-Jan-21', '30-Dec-21', '23-Jun-21', '03-Jan-21',\n",
       "       '27-Nov-21', '17-Jan-21', '30-Jun-23', '31-Jul-21', '22-Nov-20',\n",
       "       '31-May-22', '30-Dec-20', '04-Jan-21', '30-Nov-20', '01-Aug-21'],\n",
       "      dtype=object)"
      ]
     },
     "execution_count": 91,
     "metadata": {},
     "output_type": "execute_result"
    }
   ],
   "source": [
    "fifa['Loan Date End'].unique()"
   ]
  },
  {
   "cell_type": "code",
   "execution_count": 97,
   "id": "662b6126",
   "metadata": {},
   "outputs": [
    {
     "data": {
      "text/html": [
       "<div>\n",
       "<style scoped>\n",
       "    .dataframe tbody tr th:only-of-type {\n",
       "        vertical-align: middle;\n",
       "    }\n",
       "\n",
       "    .dataframe tbody tr th {\n",
       "        vertical-align: top;\n",
       "    }\n",
       "\n",
       "    .dataframe thead th {\n",
       "        text-align: right;\n",
       "    }\n",
       "</style>\n",
       "<table border=\"1\" class=\"dataframe\">\n",
       "  <thead>\n",
       "    <tr style=\"text-align: right;\">\n",
       "      <th></th>\n",
       "      <th>ID</th>\n",
       "      <th>Name</th>\n",
       "      <th>LongName</th>\n",
       "      <th>photoUrl</th>\n",
       "      <th>playerUrl</th>\n",
       "      <th>Nationality</th>\n",
       "      <th>Age</th>\n",
       "      <th>↓OVA</th>\n",
       "      <th>POT</th>\n",
       "      <th>Club</th>\n",
       "      <th>...</th>\n",
       "      <th>A/W</th>\n",
       "      <th>D/W</th>\n",
       "      <th>IR</th>\n",
       "      <th>PAC</th>\n",
       "      <th>SHO</th>\n",
       "      <th>PAS</th>\n",
       "      <th>DRI</th>\n",
       "      <th>DEF</th>\n",
       "      <th>PHY</th>\n",
       "      <th>Hits</th>\n",
       "    </tr>\n",
       "  </thead>\n",
       "  <tbody>\n",
       "  </tbody>\n",
       "</table>\n",
       "<p>0 rows × 81 columns</p>\n",
       "</div>"
      ],
      "text/plain": [
       "Empty DataFrame\n",
       "Columns: [ID, Name, LongName, photoUrl, playerUrl, Nationality, Age, ↓OVA, POT, Club, Contract, ContractStart, ContractEnd, ContractLength, ContractStatus, Positions, Height, Weight, Preferred Foot, BOV, Best Position, Joined, Loan Date End, Value, Wage, Release Clause, Attacking, Crossing, Finishing, Heading Accuracy, Short Passing, Volleys, Skill, Dribbling, Curve, FK Accuracy, Long Passing, Ball Control, Movement, Acceleration, Sprint Speed, Agility, Reactions, Balance, Power, Shot Power, Jumping, Stamina, Strength, Long Shots, Mentality, Aggression, Interceptions, Positioning, Vision, Penalties, Composure, Defending, Marking, Standing Tackle, Sliding Tackle, Goalkeeping, GK Diving, GK Handling, GK Kicking, GK Positioning, GK Reflexes, Total Stats, Base Stats, W/F, SM, A/W, D/W, IR, PAC, SHO, PAS, DRI, DEF, PHY, Hits]\n",
       "Index: []\n",
       "\n",
       "[0 rows x 81 columns]"
      ]
     },
     "execution_count": 97,
     "metadata": {},
     "output_type": "execute_result"
    }
   ],
   "source": [
    "on_loan = fifa[fifa['ContractStatus'] == 'Loan']\n",
    "on_loan"
   ]
  },
  {
   "cell_type": "code",
   "execution_count": null,
   "id": "3864fba3",
   "metadata": {},
   "outputs": [],
   "source": []
  },
  {
   "cell_type": "markdown",
   "id": "2cdd3c06",
   "metadata": {},
   "source": [
    "### 20. Value\n",
    "\n",
    "Estimated market value of the player."
   ]
  },
  {
   "cell_type": "code",
   "execution_count": 182,
   "id": "2b5f4da7",
   "metadata": {},
   "outputs": [
    {
     "data": {
      "text/plain": [
       "2722       €3M\n",
       "1807     €6.5M\n",
       "1373     €3.7M\n",
       "13753    €130K\n",
       "15133    €550K\n",
       "11786    €925K\n",
       "9830     €1.5M\n",
       "5488       €3M\n",
       "1962     €6.5M\n",
       "1475     €7.5M\n",
       "Name: Value, dtype: object"
      ]
     },
     "execution_count": 182,
     "metadata": {},
     "output_type": "execute_result"
    }
   ],
   "source": [
    "fifa['Value'].sample(10)"
   ]
  },
  {
   "cell_type": "markdown",
   "id": "8fc7435c",
   "metadata": {},
   "source": [
    "### 21. Wage\n",
    "\n",
    "Weekly wage of the player."
   ]
  },
  {
   "cell_type": "code",
   "execution_count": 181,
   "id": "0d172378",
   "metadata": {},
   "outputs": [
    {
     "data": {
      "text/plain": [
       "637      €43K\n",
       "16014    €500\n",
       "3192      €2K\n",
       "7266     €16K\n",
       "5684      €6K\n",
       "7167      €1K\n",
       "13284      €0\n",
       "18044     €2K\n",
       "17413    €650\n",
       "3662     €10K\n",
       "Name: Wage, dtype: object"
      ]
     },
     "execution_count": 181,
     "metadata": {},
     "output_type": "execute_result"
    }
   ],
   "source": [
    "fifa['Wage'].sample(10)"
   ]
  },
  {
   "cell_type": "markdown",
   "id": "e8eed0b8",
   "metadata": {},
   "source": [
    "### 22. Release Clause\n",
    "\n",
    "Release clause in the player's contract"
   ]
  },
  {
   "cell_type": "code",
   "execution_count": 180,
   "id": "03ca7ea7",
   "metadata": {},
   "outputs": [
    {
     "data": {
      "text/plain": [
       "557      €32.6M\n",
       "1574       €14M\n",
       "3906      €3.5M\n",
       "10584     €344K\n",
       "7766         €0\n",
       "18545     €102K\n",
       "13052        €0\n",
       "12600        €0\n",
       "13        €119M\n",
       "18517     €116K\n",
       "9987      €1.6M\n",
       "8940      €1.2M\n",
       "8894        €1M\n",
       "10197     €1.8M\n",
       "18420     €218K\n",
       "16052     €305K\n",
       "8438      €1.8M\n",
       "371      €43.5M\n",
       "16350      €88K\n",
       "9998      €725K\n",
       "15239       €1M\n",
       "2533      €8.6M\n",
       "2010      €8.3M\n",
       "7905      €163K\n",
       "18460     €275K\n",
       "7171      €1.3M\n",
       "17845     €245K\n",
       "14969     €297K\n",
       "14150     €620K\n",
       "10661     €1.1M\n",
       "14739     €471K\n",
       "804      €24.9M\n",
       "1947     €17.6M\n",
       "17269        €0\n",
       "1646      €9.4M\n",
       "12942     €866K\n",
       "5271        €2M\n",
       "17972     €356K\n",
       "11731     €1.2M\n",
       "11878     €890K\n",
       "14958     €1.1M\n",
       "5724      €2.1M\n",
       "16104     €605K\n",
       "13977     €525K\n",
       "10555     €1.2M\n",
       "14427     €634K\n",
       "7010      €1.7M\n",
       "18802     €131K\n",
       "5024        €5M\n",
       "15364     €305K\n",
       "Name: Release Clause, dtype: object"
      ]
     },
     "execution_count": 180,
     "metadata": {},
     "output_type": "execute_result"
    }
   ],
   "source": [
    "fifa['Release Clause'].sample(50)"
   ]
  },
  {
   "cell_type": "markdown",
   "id": "28904248",
   "metadata": {},
   "source": [
    "### 23. Attacking\n",
    "\n",
    "Composite rating of the player's attacking ability."
   ]
  },
  {
   "cell_type": "code",
   "execution_count": null,
   "id": "f8496b25",
   "metadata": {},
   "outputs": [],
   "source": []
  },
  {
   "cell_type": "markdown",
   "id": "0f268b91",
   "metadata": {},
   "source": [
    "### 24. Crossing\n",
    "\n",
    "Player's ability to make accurate crosses."
   ]
  },
  {
   "cell_type": "code",
   "execution_count": null,
   "id": "2c1ad7e7",
   "metadata": {},
   "outputs": [],
   "source": []
  },
  {
   "cell_type": "markdown",
   "id": "1f172c76",
   "metadata": {},
   "source": [
    "### 25. Finishing\n",
    "\n",
    "Player's ability to score goals"
   ]
  },
  {
   "cell_type": "code",
   "execution_count": null,
   "id": "09e2cd20",
   "metadata": {},
   "outputs": [],
   "source": []
  },
  {
   "cell_type": "markdown",
   "id": "0f6c072d",
   "metadata": {},
   "source": [
    "### 26. Heading Accuracy\n",
    "\n",
    "Player's ability to win aerial duels."
   ]
  },
  {
   "cell_type": "code",
   "execution_count": null,
   "id": "91d335f4",
   "metadata": {},
   "outputs": [],
   "source": []
  },
  {
   "cell_type": "markdown",
   "id": "119a8d5f",
   "metadata": {},
   "source": [
    "### 27. Short Passing\n",
    "\n",
    "Player's ability to make short passes accurately."
   ]
  },
  {
   "cell_type": "code",
   "execution_count": null,
   "id": "9b528a66",
   "metadata": {},
   "outputs": [],
   "source": []
  },
  {
   "cell_type": "markdown",
   "id": "f34661bc",
   "metadata": {},
   "source": [
    "### 28. Volleys\n",
    "\n",
    "Player's ability to take volleys"
   ]
  },
  {
   "cell_type": "code",
   "execution_count": null,
   "id": "e06ab931",
   "metadata": {},
   "outputs": [],
   "source": []
  },
  {
   "cell_type": "markdown",
   "id": "f1963d65",
   "metadata": {},
   "source": [
    "### 29. Skill\n",
    "\n",
    "Composite rating of the player's technical abilities."
   ]
  },
  {
   "cell_type": "code",
   "execution_count": null,
   "id": "9ba9ff05",
   "metadata": {},
   "outputs": [],
   "source": []
  },
  {
   "cell_type": "markdown",
   "id": "3d4cd229",
   "metadata": {},
   "source": [
    "### 30. Dribbling\n",
    "\n",
    "Player's ability to dribble past defenders."
   ]
  },
  {
   "cell_type": "code",
   "execution_count": null,
   "id": "2897030e",
   "metadata": {},
   "outputs": [],
   "source": []
  },
  {
   "cell_type": "markdown",
   "id": "39abce88",
   "metadata": {},
   "source": [
    "### 31. Curve\n",
    "\n",
    "Player's ability to curve the ball."
   ]
  },
  {
   "cell_type": "code",
   "execution_count": null,
   "id": "406f6f72",
   "metadata": {},
   "outputs": [],
   "source": []
  },
  {
   "cell_type": "markdown",
   "id": "36f2138c",
   "metadata": {},
   "source": [
    "### 32. FK Accuracy\n",
    "\n",
    "Player's ability to take free kicks."
   ]
  },
  {
   "cell_type": "code",
   "execution_count": null,
   "id": "cb4ba690",
   "metadata": {},
   "outputs": [],
   "source": []
  },
  {
   "cell_type": "markdown",
   "id": "b7929710",
   "metadata": {},
   "source": [
    "### 33. Long Passing\n",
    "\n",
    "Player's ability to make long passes accurately."
   ]
  },
  {
   "cell_type": "code",
   "execution_count": null,
   "id": "fef922c1",
   "metadata": {},
   "outputs": [],
   "source": []
  },
  {
   "cell_type": "markdown",
   "id": "55daf863",
   "metadata": {},
   "source": [
    "### 34. Ball Control\n",
    "\n",
    "Player's ability to control the ball."
   ]
  },
  {
   "cell_type": "code",
   "execution_count": 176,
   "id": "4d92d057",
   "metadata": {},
   "outputs": [
    {
     "data": {
      "text/plain": [
       "array([96, 92, 30, 95, 88, 89, 90, 77, 79, 23, 46, 83, 80, 85, 94, 40, 84,\n",
       "       16, 74, 91, 87, 82, 78, 19, 61, 22, 34, 38, 81, 25, 86, 76, 69, 28,\n",
       "       93, 75, 35, 60, 63, 73, 18, 71, 15, 21, 72, 14, 65, 20, 24, 27, 70,\n",
       "       33, 17, 62, 64,  9, 68, 67, 32, 26, 66, 52, 11, 57, 58, 29, 12, 37,\n",
       "       10, 36, 13, 31, 55, 59, 39, 54, 56, 48, 44, 51, 50, 47, 49, 53,  5,\n",
       "       42,  8, 45, 43, 41,  7], dtype=int64)"
      ]
     },
     "execution_count": 176,
     "metadata": {},
     "output_type": "execute_result"
    }
   ],
   "source": [
    "fifa['Ball Control'].unique()"
   ]
  },
  {
   "cell_type": "markdown",
   "id": "33c7ecc3",
   "metadata": {},
   "source": [
    "### 35. Movement\n",
    "\n",
    "Composite rating of the player's movement abilities."
   ]
  },
  {
   "cell_type": "code",
   "execution_count": 177,
   "id": "3e7b4d16",
   "metadata": {},
   "outputs": [
    {
     "data": {
      "text/plain": [
       "array([451, 431, 307, 398, 453, 407, 460, 268, 458, 254, 354, 343, 284,\n",
       "       286, 388, 378, 424, 464, 420, 399, 437, 322, 367, 272, 328, 448,\n",
       "       332, 425, 435, 391, 434, 400, 331, 349, 429, 416, 312, 326, 418,\n",
       "       419, 417, 386, 321, 409, 374, 304, 403, 351, 401, 365, 414, 292,\n",
       "       323, 299, 433, 350, 348, 413, 320, 281, 427, 353, 364, 410, 428,\n",
       "       316, 381, 442, 375, 288, 395, 385, 251, 319, 444, 383, 298, 411,\n",
       "       412, 415, 393, 397, 443, 423, 387, 422, 327, 390, 362, 352, 406,\n",
       "       277, 361, 421, 396, 384, 450, 338, 363, 359, 287, 297, 430, 382,\n",
       "       377, 380, 438, 449, 257, 371, 339, 341, 404, 345, 394, 295, 246,\n",
       "       265, 258, 366, 294, 314, 266, 405, 218, 337, 267, 220, 376, 309,\n",
       "       283, 426, 347, 244, 240, 291, 340, 250, 305, 290, 317, 334, 355,\n",
       "       333, 389, 330, 318, 441, 402, 344, 335, 219, 264, 408, 274, 373,\n",
       "       379, 256, 229, 392, 372, 360, 262, 346, 278, 248, 368, 279, 269,\n",
       "       336, 342, 236, 370, 243, 315, 249, 227, 329, 239, 369, 223, 282,\n",
       "       358, 271, 313, 270, 356, 263, 184, 311, 436, 432, 221, 301, 190,\n",
       "       259, 308, 235, 260, 217, 275, 285, 210, 234, 276, 310, 447, 180,\n",
       "       446, 300, 303, 209, 247, 252, 231, 357, 226, 238, 280, 440, 237,\n",
       "       245, 296, 325, 273, 306, 196, 242, 199, 178, 222, 445, 324, 293,\n",
       "       302, 289, 214, 192, 206, 225, 197, 241, 230, 188, 202, 208, 203,\n",
       "       216, 213, 224, 439, 212, 232, 253, 228, 189, 204, 205, 207, 198,\n",
       "       168, 255, 215, 194, 191, 185, 145, 261, 156, 201, 193, 181, 233,\n",
       "       195, 183, 152, 211, 160, 173, 170, 176, 147, 143, 159, 187, 169,\n",
       "       200, 165, 163, 177, 179, 167, 139, 162, 175, 155, 166, 172, 174,\n",
       "       154, 164, 182, 150, 186, 146, 138, 157, 137, 135, 171, 158, 161,\n",
       "       149, 124, 144, 151, 148, 141, 134, 153, 126, 142, 125, 132, 127,\n",
       "       140, 133, 130, 131, 136, 122], dtype=int64)"
      ]
     },
     "execution_count": 177,
     "metadata": {},
     "output_type": "execute_result"
    }
   ],
   "source": [
    "fifa['Movement'].unique()"
   ]
  },
  {
   "cell_type": "markdown",
   "id": "06a55811",
   "metadata": {},
   "source": [
    "### 36. Acceleration\n",
    "\n",
    "Playr's ability to accelerate quickly."
   ]
  },
  {
   "cell_type": "code",
   "execution_count": null,
   "id": "d4676617",
   "metadata": {},
   "outputs": [],
   "source": []
  },
  {
   "cell_type": "markdown",
   "id": "f32302d4",
   "metadata": {},
   "source": [
    "### 37. Sprint Speed\n",
    "\n",
    "Player's top speed"
   ]
  },
  {
   "cell_type": "code",
   "execution_count": null,
   "id": "cba30da9",
   "metadata": {},
   "outputs": [],
   "source": []
  },
  {
   "cell_type": "markdown",
   "id": "6bdb0d82",
   "metadata": {},
   "source": [
    "### 38. Agility\n",
    "\n",
    "Player's agility"
   ]
  },
  {
   "cell_type": "code",
   "execution_count": null,
   "id": "3976dcff",
   "metadata": {},
   "outputs": [],
   "source": []
  },
  {
   "cell_type": "markdown",
   "id": "3d0d0d82",
   "metadata": {},
   "source": [
    "### 39. Reactions\n",
    "\n",
    "Player's reaction time"
   ]
  },
  {
   "cell_type": "code",
   "execution_count": null,
   "id": "a454f24a",
   "metadata": {},
   "outputs": [],
   "source": []
  },
  {
   "cell_type": "markdown",
   "id": "35ac2caa",
   "metadata": {},
   "source": [
    "### 40. Balance\n",
    "\n",
    "Player's balance"
   ]
  },
  {
   "cell_type": "code",
   "execution_count": null,
   "id": "2b3d5693",
   "metadata": {},
   "outputs": [],
   "source": []
  },
  {
   "cell_type": "markdown",
   "id": "897c56b8",
   "metadata": {},
   "source": [
    "### 41. Power\n",
    "\n",
    "Composite rating of player's physical abilities"
   ]
  },
  {
   "cell_type": "code",
   "execution_count": null,
   "id": "67972236",
   "metadata": {},
   "outputs": [],
   "source": []
  },
  {
   "cell_type": "markdown",
   "id": "4030412a",
   "metadata": {},
   "source": [
    "### 42. Shot Power\n",
    "\n",
    "Player's ability to shoot with power"
   ]
  },
  {
   "cell_type": "code",
   "execution_count": null,
   "id": "ae1bd104",
   "metadata": {},
   "outputs": [],
   "source": []
  },
  {
   "cell_type": "markdown",
   "id": "4924b843",
   "metadata": {},
   "source": [
    "### 43. Jumping\n",
    "\n",
    "Player's ability to jump high"
   ]
  },
  {
   "cell_type": "code",
   "execution_count": null,
   "id": "2f2bf916",
   "metadata": {},
   "outputs": [],
   "source": []
  },
  {
   "cell_type": "markdown",
   "id": "097bb3ab",
   "metadata": {},
   "source": [
    "### 44. Stamina\n",
    "\n",
    "Player's stamina."
   ]
  },
  {
   "cell_type": "code",
   "execution_count": null,
   "id": "cfcbf691",
   "metadata": {},
   "outputs": [],
   "source": []
  },
  {
   "cell_type": "markdown",
   "id": "f2ca2511",
   "metadata": {},
   "source": [
    "### 45. Strength\n",
    "\n",
    "Player's physical strength."
   ]
  },
  {
   "cell_type": "code",
   "execution_count": null,
   "id": "3b15baef",
   "metadata": {},
   "outputs": [],
   "source": []
  },
  {
   "cell_type": "markdown",
   "id": "dd48c345",
   "metadata": {},
   "source": [
    "### 46. Long Shots\n",
    "\n",
    "Player's ability to score from long range"
   ]
  },
  {
   "cell_type": "code",
   "execution_count": null,
   "id": "74508035",
   "metadata": {},
   "outputs": [],
   "source": []
  },
  {
   "cell_type": "markdown",
   "id": "a739a791",
   "metadata": {},
   "source": [
    "### 47. Mentality\n",
    "\n",
    "Composite rating of the player's mental abilities."
   ]
  },
  {
   "cell_type": "code",
   "execution_count": null,
   "id": "e62084b6",
   "metadata": {},
   "outputs": [],
   "source": []
  },
  {
   "cell_type": "markdown",
   "id": "37e6d231",
   "metadata": {},
   "source": [
    "### 48. Aggression\n",
    "\n",
    "Player's aggression on the field."
   ]
  },
  {
   "cell_type": "code",
   "execution_count": null,
   "id": "4f8f11c7",
   "metadata": {},
   "outputs": [],
   "source": []
  },
  {
   "cell_type": "markdown",
   "id": "062b6826",
   "metadata": {},
   "source": [
    "### 49. Interceptions\n",
    "\n",
    "Player's ability to intercept passes."
   ]
  },
  {
   "cell_type": "code",
   "execution_count": null,
   "id": "54c51db8",
   "metadata": {},
   "outputs": [],
   "source": []
  },
  {
   "cell_type": "markdown",
   "id": "d2db0b30",
   "metadata": {},
   "source": [
    "### 50. Positioning\n",
    "\n",
    "Player's ability to position themselves well on the field."
   ]
  },
  {
   "cell_type": "code",
   "execution_count": null,
   "id": "d7d0ea0f",
   "metadata": {},
   "outputs": [],
   "source": []
  },
  {
   "cell_type": "markdown",
   "id": "17ff0bd7",
   "metadata": {},
   "source": [
    "### 51. Vision\n",
    "\n",
    "Players ability to see and execute passes."
   ]
  },
  {
   "cell_type": "code",
   "execution_count": null,
   "id": "8933ab14",
   "metadata": {},
   "outputs": [],
   "source": []
  },
  {
   "cell_type": "markdown",
   "id": "624247b9",
   "metadata": {},
   "source": [
    "### 52. Penalties\n",
    "\n",
    "Player's ability to score penalties."
   ]
  },
  {
   "cell_type": "code",
   "execution_count": null,
   "id": "b473c292",
   "metadata": {},
   "outputs": [],
   "source": []
  },
  {
   "cell_type": "markdown",
   "id": "97f20ee9",
   "metadata": {},
   "source": [
    "### 53. Composure\n",
    "\n",
    "Player's composure under pressure."
   ]
  },
  {
   "cell_type": "code",
   "execution_count": null,
   "id": "c76aea26",
   "metadata": {},
   "outputs": [],
   "source": []
  },
  {
   "cell_type": "markdown",
   "id": "3ebc4e77",
   "metadata": {},
   "source": [
    "### 54. Defending\n",
    "\n",
    "Composite rating of the player's defensive abilities."
   ]
  },
  {
   "cell_type": "code",
   "execution_count": null,
   "id": "abf2e9b4",
   "metadata": {},
   "outputs": [],
   "source": []
  },
  {
   "cell_type": "markdown",
   "id": "2984f896",
   "metadata": {},
   "source": [
    "### 55. Marking\n",
    "\n",
    "Player's ability to mark opposing players."
   ]
  },
  {
   "cell_type": "code",
   "execution_count": 175,
   "id": "1b313801",
   "metadata": {},
   "outputs": [
    {
     "data": {
      "text/plain": [
       "array([32, 28, 27, 68, 35, 38, 15, 34, 25, 93, 42, 84, 20, 17, 47, 85, 30,\n",
       "       89, 82, 29, 56, 91, 72, 59, 79, 49, 83, 86, 50, 60, 94, 41, 57, 78,\n",
       "       63, 88, 90,  9, 58, 74, 39, 92, 45, 36, 44, 87, 70, 76, 53, 80, 67,\n",
       "       77, 12, 48, 55, 75, 81, 11, 64, 69, 14, 24, 52, 65, 19, 31, 13, 10,\n",
       "       66, 71, 54, 46, 22, 40, 18, 51, 37, 43, 61, 26, 73, 21,  7, 33, 62,\n",
       "       16, 23,  8,  6,  5,  4,  3], dtype=int64)"
      ]
     },
     "execution_count": 175,
     "metadata": {},
     "output_type": "execute_result"
    }
   ],
   "source": [
    "fifa['Marking'].unique()"
   ]
  },
  {
   "cell_type": "markdown",
   "id": "2726f4c8",
   "metadata": {},
   "source": [
    "### 56. Standing Tackle\n",
    "\n",
    "Player's ability to make standing tackles."
   ]
  },
  {
   "cell_type": "code",
   "execution_count": null,
   "id": "2f9af453",
   "metadata": {},
   "outputs": [],
   "source": []
  },
  {
   "cell_type": "markdown",
   "id": "75375c36",
   "metadata": {},
   "source": [
    "### 57. Sliding Tackle\n",
    "\n",
    "Player's ability to make sliding tackles."
   ]
  },
  {
   "cell_type": "code",
   "execution_count": null,
   "id": "57cc8f10",
   "metadata": {},
   "outputs": [],
   "source": []
  },
  {
   "cell_type": "markdown",
   "id": "3d8bc7e3",
   "metadata": {},
   "source": [
    "### 58. Goalkeeping\n",
    "\n",
    "Composite rating of the player's goalkeeping abilities. Only for goalkeepers"
   ]
  },
  {
   "cell_type": "code",
   "execution_count": null,
   "id": "79cf0370",
   "metadata": {},
   "outputs": [],
   "source": []
  },
  {
   "cell_type": "markdown",
   "id": "c8a087fb",
   "metadata": {},
   "source": [
    "### 59. GK Diving\n",
    "\n",
    "Goalkeeper's ability to dive to make saves."
   ]
  },
  {
   "cell_type": "code",
   "execution_count": null,
   "id": "dd3811fd",
   "metadata": {},
   "outputs": [],
   "source": []
  },
  {
   "cell_type": "markdown",
   "id": "3a1d3d9b",
   "metadata": {},
   "source": [
    "### 60. GK Handling\n",
    "\n",
    "Goalkeeper's ability to handle the ball"
   ]
  },
  {
   "cell_type": "code",
   "execution_count": null,
   "id": "34b359e0",
   "metadata": {},
   "outputs": [],
   "source": []
  },
  {
   "cell_type": "markdown",
   "id": "67f5d859",
   "metadata": {},
   "source": [
    "### 61. GK Kicking\n",
    "\n",
    "Goalkeeper's ability to kick the ball."
   ]
  },
  {
   "cell_type": "code",
   "execution_count": null,
   "id": "fa510f25",
   "metadata": {},
   "outputs": [],
   "source": []
  },
  {
   "cell_type": "markdown",
   "id": "c07d8263",
   "metadata": {},
   "source": [
    "### 62. GK Positioning\n",
    "\n",
    "Goalkeeper's ability to position themselves well."
   ]
  },
  {
   "cell_type": "code",
   "execution_count": null,
   "id": "e842367a",
   "metadata": {},
   "outputs": [],
   "source": []
  },
  {
   "cell_type": "markdown",
   "id": "31ca2c85",
   "metadata": {},
   "source": [
    "### 63. GK Reflexes\n",
    "\n",
    "Goalkeeper's reflexes"
   ]
  },
  {
   "cell_type": "code",
   "execution_count": 174,
   "id": "efbfc868",
   "metadata": {},
   "outputs": [
    {
     "data": {
      "text/plain": [
       "array([ 8, 11, 90, 13, 10, 14, 89,  6, 12, 88,  7,  9, 15,  5,  3, 37, 85,\n",
       "       86,  4, 16, 82, 83, 84, 87, 78, 80, 20, 18, 79, 81, 19, 77, 17,  2,\n",
       "       74, 71, 76, 73, 75, 72, 69, 46, 66, 51, 70, 34, 67, 23, 68, 45, 65,\n",
       "       21, 59, 54, 47, 61, 64, 63, 62, 60, 58, 56, 57, 55, 53, 50, 52, 49,\n",
       "       48, 44], dtype=int64)"
      ]
     },
     "execution_count": 174,
     "metadata": {},
     "output_type": "execute_result"
    }
   ],
   "source": [
    "fifa['GK Reflexes'].unique()"
   ]
  },
  {
   "cell_type": "markdown",
   "id": "36560c78",
   "metadata": {},
   "source": [
    "### 64. Total Stats\n",
    "\n",
    "Total number of stats in the game"
   ]
  },
  {
   "cell_type": "code",
   "execution_count": 173,
   "id": "69cdbbe3",
   "metadata": {},
   "outputs": [
    {
     "data": {
      "text/plain": [
       "array([2231, 2221, 1413, ...,  757,  747,  956], dtype=int64)"
      ]
     },
     "execution_count": 173,
     "metadata": {},
     "output_type": "execute_result"
    }
   ],
   "source": [
    "fifa['Total Stats'].unique()"
   ]
  },
  {
   "cell_type": "markdown",
   "id": "9ae3d52f",
   "metadata": {},
   "source": [
    "### 65. Base Stats\n",
    "\n",
    "Number of stats used to calculate the player's overall rating."
   ]
  },
  {
   "cell_type": "code",
   "execution_count": 172,
   "id": "328374ac",
   "metadata": {},
   "outputs": [
    {
     "data": {
      "text/plain": [
       "array([466, 464, 489, 485, 451, 457, 470, 490, 484, 455, 469, 463, 468,\n",
       "       497, 442, 439, 473, 452, 498, 449, 477, 401, 446, 447, 465, 430,\n",
       "       461, 422, 476, 460, 453, 467, 471, 399, 424, 441, 459, 438, 437,\n",
       "       454, 428, 445, 431, 474, 421, 435, 448, 475, 403, 444, 443, 419,\n",
       "       405, 420, 423, 396, 388, 482, 478, 385, 394, 480, 433, 450, 462,\n",
       "       456, 436, 434, 429, 400, 440, 425, 410, 458, 398, 413, 373, 406,\n",
       "       408, 472, 426, 407, 432, 427, 415, 481, 417, 372, 380, 418, 383,\n",
       "       414, 409, 412, 411, 386, 362, 402, 390, 404, 391, 416, 375, 389,\n",
       "       361, 397, 366, 392, 393, 382, 368, 387, 352, 376, 384, 378, 379,\n",
       "       341, 354, 369, 395, 357, 381, 377, 344, 360, 370, 338, 333, 367,\n",
       "       363, 349, 355, 345, 358, 348, 374, 351, 343, 342, 353, 321, 350,\n",
       "       365, 364, 371, 327, 331, 359, 347, 356, 339, 319, 317, 335, 346,\n",
       "       329, 315, 324, 322, 325, 332, 336, 337, 330, 316, 313, 306, 307,\n",
       "       328, 310, 340, 308, 318, 334, 301, 289, 302, 320, 323, 326, 311,\n",
       "       297, 314, 304, 292, 305, 312, 294, 287, 300, 299, 285, 303, 288,\n",
       "       278, 296, 277, 309, 291, 283, 286, 293, 295, 298, 276, 282, 272,\n",
       "       284, 290, 271, 275, 279, 281, 262, 263, 280, 268, 270, 269, 264,\n",
       "       273, 265, 252, 267, 257, 274, 266, 259, 247, 261, 251, 233, 239,\n",
       "       253, 258, 254, 260, 244, 240, 255, 256, 250, 238, 243, 249, 248,\n",
       "       245, 241, 232], dtype=int64)"
      ]
     },
     "execution_count": 172,
     "metadata": {},
     "output_type": "execute_result"
    }
   ],
   "source": [
    "fifa['Base Stats'].unique()"
   ]
  },
  {
   "cell_type": "markdown",
   "id": "8a07ba01",
   "metadata": {},
   "source": [
    "### 66. W/F\n",
    "\n",
    "Player's weak foot rating (out of 5)"
   ]
  },
  {
   "cell_type": "code",
   "execution_count": 105,
   "id": "f4ec3c17",
   "metadata": {},
   "outputs": [
    {
     "data": {
      "text/plain": [
       "dtype('O')"
      ]
     },
     "execution_count": 105,
     "metadata": {},
     "output_type": "execute_result"
    }
   ],
   "source": [
    "fifa['W/F'].dtype"
   ]
  },
  {
   "cell_type": "code",
   "execution_count": 108,
   "id": "b6e408dd",
   "metadata": {},
   "outputs": [
    {
     "data": {
      "text/plain": [
       "array(['4 ★', '3 ★', '5 ★', '2 ★', '1 ★'], dtype=object)"
      ]
     },
     "execution_count": 108,
     "metadata": {},
     "output_type": "execute_result"
    }
   ],
   "source": [
    "fifa['W/F'].unique()"
   ]
  },
  {
   "cell_type": "code",
   "execution_count": 122,
   "id": "ae478b0a",
   "metadata": {
    "scrolled": true
   },
   "outputs": [
    {
     "data": {
      "text/plain": [
       "array([4, 3, 5, 2, 1])"
      ]
     },
     "execution_count": 122,
     "metadata": {},
     "output_type": "execute_result"
    }
   ],
   "source": [
    "fifa['W/F'] = fifa['W/F'].str.replace('★', '')\n",
    "fifa['W/F'] = fifa['W/F'].astype(int)\n",
    "fifa['W/F'].unique()"
   ]
  },
  {
   "cell_type": "markdown",
   "id": "9b8947ee",
   "metadata": {},
   "source": [
    "### 67. SM\n",
    "\n",
    "Player's skill moves rating (out of 5)"
   ]
  },
  {
   "cell_type": "code",
   "execution_count": 170,
   "id": "03bf1015",
   "metadata": {},
   "outputs": [
    {
     "data": {
      "text/plain": [
       "array([4, 5, 1, 2, 3])"
      ]
     },
     "execution_count": 170,
     "metadata": {},
     "output_type": "execute_result"
    }
   ],
   "source": [
    "fifa['SM'] = fifa['SM'].str.replace('★', '')\n",
    "fifa['SM'] = fifa['SM'].astype(int)\n",
    "fifa['SM'].unique()"
   ]
  },
  {
   "cell_type": "markdown",
   "id": "005334e3",
   "metadata": {},
   "source": [
    "### 68. A/W\n",
    "\n",
    "Player's attacking work rate (low, medium or high)"
   ]
  },
  {
   "cell_type": "code",
   "execution_count": 169,
   "id": "1ebd39a3",
   "metadata": {},
   "outputs": [
    {
     "data": {
      "text/plain": [
       "array(['Medium', 'High', 'Low'], dtype=object)"
      ]
     },
     "execution_count": 169,
     "metadata": {},
     "output_type": "execute_result"
    }
   ],
   "source": [
    "fifa['A/W'].unique()"
   ]
  },
  {
   "cell_type": "markdown",
   "id": "905d6d76",
   "metadata": {},
   "source": [
    "### 69. D/W\n",
    "\n",
    "Player's defensive work rate (low, medium or high)"
   ]
  },
  {
   "cell_type": "code",
   "execution_count": 168,
   "id": "942b266b",
   "metadata": {},
   "outputs": [
    {
     "data": {
      "text/plain": [
       "array(['Low', 'Medium', 'High'], dtype=object)"
      ]
     },
     "execution_count": 168,
     "metadata": {},
     "output_type": "execute_result"
    }
   ],
   "source": [
    "fifa['D/W'].unique()"
   ]
  },
  {
   "cell_type": "markdown",
   "id": "e0ac8c9f",
   "metadata": {},
   "source": [
    "### 70. IR\n",
    "\n",
    "Player's injury resistance rating (out of 3)"
   ]
  },
  {
   "cell_type": "code",
   "execution_count": 131,
   "id": "32469393",
   "metadata": {},
   "outputs": [
    {
     "data": {
      "text/plain": [
       "array([5, 3, 4, 2, 1])"
      ]
     },
     "execution_count": 131,
     "metadata": {},
     "output_type": "execute_result"
    }
   ],
   "source": [
    "fifa['IR'] = fifa['IR'].str.replace('★', '')\n",
    "fifa['IR'] = fifa['IR'].astype(int)\n",
    "fifa['IR'].unique()"
   ]
  },
  {
   "cell_type": "markdown",
   "id": "17fbd7ee",
   "metadata": {},
   "source": [
    "### 71. PAC\n",
    "\n",
    "Player's pace attribute rating(0-100).\n",
    "\n",
    "It measures the player's speed on the pitch, including their acceleration and sprinting ability. \n",
    "\n",
    "A higher PAC value indicates that the player is faster."
   ]
  },
  {
   "cell_type": "code",
   "execution_count": 133,
   "id": "373c13cf",
   "metadata": {},
   "outputs": [
    {
     "data": {
      "text/plain": [
       "array([85, 89, 87, 76, 91, 78, 93, 86, 96, 88, 94, 65, 84, 74, 71, 77, 68,\n",
       "       75, 54, 79, 83, 80, 81, 82, 63, 67, 90, 66, 42, 73, 70, 64, 57, 58,\n",
       "       69, 72, 50, 59, 92, 60, 62, 55, 52, 56, 61, 53, 45, 37, 95, 43, 44,\n",
       "       46, 48, 49, 47, 34, 39, 40, 51, 41, 36, 32, 33, 30, 31, 38, 35, 28,\n",
       "       29, 25], dtype=int64)"
      ]
     },
     "execution_count": 133,
     "metadata": {},
     "output_type": "execute_result"
    }
   ],
   "source": [
    "fifa['PAC'].unique()"
   ]
  },
  {
   "cell_type": "markdown",
   "id": "31022d31",
   "metadata": {},
   "source": [
    "### 72. SHO\n",
    "\n",
    "Player's shooting attribute rating.(0-100)"
   ]
  },
  {
   "cell_type": "code",
   "execution_count": 134,
   "id": "ed9eea7b",
   "metadata": {},
   "outputs": [
    {
     "data": {
      "text/plain": [
       "array([92, 93, 86, 85, 91, 88, 60, 73, 89, 87, 70, 90, 81, 66, 72, 82, 28,\n",
       "       74, 77, 62, 50, 83, 69, 80, 46, 76, 54, 49, 61, 58, 79, 68, 59, 41,\n",
       "       45, 64, 78, 55, 75, 65, 63, 48, 42, 56, 51, 30, 47, 84, 40, 57, 25,\n",
       "       71, 37, 43, 53, 67, 38, 52, 39, 35, 36, 44, 32, 34, 33, 31, 27, 22,\n",
       "       29, 26, 23, 18, 24, 20, 16, 21, 19, 17], dtype=int64)"
      ]
     },
     "execution_count": 134,
     "metadata": {},
     "output_type": "execute_result"
    }
   ],
   "source": [
    "fifa['SHO'].unique()"
   ]
  },
  {
   "cell_type": "markdown",
   "id": "029d7ada",
   "metadata": {},
   "source": [
    "### 73. PAS\n",
    "\n",
    "Player's passing attribute rating.(0-100)"
   ]
  },
  {
   "cell_type": "code",
   "execution_count": 136,
   "id": "1080f952",
   "metadata": {},
   "outputs": [
    {
     "data": {
      "text/plain": [
       "array([91, 81, 78, 93, 86, 85, 88, 71, 80, 76, 74, 77, 79, 84, 73, 55, 83,\n",
       "       87, 72, 75, 58, 89, 82, 68, 67, 64, 66, 59, 69, 90, 65, 53, 63, 62,\n",
       "       70, 56, 42, 54, 61, 57, 60, 48, 52, 47, 46, 44, 45, 50, 51, 49, 43,\n",
       "       36, 38, 40, 41, 35, 39, 34, 33, 37, 30, 32, 29, 31, 26, 28, 25, 27],\n",
       "      dtype=int64)"
      ]
     },
     "execution_count": 136,
     "metadata": {},
     "output_type": "execute_result"
    }
   ],
   "source": [
    "fifa['PAS'].unique()"
   ]
  },
  {
   "cell_type": "markdown",
   "id": "b0e661e5",
   "metadata": {},
   "source": [
    "### 74. DRI\n",
    "\n",
    "Player's dribbling attribute rating.(0-100)"
   ]
  },
  {
   "cell_type": "code",
   "execution_count": 137,
   "id": "742ca016",
   "metadata": {},
   "outputs": [
    {
     "data": {
      "text/plain": [
       "array([95, 89, 90, 88, 94, 85, 91, 71, 72, 86, 73, 81, 84, 92, 80, 68, 77,\n",
       "       87, 60, 83, 78, 64, 67, 79, 69, 66, 65, 70, 82, 75, 61, 74, 54, 76,\n",
       "       49, 63, 59, 62, 56, 55, 50, 57, 58, 52, 53, 51, 48, 47, 46, 39, 44,\n",
       "       43, 36, 40, 45, 41, 37, 34, 35, 42, 32, 38, 31, 33, 30, 29, 28, 25,\n",
       "       27], dtype=int64)"
      ]
     },
     "execution_count": 137,
     "metadata": {},
     "output_type": "execute_result"
    }
   ],
   "source": [
    "fifa['DRI'].unique()"
   ]
  },
  {
   "cell_type": "markdown",
   "id": "7e459d18",
   "metadata": {},
   "source": [
    "### 75. DEF\n",
    "\n",
    "Player's defending attribute rating."
   ]
  },
  {
   "cell_type": "code",
   "execution_count": 138,
   "id": "b43f2134",
   "metadata": {},
   "outputs": [
    {
     "data": {
      "text/plain": [
       "array([38, 35, 52, 64, 36, 43, 45, 51, 39, 91, 44, 86, 48, 57, 40, 88, 33,\n",
       "       81, 63, 47, 53, 89, 71, 37, 80, 68, 85, 61, 90, 83, 49, 56, 58, 82,\n",
       "       87, 79, 66, 55, 78, 32, 50, 76, 77, 70, 75, 41, 29, 73, 65, 59, 84,\n",
       "       54, 72, 46, 42, 69, 34, 31, 30, 74, 24, 62, 25, 20, 26, 60, 27, 23,\n",
       "       28, 67, 22, 19, 18, 21, 17, 15, 16, 12], dtype=int64)"
      ]
     },
     "execution_count": 138,
     "metadata": {},
     "output_type": "execute_result"
    }
   ],
   "source": [
    "fifa['DEF'].unique()"
   ]
  },
  {
   "cell_type": "markdown",
   "id": "abf95301",
   "metadata": {},
   "source": [
    "### 76. PHY\n",
    "\n",
    "Player's physical attribute rating."
   ]
  },
  {
   "cell_type": "code",
   "execution_count": 140,
   "id": "84fbf8cb",
   "metadata": {},
   "outputs": [
    {
     "data": {
      "text/plain": [
       "array([65, 77, 90, 78, 59, 82, 75, 91, 76, 88, 86, 85, 73, 67, 79, 63, 83,\n",
       "       89, 66, 69, 72, 64, 71, 81, 87, 68, 84, 80, 55, 70, 44, 62, 51, 57,\n",
       "       60, 58, 56, 74, 52, 61, 53, 45, 50, 54, 47, 48, 49, 42, 37, 40, 39,\n",
       "       43, 38, 46, 41, 34, 35, 36, 31, 32, 33, 29, 28], dtype=int64)"
      ]
     },
     "execution_count": 140,
     "metadata": {},
     "output_type": "execute_result"
    }
   ],
   "source": [
    "fifa['PHY'].unique()"
   ]
  },
  {
   "cell_type": "markdown",
   "id": "1d58fb06",
   "metadata": {},
   "source": [
    "### 77. Hits\n",
    "\n",
    "Number of times the player has been searched for in the FIFA database."
   ]
  },
  {
   "cell_type": "code",
   "execution_count": 142,
   "id": "de20ec49",
   "metadata": {},
   "outputs": [
    {
     "data": {
      "text/plain": [
       "array(['771', '562', '150', '207', '595', '248', '246', '120', '1.6K',\n",
       "       '130', '321', '189', '175', '96', '118', '216', '212', '154',\n",
       "       '205', '202', '339', '408', '103', '332', '86', '173', '161',\n",
       "       '396', '1.1K', '433', '242', '206', '177', '1.5K', '198', '459',\n",
       "       '117', '119', '209', '84', '187', '165', '203', '65', '336', '126',\n",
       "       '313', '124', '145', '538', '182', '101', '45', '377', '99', '194',\n",
       "       '403', '414', '593', '374', '245', '3.2K', '266', '299', '309',\n",
       "       '215', '265', '211', '112', '337', '70', '159', '688', '116', '63',\n",
       "       '144', '123', '71', '224', '113', '168', '61', '89', '137', '278',\n",
       "       '75', '148', '176', '197', '264', '214', '247', '402', '440',\n",
       "       '1.7K', '2.3K', '171', '320', '657', '87', '259', '200', '255',\n",
       "       '253', '196', '60', '97', '85', '169', '256', '132', '239', '166',\n",
       "       '121', '109', '32', '46', '122', '48', '527', '199', '282', '51',\n",
       "       '1.9K', '642', '155', '323', '288', '497', '509', '79', '49',\n",
       "       '270', '511', '80', '128', '115', '156', '204', '143', '140',\n",
       "       '152', '220', '134', '225', '94', '74', '135', '142', '50', '77',\n",
       "       '40', '107', '193', '179', '34', '64', '453', '57', '81', '28',\n",
       "       '78', '133', '43', '425', '88', '42', '36', '233', '376', '210',\n",
       "       '444', '100', '263', '98', '29', '160', '39', '257', '6', '310',\n",
       "       '138', '62', '293', '285', '362', '66', '69', '58', '21', '20',\n",
       "       '131', '38', '406', '68', '108', '110', '93', '512', '443', '306',\n",
       "       '352', '422', '585', '346', '178', '841', '76', '394', '72', '172',\n",
       "       '44', '407', '230', '367', '295', '157', '243', '56', '111', '326',\n",
       "       '679', '18', '92', '59', '25', '184', '53', '12', '90', '55', '73',\n",
       "       '11', '566', '180', '83', '262', '17', '26', '31', '280', '359',\n",
       "       '213', '297', '387', '480', '381', '677', '486', '8', '244', '129',\n",
       "       '388', '275', '319', '2K', '52', '91', '421', '153', '27', '41',\n",
       "       '222', '35', '102', '23', '30', '33', '146', '13', '19', '14',\n",
       "       '106', '276', '568', '353', '47', '478', '249', '254', '369',\n",
       "       '219', '565', '237', '227', '434', '375', '162', '605', '654', '3',\n",
       "       '7', '9', '104', '114', '186', '446', '756', '22', '139', '500',\n",
       "       '67', '147', '149', '16', '82', '54', '37', '15', '1.3K', '3K',\n",
       "       '952', '5', '749', '541', '330', '393', '517', '770', '409', '170',\n",
       "       '125', '283', '342', '363', '580', '105', '217', '24', '141', '10',\n",
       "       '427', '158', '426', '4', '666', '181', '324', '979', '1.4K',\n",
       "       '302', '751', '298', '411', '944', '2', '947', '292', '349', '621',\n",
       "       '1', '2.8K', '338', '287', '261', '218', '1.8K', '240', '279',\n",
       "       '229', '188', '315', '664', '613', '190', '706', '127', '462',\n",
       "       '386', '695', '491', '167', '281', '250', '307', '95', '231',\n",
       "       '174', '680', '633', '221', '348', '602', '183', '653', '195',\n",
       "       '164', '151', '258', '8.4K', '343', '419', '655', '136', '399',\n",
       "       '531', '357', '228', '385', '312', '340', '238', '487', '355',\n",
       "       '499', '4.3K', '296', '515', '943', '1.2K', '903', '335', '191',\n",
       "       '594', '267', '617', '516', '504', '331', '652', '410', '550',\n",
       "       '473', '442', '344', '208', '1K', '2.5K', '273', '485', '826',\n",
       "       '192', '405', '941', '477', '644', '303', '417', '6K', nan, 11.0,\n",
       "       2.0, 1.0, 31.0, 3.0, 10.0, 9.0, 17.0, 7.0, 4.0, 6.0], dtype=object)"
      ]
     },
     "execution_count": 142,
     "metadata": {},
     "output_type": "execute_result"
    }
   ],
   "source": [
    "fifa['Hits'].unique()"
   ]
  },
  {
   "cell_type": "code",
   "execution_count": 166,
   "id": "057cca7b",
   "metadata": {},
   "outputs": [],
   "source": [
    "fifa['Hits'].fillna(0, inplace=True)\n",
    "def convert_hits_column(hits):\n",
    "    if 'K' in str(hits):\n",
    "        return int(hits.strip('K')) * 1000\n",
    "\n",
    "    else: \n",
    "        return int(hits)\n",
    "    \n",
    "# fifa['Hits'] = fifa['Hits'].apply(convert_hits_column)\n",
    "\n",
    "# fifa['Hits'].astype('int')\n",
    "# fifa['Hits'].unique()"
   ]
  },
  {
   "cell_type": "markdown",
   "id": "2129689a",
   "metadata": {},
   "source": [
    "### Look at dtypes of all columns"
   ]
  },
  {
   "cell_type": "code",
   "execution_count": 190,
   "id": "3fdbe78e",
   "metadata": {},
   "outputs": [
    {
     "name": "stdout",
     "output_type": "stream",
     "text": [
      "<class 'pandas.core.frame.DataFrame'>\n",
      "RangeIndex: 18979 entries, 0 to 18978\n",
      "Data columns (total 81 columns):\n",
      " #   Column            Non-Null Count  Dtype  \n",
      "---  ------            --------------  -----  \n",
      " 0   ID                18979 non-null  int64  \n",
      " 1   Name              18979 non-null  object \n",
      " 2   LongName          18979 non-null  object \n",
      " 3   photoUrl          18979 non-null  object \n",
      " 4   playerUrl         18979 non-null  object \n",
      " 5   Nationality       18979 non-null  object \n",
      " 6   Age               18979 non-null  int64  \n",
      " 7   ↓OVA              18979 non-null  int64  \n",
      " 8   POT               18979 non-null  int64  \n",
      " 9   Club              18979 non-null  object \n",
      " 10  Contract          18979 non-null  object \n",
      " 11  ContractStart     17729 non-null  object \n",
      " 12  ContractEnd       17729 non-null  object \n",
      " 13  ContractLength    18979 non-null  float64\n",
      " 14  ContractStatus    18979 non-null  object \n",
      " 15  Positions         18979 non-null  object \n",
      " 16  Height            18979 non-null  int64  \n",
      " 17  Weight            18979 non-null  int64  \n",
      " 18  Preferred Foot    18979 non-null  object \n",
      " 19  BOV               18979 non-null  int64  \n",
      " 20  Best Position     18979 non-null  object \n",
      " 21  Joined            18979 non-null  object \n",
      " 22  Loan Date End     1013 non-null   object \n",
      " 23  Value             18979 non-null  object \n",
      " 24  Wage              18979 non-null  object \n",
      " 25  Release Clause    18979 non-null  object \n",
      " 26  Attacking         18979 non-null  int64  \n",
      " 27  Crossing          18979 non-null  int64  \n",
      " 28  Finishing         18979 non-null  int64  \n",
      " 29  Heading Accuracy  18979 non-null  int64  \n",
      " 30  Short Passing     18979 non-null  int64  \n",
      " 31  Volleys           18979 non-null  int64  \n",
      " 32  Skill             18979 non-null  int64  \n",
      " 33  Dribbling         18979 non-null  int64  \n",
      " 34  Curve             18979 non-null  int64  \n",
      " 35  FK Accuracy       18979 non-null  int64  \n",
      " 36  Long Passing      18979 non-null  int64  \n",
      " 37  Ball Control      18979 non-null  int64  \n",
      " 38  Movement          18979 non-null  int64  \n",
      " 39  Acceleration      18979 non-null  int64  \n",
      " 40  Sprint Speed      18979 non-null  int64  \n",
      " 41  Agility           18979 non-null  int64  \n",
      " 42  Reactions         18979 non-null  int64  \n",
      " 43  Balance           18979 non-null  int64  \n",
      " 44  Power             18979 non-null  int64  \n",
      " 45  Shot Power        18979 non-null  int64  \n",
      " 46  Jumping           18979 non-null  int64  \n",
      " 47  Stamina           18979 non-null  int64  \n",
      " 48  Strength          18979 non-null  int64  \n",
      " 49  Long Shots        18979 non-null  int64  \n",
      " 50  Mentality         18979 non-null  int64  \n",
      " 51  Aggression        18979 non-null  int64  \n",
      " 52  Interceptions     18979 non-null  int64  \n",
      " 53  Positioning       18979 non-null  int64  \n",
      " 54  Vision            18979 non-null  int64  \n",
      " 55  Penalties         18979 non-null  int64  \n",
      " 56  Composure         18979 non-null  int64  \n",
      " 57  Defending         18979 non-null  int64  \n",
      " 58  Marking           18979 non-null  int64  \n",
      " 59  Standing Tackle   18979 non-null  int64  \n",
      " 60  Sliding Tackle    18979 non-null  int64  \n",
      " 61  Goalkeeping       18979 non-null  int64  \n",
      " 62  GK Diving         18979 non-null  int64  \n",
      " 63  GK Handling       18979 non-null  int64  \n",
      " 64  GK Kicking        18979 non-null  int64  \n",
      " 65  GK Positioning    18979 non-null  int64  \n",
      " 66  GK Reflexes       18979 non-null  int64  \n",
      " 67  Total Stats       18979 non-null  int64  \n",
      " 68  Base Stats        18979 non-null  int64  \n",
      " 69  W/F               18979 non-null  int32  \n",
      " 70  SM                18979 non-null  int32  \n",
      " 71  A/W               18979 non-null  object \n",
      " 72  D/W               18979 non-null  object \n",
      " 73  IR                18979 non-null  int32  \n",
      " 74  PAC               18979 non-null  int64  \n",
      " 75  SHO               18979 non-null  int64  \n",
      " 76  PAS               18979 non-null  int64  \n",
      " 77  DRI               18979 non-null  int64  \n",
      " 78  DEF               18979 non-null  int64  \n",
      " 79  PHY               18979 non-null  int64  \n",
      " 80  Hits              18979 non-null  object \n",
      "dtypes: float64(1), int32(3), int64(56), object(21)\n",
      "memory usage: 11.5+ MB\n"
     ]
    }
   ],
   "source": [
    "fifa.info()"
   ]
  },
  {
   "cell_type": "code",
   "execution_count": null,
   "id": "1261434b",
   "metadata": {},
   "outputs": [],
   "source": []
  }
 ],
 "metadata": {
  "kernelspec": {
   "display_name": "Python 3 (ipykernel)",
   "language": "python",
   "name": "python3"
  },
  "language_info": {
   "codemirror_mode": {
    "name": "ipython",
    "version": 3
   },
   "file_extension": ".py",
   "mimetype": "text/x-python",
   "name": "python",
   "nbconvert_exporter": "python",
   "pygments_lexer": "ipython3",
   "version": "3.9.10"
  }
 },
 "nbformat": 4,
 "nbformat_minor": 5
}
